{
  "nbformat": 4,
  "nbformat_minor": 0,
  "metadata": {
    "colab": {
      "name": "Unit_1",
      "provenance": [],
      "collapsed_sections": []
    },
    "kernelspec": {
      "name": "python3",
      "display_name": "Python 3"
    },
    "language_info": {
      "name": "python"
    }
  },
  "cells": [
    {
      "cell_type": "markdown",
      "metadata": {
        "id": "zltTGDSd9OAW"
      },
      "source": [
        "# 결정트리를 이용한 멜버른 집값 예측"
      ]
    },
    {
      "cell_type": "markdown",
      "metadata": {
        "id": "P3o4aWGb9R_W"
      },
      "source": [
        "## mount Google Drive and unzip zip file"
      ]
    },
    {
      "cell_type": "code",
      "metadata": {
        "colab": {
          "base_uri": "https://localhost:8080/"
        },
        "id": "RD3KiwD26w0T",
        "outputId": "740dc92f-0a49-4a04-ff63-f01340e26597"
      },
      "source": [
        "!ls drive/MyDrive/21_ls"
      ],
      "execution_count": null,
      "outputs": [
        {
          "output_type": "stream",
          "name": "stdout",
          "text": [
            "N\n",
            "input\n",
            "melbourne_data.zip\n",
            "Unit_1\n"
          ]
        }
      ]
    },
    {
      "cell_type": "code",
      "metadata": {
        "id": "QGJYoCLj1M5G",
        "colab": {
          "base_uri": "https://localhost:8080/"
        },
        "outputId": "4e711a71-c9fb-4331-d1b8-f68af31aed53"
      },
      "source": [
        "!unzip drive/MyDrive/21_ls/melbourne_data.zip -d drive/MyDrive/21_ls/input/"
      ],
      "execution_count": null,
      "outputs": [
        {
          "output_type": "stream",
          "name": "stdout",
          "text": [
            "Archive:  drive/MyDrive/21_ls/melbourne_data.zip\n",
            "replace drive/MyDrive/21_ls/input/melb_data.csv? [y]es, [n]o, [A]ll, [N]one, [r]ename: N\n"
          ]
        }
      ]
    },
    {
      "cell_type": "markdown",
      "metadata": {
        "id": "sLOI9cdG9YTu"
      },
      "source": [
        "## 데이터 불러오기, 모델 학습 및 예측"
      ]
    },
    {
      "cell_type": "code",
      "metadata": {
        "id": "nw24J9z21WI-"
      },
      "source": [
        "import numpy as np\n",
        "import pandas as pd\n",
        "\n",
        "from sklearn.tree import DecisionTreeRegressor\n",
        "from sklearn.model_selection import train_test_split\n",
        "from sklearn.metrics import mean_squared_error, r2_score"
      ],
      "execution_count": null,
      "outputs": []
    },
    {
      "cell_type": "code",
      "metadata": {
        "id": "0ew6Uyh61fNr",
        "colab": {
          "base_uri": "https://localhost:8080/"
        },
        "outputId": "0549e3ef-85dc-4f20-a66e-fa42fa4da3ac"
      },
      "source": [
        "melbourne_file_path = 'drive/MyDrive/21_ls/input/melb_data.csv'\n",
        "melbourne_data = pd.read_csv(melbourne_file_path)\n",
        "melbourne_data.columns"
      ],
      "execution_count": null,
      "outputs": [
        {
          "output_type": "execute_result",
          "data": {
            "text/plain": [
              "Index(['Suburb', 'Address', 'Rooms', 'Type', 'Price', 'Method', 'SellerG',\n",
              "       'Date', 'Distance', 'Postcode', 'Bedroom2', 'Bathroom', 'Car',\n",
              "       'Landsize', 'BuildingArea', 'YearBuilt', 'CouncilArea', 'Lattitude',\n",
              "       'Longtitude', 'Regionname', 'Propertycount'],\n",
              "      dtype='object')"
            ]
          },
          "metadata": {},
          "execution_count": 8
        }
      ]
    },
    {
      "cell_type": "code",
      "metadata": {
        "id": "_tJ293OU1p38",
        "colab": {
          "base_uri": "https://localhost:8080/"
        },
        "outputId": "a4633bbf-5fea-4341-c86b-bf6307637744"
      },
      "source": [
        "y = melbourne_data.Price\n",
        "y"
      ],
      "execution_count": null,
      "outputs": [
        {
          "output_type": "execute_result",
          "data": {
            "text/plain": [
              "0        1480000.0\n",
              "1        1035000.0\n",
              "2        1465000.0\n",
              "3         850000.0\n",
              "4        1600000.0\n",
              "           ...    \n",
              "13575    1245000.0\n",
              "13576    1031000.0\n",
              "13577    1170000.0\n",
              "13578    2500000.0\n",
              "13579    1285000.0\n",
              "Name: Price, Length: 13580, dtype: float64"
            ]
          },
          "metadata": {},
          "execution_count": 9
        }
      ]
    },
    {
      "cell_type": "code",
      "metadata": {
        "id": "fqMSKXOB1uit"
      },
      "source": [
        "melbourne_features = ['Rooms', 'Bathroom', 'Landsize', 'Lattitude', 'Longtitude'] # Longitude"
      ],
      "execution_count": null,
      "outputs": []
    },
    {
      "cell_type": "code",
      "metadata": {
        "id": "Chfon_aZ16p9",
        "colab": {
          "base_uri": "https://localhost:8080/",
          "height": 417
        },
        "outputId": "bc4d7f52-3f99-4c4e-f807-5c9ea1eb1dcc"
      },
      "source": [
        "X = melbourne_data[melbourne_features]\n",
        "X"
      ],
      "execution_count": null,
      "outputs": [
        {
          "output_type": "execute_result",
          "data": {
            "text/html": [
              "<div>\n",
              "<style scoped>\n",
              "    .dataframe tbody tr th:only-of-type {\n",
              "        vertical-align: middle;\n",
              "    }\n",
              "\n",
              "    .dataframe tbody tr th {\n",
              "        vertical-align: top;\n",
              "    }\n",
              "\n",
              "    .dataframe thead th {\n",
              "        text-align: right;\n",
              "    }\n",
              "</style>\n",
              "<table border=\"1\" class=\"dataframe\">\n",
              "  <thead>\n",
              "    <tr style=\"text-align: right;\">\n",
              "      <th></th>\n",
              "      <th>Rooms</th>\n",
              "      <th>Bathroom</th>\n",
              "      <th>Landsize</th>\n",
              "      <th>Lattitude</th>\n",
              "      <th>Longtitude</th>\n",
              "    </tr>\n",
              "  </thead>\n",
              "  <tbody>\n",
              "    <tr>\n",
              "      <th>0</th>\n",
              "      <td>2</td>\n",
              "      <td>1.0</td>\n",
              "      <td>202.0</td>\n",
              "      <td>-37.79960</td>\n",
              "      <td>144.99840</td>\n",
              "    </tr>\n",
              "    <tr>\n",
              "      <th>1</th>\n",
              "      <td>2</td>\n",
              "      <td>1.0</td>\n",
              "      <td>156.0</td>\n",
              "      <td>-37.80790</td>\n",
              "      <td>144.99340</td>\n",
              "    </tr>\n",
              "    <tr>\n",
              "      <th>2</th>\n",
              "      <td>3</td>\n",
              "      <td>2.0</td>\n",
              "      <td>134.0</td>\n",
              "      <td>-37.80930</td>\n",
              "      <td>144.99440</td>\n",
              "    </tr>\n",
              "    <tr>\n",
              "      <th>3</th>\n",
              "      <td>3</td>\n",
              "      <td>2.0</td>\n",
              "      <td>94.0</td>\n",
              "      <td>-37.79690</td>\n",
              "      <td>144.99690</td>\n",
              "    </tr>\n",
              "    <tr>\n",
              "      <th>4</th>\n",
              "      <td>4</td>\n",
              "      <td>1.0</td>\n",
              "      <td>120.0</td>\n",
              "      <td>-37.80720</td>\n",
              "      <td>144.99410</td>\n",
              "    </tr>\n",
              "    <tr>\n",
              "      <th>...</th>\n",
              "      <td>...</td>\n",
              "      <td>...</td>\n",
              "      <td>...</td>\n",
              "      <td>...</td>\n",
              "      <td>...</td>\n",
              "    </tr>\n",
              "    <tr>\n",
              "      <th>13575</th>\n",
              "      <td>4</td>\n",
              "      <td>2.0</td>\n",
              "      <td>652.0</td>\n",
              "      <td>-37.90562</td>\n",
              "      <td>145.16761</td>\n",
              "    </tr>\n",
              "    <tr>\n",
              "      <th>13576</th>\n",
              "      <td>3</td>\n",
              "      <td>2.0</td>\n",
              "      <td>333.0</td>\n",
              "      <td>-37.85927</td>\n",
              "      <td>144.87904</td>\n",
              "    </tr>\n",
              "    <tr>\n",
              "      <th>13577</th>\n",
              "      <td>3</td>\n",
              "      <td>2.0</td>\n",
              "      <td>436.0</td>\n",
              "      <td>-37.85274</td>\n",
              "      <td>144.88738</td>\n",
              "    </tr>\n",
              "    <tr>\n",
              "      <th>13578</th>\n",
              "      <td>4</td>\n",
              "      <td>1.0</td>\n",
              "      <td>866.0</td>\n",
              "      <td>-37.85908</td>\n",
              "      <td>144.89299</td>\n",
              "    </tr>\n",
              "    <tr>\n",
              "      <th>13579</th>\n",
              "      <td>4</td>\n",
              "      <td>1.0</td>\n",
              "      <td>362.0</td>\n",
              "      <td>-37.81188</td>\n",
              "      <td>144.88449</td>\n",
              "    </tr>\n",
              "  </tbody>\n",
              "</table>\n",
              "<p>13580 rows × 5 columns</p>\n",
              "</div>"
            ],
            "text/plain": [
              "       Rooms  Bathroom  Landsize  Lattitude  Longtitude\n",
              "0          2       1.0     202.0  -37.79960   144.99840\n",
              "1          2       1.0     156.0  -37.80790   144.99340\n",
              "2          3       2.0     134.0  -37.80930   144.99440\n",
              "3          3       2.0      94.0  -37.79690   144.99690\n",
              "4          4       1.0     120.0  -37.80720   144.99410\n",
              "...      ...       ...       ...        ...         ...\n",
              "13575      4       2.0     652.0  -37.90562   145.16761\n",
              "13576      3       2.0     333.0  -37.85927   144.87904\n",
              "13577      3       2.0     436.0  -37.85274   144.88738\n",
              "13578      4       1.0     866.0  -37.85908   144.89299\n",
              "13579      4       1.0     362.0  -37.81188   144.88449\n",
              "\n",
              "[13580 rows x 5 columns]"
            ]
          },
          "metadata": {},
          "execution_count": 40
        }
      ]
    },
    {
      "cell_type": "code",
      "metadata": {
        "id": "5FbAOr4c19VD",
        "colab": {
          "base_uri": "https://localhost:8080/",
          "height": 295
        },
        "outputId": "525a4e25-2e39-4ac3-e4dc-9e123dc4146c"
      },
      "source": [
        "X.describe()"
      ],
      "execution_count": null,
      "outputs": [
        {
          "output_type": "execute_result",
          "data": {
            "text/html": [
              "<div>\n",
              "<style scoped>\n",
              "    .dataframe tbody tr th:only-of-type {\n",
              "        vertical-align: middle;\n",
              "    }\n",
              "\n",
              "    .dataframe tbody tr th {\n",
              "        vertical-align: top;\n",
              "    }\n",
              "\n",
              "    .dataframe thead th {\n",
              "        text-align: right;\n",
              "    }\n",
              "</style>\n",
              "<table border=\"1\" class=\"dataframe\">\n",
              "  <thead>\n",
              "    <tr style=\"text-align: right;\">\n",
              "      <th></th>\n",
              "      <th>Rooms</th>\n",
              "      <th>Bathroom</th>\n",
              "      <th>Landsize</th>\n",
              "      <th>Lattitude</th>\n",
              "      <th>Longtitude</th>\n",
              "    </tr>\n",
              "  </thead>\n",
              "  <tbody>\n",
              "    <tr>\n",
              "      <th>count</th>\n",
              "      <td>13580.000000</td>\n",
              "      <td>13580.000000</td>\n",
              "      <td>13580.000000</td>\n",
              "      <td>13580.000000</td>\n",
              "      <td>13580.000000</td>\n",
              "    </tr>\n",
              "    <tr>\n",
              "      <th>mean</th>\n",
              "      <td>2.937997</td>\n",
              "      <td>1.534242</td>\n",
              "      <td>558.416127</td>\n",
              "      <td>-37.809203</td>\n",
              "      <td>144.995216</td>\n",
              "    </tr>\n",
              "    <tr>\n",
              "      <th>std</th>\n",
              "      <td>0.955748</td>\n",
              "      <td>0.691712</td>\n",
              "      <td>3990.669241</td>\n",
              "      <td>0.079260</td>\n",
              "      <td>0.103916</td>\n",
              "    </tr>\n",
              "    <tr>\n",
              "      <th>min</th>\n",
              "      <td>1.000000</td>\n",
              "      <td>0.000000</td>\n",
              "      <td>0.000000</td>\n",
              "      <td>-38.182550</td>\n",
              "      <td>144.431810</td>\n",
              "    </tr>\n",
              "    <tr>\n",
              "      <th>25%</th>\n",
              "      <td>2.000000</td>\n",
              "      <td>1.000000</td>\n",
              "      <td>177.000000</td>\n",
              "      <td>-37.856822</td>\n",
              "      <td>144.929600</td>\n",
              "    </tr>\n",
              "    <tr>\n",
              "      <th>50%</th>\n",
              "      <td>3.000000</td>\n",
              "      <td>1.000000</td>\n",
              "      <td>440.000000</td>\n",
              "      <td>-37.802355</td>\n",
              "      <td>145.000100</td>\n",
              "    </tr>\n",
              "    <tr>\n",
              "      <th>75%</th>\n",
              "      <td>3.000000</td>\n",
              "      <td>2.000000</td>\n",
              "      <td>651.000000</td>\n",
              "      <td>-37.756400</td>\n",
              "      <td>145.058305</td>\n",
              "    </tr>\n",
              "    <tr>\n",
              "      <th>max</th>\n",
              "      <td>10.000000</td>\n",
              "      <td>8.000000</td>\n",
              "      <td>433014.000000</td>\n",
              "      <td>-37.408530</td>\n",
              "      <td>145.526350</td>\n",
              "    </tr>\n",
              "  </tbody>\n",
              "</table>\n",
              "</div>"
            ],
            "text/plain": [
              "              Rooms      Bathroom       Landsize     Lattitude    Longtitude\n",
              "count  13580.000000  13580.000000   13580.000000  13580.000000  13580.000000\n",
              "mean       2.937997      1.534242     558.416127    -37.809203    144.995216\n",
              "std        0.955748      0.691712    3990.669241      0.079260      0.103916\n",
              "min        1.000000      0.000000       0.000000    -38.182550    144.431810\n",
              "25%        2.000000      1.000000     177.000000    -37.856822    144.929600\n",
              "50%        3.000000      1.000000     440.000000    -37.802355    145.000100\n",
              "75%        3.000000      2.000000     651.000000    -37.756400    145.058305\n",
              "max       10.000000      8.000000  433014.000000    -37.408530    145.526350"
            ]
          },
          "metadata": {},
          "execution_count": 41
        }
      ]
    },
    {
      "cell_type": "code",
      "metadata": {
        "id": "rcE-IB2W2X5L",
        "colab": {
          "base_uri": "https://localhost:8080/",
          "height": 357
        },
        "outputId": "af0c0704-0f5d-4835-828a-6f198216d774"
      },
      "source": [
        "X.head(10)"
      ],
      "execution_count": null,
      "outputs": [
        {
          "output_type": "execute_result",
          "data": {
            "text/html": [
              "<div>\n",
              "<style scoped>\n",
              "    .dataframe tbody tr th:only-of-type {\n",
              "        vertical-align: middle;\n",
              "    }\n",
              "\n",
              "    .dataframe tbody tr th {\n",
              "        vertical-align: top;\n",
              "    }\n",
              "\n",
              "    .dataframe thead th {\n",
              "        text-align: right;\n",
              "    }\n",
              "</style>\n",
              "<table border=\"1\" class=\"dataframe\">\n",
              "  <thead>\n",
              "    <tr style=\"text-align: right;\">\n",
              "      <th></th>\n",
              "      <th>Rooms</th>\n",
              "      <th>Bathroom</th>\n",
              "      <th>Landsize</th>\n",
              "      <th>Lattitude</th>\n",
              "      <th>Longtitude</th>\n",
              "    </tr>\n",
              "  </thead>\n",
              "  <tbody>\n",
              "    <tr>\n",
              "      <th>0</th>\n",
              "      <td>2</td>\n",
              "      <td>1.0</td>\n",
              "      <td>202.0</td>\n",
              "      <td>-37.7996</td>\n",
              "      <td>144.9984</td>\n",
              "    </tr>\n",
              "    <tr>\n",
              "      <th>1</th>\n",
              "      <td>2</td>\n",
              "      <td>1.0</td>\n",
              "      <td>156.0</td>\n",
              "      <td>-37.8079</td>\n",
              "      <td>144.9934</td>\n",
              "    </tr>\n",
              "    <tr>\n",
              "      <th>2</th>\n",
              "      <td>3</td>\n",
              "      <td>2.0</td>\n",
              "      <td>134.0</td>\n",
              "      <td>-37.8093</td>\n",
              "      <td>144.9944</td>\n",
              "    </tr>\n",
              "    <tr>\n",
              "      <th>3</th>\n",
              "      <td>3</td>\n",
              "      <td>2.0</td>\n",
              "      <td>94.0</td>\n",
              "      <td>-37.7969</td>\n",
              "      <td>144.9969</td>\n",
              "    </tr>\n",
              "    <tr>\n",
              "      <th>4</th>\n",
              "      <td>4</td>\n",
              "      <td>1.0</td>\n",
              "      <td>120.0</td>\n",
              "      <td>-37.8072</td>\n",
              "      <td>144.9941</td>\n",
              "    </tr>\n",
              "    <tr>\n",
              "      <th>5</th>\n",
              "      <td>2</td>\n",
              "      <td>1.0</td>\n",
              "      <td>181.0</td>\n",
              "      <td>-37.8041</td>\n",
              "      <td>144.9953</td>\n",
              "    </tr>\n",
              "    <tr>\n",
              "      <th>6</th>\n",
              "      <td>3</td>\n",
              "      <td>2.0</td>\n",
              "      <td>245.0</td>\n",
              "      <td>-37.8024</td>\n",
              "      <td>144.9993</td>\n",
              "    </tr>\n",
              "    <tr>\n",
              "      <th>7</th>\n",
              "      <td>2</td>\n",
              "      <td>1.0</td>\n",
              "      <td>256.0</td>\n",
              "      <td>-37.8060</td>\n",
              "      <td>144.9954</td>\n",
              "    </tr>\n",
              "    <tr>\n",
              "      <th>8</th>\n",
              "      <td>1</td>\n",
              "      <td>1.0</td>\n",
              "      <td>0.0</td>\n",
              "      <td>-37.8008</td>\n",
              "      <td>144.9973</td>\n",
              "    </tr>\n",
              "    <tr>\n",
              "      <th>9</th>\n",
              "      <td>2</td>\n",
              "      <td>1.0</td>\n",
              "      <td>220.0</td>\n",
              "      <td>-37.8010</td>\n",
              "      <td>144.9989</td>\n",
              "    </tr>\n",
              "  </tbody>\n",
              "</table>\n",
              "</div>"
            ],
            "text/plain": [
              "   Rooms  Bathroom  Landsize  Lattitude  Longtitude\n",
              "0      2       1.0     202.0   -37.7996    144.9984\n",
              "1      2       1.0     156.0   -37.8079    144.9934\n",
              "2      3       2.0     134.0   -37.8093    144.9944\n",
              "3      3       2.0      94.0   -37.7969    144.9969\n",
              "4      4       1.0     120.0   -37.8072    144.9941\n",
              "5      2       1.0     181.0   -37.8041    144.9953\n",
              "6      3       2.0     245.0   -37.8024    144.9993\n",
              "7      2       1.0     256.0   -37.8060    144.9954\n",
              "8      1       1.0       0.0   -37.8008    144.9973\n",
              "9      2       1.0     220.0   -37.8010    144.9989"
            ]
          },
          "metadata": {},
          "execution_count": 42
        }
      ]
    },
    {
      "cell_type": "code",
      "metadata": {
        "id": "F671bzHz2YgS",
        "colab": {
          "base_uri": "https://localhost:8080/"
        },
        "outputId": "dbf9a2c3-c3de-4388-d5f2-2a820abccc32"
      },
      "source": [
        "melbourne_model = DecisionTreeRegressor(random_state=2021)\n",
        "\n",
        "melbourne_model.fit(X, y)"
      ],
      "execution_count": null,
      "outputs": [
        {
          "output_type": "execute_result",
          "data": {
            "text/plain": [
              "DecisionTreeRegressor(ccp_alpha=0.0, criterion='mse', max_depth=None,\n",
              "                      max_features=None, max_leaf_nodes=None,\n",
              "                      min_impurity_decrease=0.0, min_impurity_split=None,\n",
              "                      min_samples_leaf=1, min_samples_split=2,\n",
              "                      min_weight_fraction_leaf=0.0, presort='deprecated',\n",
              "                      random_state=2021, splitter='best')"
            ]
          },
          "metadata": {},
          "execution_count": 43
        }
      ]
    },
    {
      "cell_type": "code",
      "metadata": {
        "id": "L4BTX5DE2bzO",
        "colab": {
          "base_uri": "https://localhost:8080/"
        },
        "outputId": "f1c30ec8-a720-49c2-f162-4ac3e98ce35a"
      },
      "source": [
        "melbourne_model.predict(X.head())"
      ],
      "execution_count": null,
      "outputs": [
        {
          "output_type": "execute_result",
          "data": {
            "text/plain": [
              "array([1480000., 1035000., 1465000.,  850000., 1600000.])"
            ]
          },
          "metadata": {},
          "execution_count": 44
        }
      ]
    },
    {
      "cell_type": "code",
      "metadata": {
        "id": "sCnbCifGFcya",
        "colab": {
          "base_uri": "https://localhost:8080/"
        },
        "outputId": "d4def2be-d885-4520-e9b2-cda79390ec19"
      },
      "source": [
        "melbourne_model.score(X, y) #결정 계수, Coefficient of determination)"
      ],
      "execution_count": null,
      "outputs": [
        {
          "output_type": "execute_result",
          "data": {
            "text/plain": [
              "0.9997390882943573"
            ]
          },
          "metadata": {},
          "execution_count": 45
        }
      ]
    },
    {
      "cell_type": "code",
      "metadata": {
        "id": "jwZo2tFi52La",
        "colab": {
          "base_uri": "https://localhost:8080/"
        },
        "outputId": "6547d7a0-3d7e-4aa7-fe2e-ed85e06a42ab"
      },
      "source": [
        "melbourne_model.predict(X[:5]) - y[:5]"
      ],
      "execution_count": null,
      "outputs": [
        {
          "output_type": "execute_result",
          "data": {
            "text/plain": [
              "0    0.0\n",
              "1    0.0\n",
              "2    0.0\n",
              "3    0.0\n",
              "4    0.0\n",
              "Name: Price, dtype: float64"
            ]
          },
          "metadata": {},
          "execution_count": 46
        }
      ]
    },
    {
      "cell_type": "markdown",
      "metadata": {
        "id": "NoJXs0QZ9KMl"
      },
      "source": [
        "## 모델 '제대로' 평가하기"
      ]
    },
    {
      "cell_type": "code",
      "metadata": {
        "id": "0jZV7Kp37G35",
        "colab": {
          "base_uri": "https://localhost:8080/"
        },
        "outputId": "4884998e-4a23-4ee0-9712-bf32bafaaf0e"
      },
      "source": [
        "X_train, X_test, y_train, y_test = train_test_split(X, y, test_size=0.1, shuffle=False)\n",
        "\n",
        "print(X_train.shape, y_train.shape)\n",
        "print(X_test.shape, y_test.shape)"
      ],
      "execution_count": null,
      "outputs": [
        {
          "output_type": "stream",
          "name": "stdout",
          "text": [
            "(12222, 5) (12222,)\n",
            "(1358, 5) (1358,)\n"
          ]
        }
      ]
    },
    {
      "cell_type": "code",
      "metadata": {
        "id": "L93mwDIN7vzs",
        "colab": {
          "base_uri": "https://localhost:8080/"
        },
        "outputId": "8772ad7c-5a28-4d9e-fadf-ff8b4b0c3ae0"
      },
      "source": [
        "melbourne_model.fit(X_train, y_train)"
      ],
      "execution_count": null,
      "outputs": [
        {
          "output_type": "execute_result",
          "data": {
            "text/plain": [
              "DecisionTreeRegressor(ccp_alpha=0.0, criterion='mse', max_depth=None,\n",
              "                      max_features=None, max_leaf_nodes=None,\n",
              "                      min_impurity_decrease=0.0, min_impurity_split=None,\n",
              "                      min_samples_leaf=1, min_samples_split=2,\n",
              "                      min_weight_fraction_leaf=0.0, presort='deprecated',\n",
              "                      random_state=2021, splitter='best')"
            ]
          },
          "metadata": {},
          "execution_count": 48
        }
      ]
    },
    {
      "cell_type": "code",
      "metadata": {
        "id": "XNPsWMBT73PY",
        "colab": {
          "base_uri": "https://localhost:8080/"
        },
        "outputId": "bf7b1b55-4059-4673-b26f-7050de849df2"
      },
      "source": [
        "melbourne_model.predict(X_train.head())"
      ],
      "execution_count": null,
      "outputs": [
        {
          "output_type": "execute_result",
          "data": {
            "text/plain": [
              "array([1480000., 1035000., 1465000.,  850000., 1600000.])"
            ]
          },
          "metadata": {},
          "execution_count": 49
        }
      ]
    },
    {
      "cell_type": "code",
      "metadata": {
        "id": "e18PZPhM74p1",
        "colab": {
          "base_uri": "https://localhost:8080/"
        },
        "outputId": "988d4b5b-7169-406d-db12-beb8896633da"
      },
      "source": [
        "melbourne_model.predict(X_train[:5]) - y_train[:5]"
      ],
      "execution_count": null,
      "outputs": [
        {
          "output_type": "execute_result",
          "data": {
            "text/plain": [
              "0    0.0\n",
              "1    0.0\n",
              "2    0.0\n",
              "3    0.0\n",
              "4    0.0\n",
              "Name: Price, dtype: float64"
            ]
          },
          "metadata": {},
          "execution_count": 50
        }
      ]
    },
    {
      "cell_type": "code",
      "metadata": {
        "id": "mAkRWrDd751L",
        "colab": {
          "base_uri": "https://localhost:8080/"
        },
        "outputId": "d63b2692-8bd8-4da5-ed8e-97a099808030"
      },
      "source": [
        "melbourne_model.predict(X_test)[:5] - y_test[:5]"
      ],
      "execution_count": null,
      "outputs": [
        {
          "output_type": "execute_result",
          "data": {
            "text/plain": [
              "12222     115000.0\n",
              "12223      25000.0\n",
              "12224     -36000.0\n",
              "12225    -291000.0\n",
              "12226    1150000.0\n",
              "Name: Price, dtype: float64"
            ]
          },
          "metadata": {},
          "execution_count": 51
        }
      ]
    },
    {
      "cell_type": "code",
      "metadata": {
        "id": "jChHkdiK8nJa",
        "colab": {
          "base_uri": "https://localhost:8080/"
        },
        "outputId": "73a25849-8e81-47fe-948b-74f240e62890"
      },
      "source": [
        "melbourne_model.score(X_train, y_train)"
      ],
      "execution_count": null,
      "outputs": [
        {
          "output_type": "execute_result",
          "data": {
            "text/plain": [
              "0.9997104417677788"
            ]
          },
          "metadata": {},
          "execution_count": 52
        }
      ]
    },
    {
      "cell_type": "code",
      "metadata": {
        "id": "ZRF4FoBf88K4",
        "colab": {
          "base_uri": "https://localhost:8080/"
        },
        "outputId": "c4c3880f-13bd-4e6e-9a12-1dda34be9b7e"
      },
      "source": [
        "dt_r2 = melbourne_model.score(X_test, y_test)\n",
        "dt_r2"
      ],
      "execution_count": null,
      "outputs": [
        {
          "output_type": "execute_result",
          "data": {
            "text/plain": [
              "0.405412915944668"
            ]
          },
          "metadata": {},
          "execution_count": 53
        }
      ]
    },
    {
      "cell_type": "markdown",
      "metadata": {
        "id": "TJ-iWjAo9iFm"
      },
      "source": [
        "### 바꿔보기\n",
        "1. Light GBM 모델로 변경\n",
        "2. 사용하는 feature 변경\n",
        "3. 모델 파라미터 조정\n",
        "4. Dataset split 비율 조정\n",
        "5. 여러분들이 배우셨던 통계 지식 활용"
      ]
    },
    {
      "cell_type": "markdown",
      "metadata": {
        "id": "rPs0_zvs-_wo"
      },
      "source": [
        "## Light GBM"
      ]
    },
    {
      "cell_type": "code",
      "metadata": {
        "id": "HIlcb6gu9AmK"
      },
      "source": [
        "import lightgbm"
      ],
      "execution_count": null,
      "outputs": []
    },
    {
      "cell_type": "code",
      "metadata": {
        "id": "if2cBCfW_DnW"
      },
      "source": [
        "train_data = lightgbm.Dataset(X_train, label=y_train) #categorical_feature=categorical_features\n",
        "test_data = lightgbm.Dataset(X_test, label=y_test)"
      ],
      "execution_count": null,
      "outputs": []
    },
    {
      "cell_type": "markdown",
      "metadata": {
        "id": "T7czqN2vGmCK"
      },
      "source": [
        ""
      ]
    },
    {
      "cell_type": "code",
      "metadata": {
        "id": "LSTiDDsF_T3c"
      },
      "source": [
        "parameters = {\n",
        "    'objective': 'regression',\n",
        "    'metric': 'rmse',\n",
        "    'boosting': 'gbdt',\n",
        "    'num_leaves': 16,\n",
        "    'learning_rate': 0.05,\n",
        "}"
      ],
      "execution_count": null,
      "outputs": []
    },
    {
      "cell_type": "code",
      "metadata": {
        "id": "D37HF2OB_RKY",
        "colab": {
          "base_uri": "https://localhost:8080/"
        },
        "outputId": "4956220c-880d-4b93-f504-9f29d42c4682"
      },
      "source": [
        "lgbm_model = lightgbm.train(parameters,\n",
        "                       train_data,\n",
        "                       valid_sets=test_data,\n",
        "                       num_boost_round=500,\n",
        "                       early_stopping_rounds=10)"
      ],
      "execution_count": null,
      "outputs": [
        {
          "output_type": "stream",
          "name": "stdout",
          "text": [
            "[1]\tvalid_0's rmse: 620700\n",
            "Training until validation scores don't improve for 10 rounds.\n",
            "[2]\tvalid_0's rmse: 605850\n",
            "[3]\tvalid_0's rmse: 592389\n",
            "[4]\tvalid_0's rmse: 578680\n",
            "[5]\tvalid_0's rmse: 565619\n",
            "[6]\tvalid_0's rmse: 554082\n",
            "[7]\tvalid_0's rmse: 543029\n",
            "[8]\tvalid_0's rmse: 531924\n",
            "[9]\tvalid_0's rmse: 522045\n",
            "[10]\tvalid_0's rmse: 512820\n",
            "[11]\tvalid_0's rmse: 504718\n",
            "[12]\tvalid_0's rmse: 496064\n",
            "[13]\tvalid_0's rmse: 488444\n",
            "[14]\tvalid_0's rmse: 481151\n",
            "[15]\tvalid_0's rmse: 474415\n",
            "[16]\tvalid_0's rmse: 467178\n",
            "[17]\tvalid_0's rmse: 460496\n",
            "[18]\tvalid_0's rmse: 454951\n",
            "[19]\tvalid_0's rmse: 448631\n",
            "[20]\tvalid_0's rmse: 443358\n",
            "[21]\tvalid_0's rmse: 438340\n",
            "[22]\tvalid_0's rmse: 433881\n",
            "[23]\tvalid_0's rmse: 428358\n",
            "[24]\tvalid_0's rmse: 423123\n",
            "[25]\tvalid_0's rmse: 418874\n",
            "[26]\tvalid_0's rmse: 415131\n",
            "[27]\tvalid_0's rmse: 410558\n",
            "[28]\tvalid_0's rmse: 406261\n",
            "[29]\tvalid_0's rmse: 402172\n",
            "[30]\tvalid_0's rmse: 398312\n",
            "[31]\tvalid_0's rmse: 394608\n",
            "[32]\tvalid_0's rmse: 390966\n",
            "[33]\tvalid_0's rmse: 387144\n",
            "[34]\tvalid_0's rmse: 383939\n",
            "[35]\tvalid_0's rmse: 380711\n",
            "[36]\tvalid_0's rmse: 377591\n",
            "[37]\tvalid_0's rmse: 374544\n",
            "[38]\tvalid_0's rmse: 371548\n",
            "[39]\tvalid_0's rmse: 368827\n",
            "[40]\tvalid_0's rmse: 365764\n",
            "[41]\tvalid_0's rmse: 363492\n",
            "[42]\tvalid_0's rmse: 360384\n",
            "[43]\tvalid_0's rmse: 358114\n",
            "[44]\tvalid_0's rmse: 356037\n",
            "[45]\tvalid_0's rmse: 353811\n",
            "[46]\tvalid_0's rmse: 352417\n",
            "[47]\tvalid_0's rmse: 350189\n",
            "[48]\tvalid_0's rmse: 348760\n",
            "[49]\tvalid_0's rmse: 346299\n",
            "[50]\tvalid_0's rmse: 344252\n",
            "[51]\tvalid_0's rmse: 342065\n",
            "[52]\tvalid_0's rmse: 340344\n",
            "[53]\tvalid_0's rmse: 338935\n",
            "[54]\tvalid_0's rmse: 337026\n",
            "[55]\tvalid_0's rmse: 336255\n",
            "[56]\tvalid_0's rmse: 334515\n",
            "[57]\tvalid_0's rmse: 333392\n",
            "[58]\tvalid_0's rmse: 332578\n",
            "[59]\tvalid_0's rmse: 330941\n",
            "[60]\tvalid_0's rmse: 329766\n",
            "[61]\tvalid_0's rmse: 328593\n",
            "[62]\tvalid_0's rmse: 328077\n",
            "[63]\tvalid_0's rmse: 327205\n",
            "[64]\tvalid_0's rmse: 326319\n",
            "[65]\tvalid_0's rmse: 325152\n",
            "[66]\tvalid_0's rmse: 324543\n",
            "[67]\tvalid_0's rmse: 323838\n",
            "[68]\tvalid_0's rmse: 322957\n",
            "[69]\tvalid_0's rmse: 322055\n",
            "[70]\tvalid_0's rmse: 321127\n",
            "[71]\tvalid_0's rmse: 320373\n",
            "[72]\tvalid_0's rmse: 319574\n",
            "[73]\tvalid_0's rmse: 318644\n",
            "[74]\tvalid_0's rmse: 318076\n",
            "[75]\tvalid_0's rmse: 317088\n",
            "[76]\tvalid_0's rmse: 316428\n",
            "[77]\tvalid_0's rmse: 315657\n",
            "[78]\tvalid_0's rmse: 315328\n",
            "[79]\tvalid_0's rmse: 314733\n",
            "[80]\tvalid_0's rmse: 314473\n",
            "[81]\tvalid_0's rmse: 314067\n",
            "[82]\tvalid_0's rmse: 313339\n",
            "[83]\tvalid_0's rmse: 312638\n",
            "[84]\tvalid_0's rmse: 312173\n",
            "[85]\tvalid_0's rmse: 311675\n",
            "[86]\tvalid_0's rmse: 311445\n",
            "[87]\tvalid_0's rmse: 311082\n",
            "[88]\tvalid_0's rmse: 310704\n",
            "[89]\tvalid_0's rmse: 310496\n",
            "[90]\tvalid_0's rmse: 309917\n",
            "[91]\tvalid_0's rmse: 309506\n",
            "[92]\tvalid_0's rmse: 309086\n",
            "[93]\tvalid_0's rmse: 308827\n",
            "[94]\tvalid_0's rmse: 308505\n",
            "[95]\tvalid_0's rmse: 308259\n",
            "[96]\tvalid_0's rmse: 308126\n",
            "[97]\tvalid_0's rmse: 307804\n",
            "[98]\tvalid_0's rmse: 307435\n",
            "[99]\tvalid_0's rmse: 306977\n",
            "[100]\tvalid_0's rmse: 306651\n",
            "[101]\tvalid_0's rmse: 306332\n",
            "[102]\tvalid_0's rmse: 305840\n",
            "[103]\tvalid_0's rmse: 305719\n",
            "[104]\tvalid_0's rmse: 305518\n",
            "[105]\tvalid_0's rmse: 305303\n",
            "[106]\tvalid_0's rmse: 305216\n",
            "[107]\tvalid_0's rmse: 305165\n",
            "[108]\tvalid_0's rmse: 304958\n",
            "[109]\tvalid_0's rmse: 304829\n",
            "[110]\tvalid_0's rmse: 304897\n",
            "[111]\tvalid_0's rmse: 304701\n",
            "[112]\tvalid_0's rmse: 304715\n",
            "[113]\tvalid_0's rmse: 304554\n",
            "[114]\tvalid_0's rmse: 304353\n",
            "[115]\tvalid_0's rmse: 304450\n",
            "[116]\tvalid_0's rmse: 304154\n",
            "[117]\tvalid_0's rmse: 303992\n",
            "[118]\tvalid_0's rmse: 304027\n",
            "[119]\tvalid_0's rmse: 303578\n",
            "[120]\tvalid_0's rmse: 303582\n",
            "[121]\tvalid_0's rmse: 303554\n",
            "[122]\tvalid_0's rmse: 303228\n",
            "[123]\tvalid_0's rmse: 303195\n",
            "[124]\tvalid_0's rmse: 303074\n",
            "[125]\tvalid_0's rmse: 302958\n",
            "[126]\tvalid_0's rmse: 302811\n",
            "[127]\tvalid_0's rmse: 302490\n",
            "[128]\tvalid_0's rmse: 302346\n",
            "[129]\tvalid_0's rmse: 302304\n",
            "[130]\tvalid_0's rmse: 302042\n",
            "[131]\tvalid_0's rmse: 301748\n",
            "[132]\tvalid_0's rmse: 301753\n",
            "[133]\tvalid_0's rmse: 301494\n",
            "[134]\tvalid_0's rmse: 301557\n",
            "[135]\tvalid_0's rmse: 301443\n",
            "[136]\tvalid_0's rmse: 301197\n",
            "[137]\tvalid_0's rmse: 301177\n",
            "[138]\tvalid_0's rmse: 301069\n",
            "[139]\tvalid_0's rmse: 301000\n",
            "[140]\tvalid_0's rmse: 300858\n",
            "[141]\tvalid_0's rmse: 300861\n",
            "[142]\tvalid_0's rmse: 300652\n",
            "[143]\tvalid_0's rmse: 300651\n",
            "[144]\tvalid_0's rmse: 300628\n",
            "[145]\tvalid_0's rmse: 300350\n",
            "[146]\tvalid_0's rmse: 300219\n",
            "[147]\tvalid_0's rmse: 300189\n",
            "[148]\tvalid_0's rmse: 300208\n",
            "[149]\tvalid_0's rmse: 300122\n",
            "[150]\tvalid_0's rmse: 300235\n",
            "[151]\tvalid_0's rmse: 300177\n",
            "[152]\tvalid_0's rmse: 300049\n",
            "[153]\tvalid_0's rmse: 299928\n",
            "[154]\tvalid_0's rmse: 299790\n",
            "[155]\tvalid_0's rmse: 299565\n",
            "[156]\tvalid_0's rmse: 299444\n",
            "[157]\tvalid_0's rmse: 299419\n",
            "[158]\tvalid_0's rmse: 299240\n",
            "[159]\tvalid_0's rmse: 299047\n",
            "[160]\tvalid_0's rmse: 298884\n",
            "[161]\tvalid_0's rmse: 298778\n",
            "[162]\tvalid_0's rmse: 298730\n",
            "[163]\tvalid_0's rmse: 298767\n",
            "[164]\tvalid_0's rmse: 298660\n",
            "[165]\tvalid_0's rmse: 298494\n",
            "[166]\tvalid_0's rmse: 298437\n",
            "[167]\tvalid_0's rmse: 298320\n",
            "[168]\tvalid_0's rmse: 298310\n",
            "[169]\tvalid_0's rmse: 298225\n",
            "[170]\tvalid_0's rmse: 298151\n",
            "[171]\tvalid_0's rmse: 298099\n",
            "[172]\tvalid_0's rmse: 298109\n",
            "[173]\tvalid_0's rmse: 298157\n",
            "[174]\tvalid_0's rmse: 298299\n",
            "[175]\tvalid_0's rmse: 298286\n",
            "[176]\tvalid_0's rmse: 298202\n",
            "[177]\tvalid_0's rmse: 297965\n",
            "[178]\tvalid_0's rmse: 297938\n",
            "[179]\tvalid_0's rmse: 297686\n",
            "[180]\tvalid_0's rmse: 297662\n",
            "[181]\tvalid_0's rmse: 297636\n",
            "[182]\tvalid_0's rmse: 297528\n",
            "[183]\tvalid_0's rmse: 297399\n",
            "[184]\tvalid_0's rmse: 297391\n",
            "[185]\tvalid_0's rmse: 297389\n",
            "[186]\tvalid_0's rmse: 297411\n",
            "[187]\tvalid_0's rmse: 297339\n",
            "[188]\tvalid_0's rmse: 297325\n",
            "[189]\tvalid_0's rmse: 297252\n",
            "[190]\tvalid_0's rmse: 297572\n",
            "[191]\tvalid_0's rmse: 297574\n",
            "[192]\tvalid_0's rmse: 297834\n",
            "[193]\tvalid_0's rmse: 297867\n",
            "[194]\tvalid_0's rmse: 297714\n",
            "[195]\tvalid_0's rmse: 297684\n",
            "[196]\tvalid_0's rmse: 297662\n",
            "[197]\tvalid_0's rmse: 297772\n",
            "[198]\tvalid_0's rmse: 297612\n",
            "[199]\tvalid_0's rmse: 297598\n",
            "Early stopping, best iteration is:\n",
            "[189]\tvalid_0's rmse: 297252\n"
          ]
        }
      ]
    },
    {
      "cell_type": "code",
      "metadata": {
        "id": "GKOA2S7q_VvN",
        "colab": {
          "base_uri": "https://localhost:8080/"
        },
        "outputId": "1bd689e3-c887-4ba5-b78e-2f0648221e97"
      },
      "source": [
        "lgbm_model.predict(X_test[:5])"
      ],
      "execution_count": null,
      "outputs": [
        {
          "output_type": "execute_result",
          "data": {
            "text/plain": [
              "array([ 574103.94460752, 1959851.0966476 , 2310908.53231483,\n",
              "       1804196.62121925, 2340710.72683632])"
            ]
          },
          "metadata": {},
          "execution_count": 60
        }
      ]
    },
    {
      "cell_type": "code",
      "metadata": {
        "id": "IfqU9r23CqFh",
        "colab": {
          "base_uri": "https://localhost:8080/"
        },
        "outputId": "e6b7d54b-add4-42b2-bb30-21e9398eaf56"
      },
      "source": [
        "lgbm_model.predict(X_test)[:5] - y_test[:5]"
      ],
      "execution_count": null,
      "outputs": [
        {
          "output_type": "execute_result",
          "data": {
            "text/plain": [
              "12222    -25896.055392\n",
              "12223    174851.096648\n",
              "12224   -339091.467685\n",
              "12225   -146803.378781\n",
              "12226    390710.726836\n",
              "Name: Price, dtype: float64"
            ]
          },
          "metadata": {},
          "execution_count": 61
        }
      ]
    },
    {
      "cell_type": "code",
      "metadata": {
        "id": "D07YcLoFE8fr",
        "colab": {
          "base_uri": "https://localhost:8080/"
        },
        "outputId": "f8c261ae-10e2-48ba-8a10-81381c093796"
      },
      "source": [
        "lgbm_r2 = r2_score(lgbm_model.predict(X_test), y_test)\n",
        "print(dt_r2, lgbm_r2)"
      ],
      "execution_count": null,
      "outputs": [
        {
          "output_type": "stream",
          "name": "stdout",
          "text": [
            "0.405412915944668 0.7166618912536572\n"
          ]
        }
      ]
    },
    {
      "cell_type": "code",
      "metadata": {
        "id": "-ZVLEyRYD1_E",
        "colab": {
          "base_uri": "https://localhost:8080/"
        },
        "outputId": "d0fc75ed-0f35-4167-c58e-c2bdfe352678"
      },
      "source": [
        "dt_mse = mean_squared_error(melbourne_model.predict(X_test), y_test, squared=False)\n",
        "lgbm_mse = mean_squared_error(lgbm_model.predict(X_test), y_test, squared=False)\n",
        "print(dt_mse, lgbm_mse)"
      ],
      "execution_count": null,
      "outputs": [
        {
          "output_type": "stream",
          "name": "stdout",
          "text": [
            "482785.69517584075 294867.29611620615\n"
          ]
        }
      ]
    },
    {
      "cell_type": "code",
      "metadata": {
        "id": "PhIiyjHtG4pn"
      },
      "source": [
        ""
      ],
      "execution_count": null,
      "outputs": []
    }
  ]
}
