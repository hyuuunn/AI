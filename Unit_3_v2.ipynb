{
  "nbformat": 4,
  "nbformat_minor": 0,
  "metadata": {
    "colab": {
      "name": "Unit_3",
      "provenance": [],
      "collapsed_sections": []
    },
    "kernelspec": {
      "name": "python3",
      "display_name": "Python 3"
    },
    "language_info": {
      "name": "python"
    }
  },
  "cells": [
    {
      "cell_type": "code",
      "metadata": {
        "id": "3j34goE2KLLx"
      },
      "source": [
        "import cv2\n",
        "import numpy as np\n",
        "\n",
        "src_img = cv2.imread('../input/image.jpg')\n",
        "src_gray = cv2.cvtColor(src_img, cv2.COLOR_BGR2GRAY)\n",
        "\n",
        "fast_detector = cv2.FastFeatureDetector_create(500)\n",
        "kpts = fast_detector.detect(src_gray, None)\n",
        "\n",
        "src_kpts = cv2.drawKeypoints(src_img, kpts, None)\n",
        "cv2.imshow('FAST detection result', src_kpts)"
      ],
      "execution_count": null,
      "outputs": []
    },
    {
      "cell_type": "code",
      "metadata": {
        "id": "KJz0_zTbQx4a",
        "colab": {
          "base_uri": "https://localhost:8080/"
        },
        "outputId": "f6299fc8-fd4c-4cb5-c142-b881bf812384"
      },
      "source": [
        "import numpy as np\n",
        "from sklearn.decomposition import PCA\n",
        "\n",
        "x = np.array([[-1, -1], [-2, -1], [-3, -2], [1, 1], [2, 1], [3, 2]])\n",
        "pca = PCA(n_components=2)\n",
        "pca.fit(x)\n",
        "\n",
        "print(pca.explained_variance_ratio_)\n",
        "print(pca.singular_values_)"
      ],
      "execution_count": null,
      "outputs": [
        {
          "output_type": "stream",
          "name": "stdout",
          "text": [
            "[0.99244289 0.00755711]\n",
            "[6.30061232 0.54980396]\n"
          ]
        }
      ]
    },
    {
      "cell_type": "code",
      "metadata": {
        "id": "gY940iRtS-23",
        "colab": {
          "base_uri": "https://localhost:8080/"
        },
        "outputId": "d1c8c6eb-a1d4-4648-b683-d656a9966d71"
      },
      "source": [
        "from sklearn.manifold import TSNE\n",
        "\n",
        "tsne = TSNE(n_components=2)\n",
        "y = tsne.fit_transform(x)"
      ],
      "execution_count": null,
      "outputs": [
        {
          "output_type": "stream",
          "name": "stderr",
          "text": [
            "/usr/local/lib/python3.7/dist-packages/sklearn/manifold/_t_sne.py:783: FutureWarning: The default initialization in TSNE will change from 'random' to 'pca' in 1.2.\n",
            "  FutureWarning,\n",
            "/usr/local/lib/python3.7/dist-packages/sklearn/manifold/_t_sne.py:793: FutureWarning: The default learning rate in TSNE will change from 200.0 to 'auto' in 1.2.\n",
            "  FutureWarning,\n"
          ]
        }
      ]
    },
    {
      "cell_type": "markdown",
      "metadata": {
        "id": "zltTGDSd9OAW"
      },
      "source": [
        "# 결정트리를 이용한 멜버른 집값 예측"
      ]
    },
    {
      "cell_type": "markdown",
      "metadata": {
        "id": "U_aKh2ktVvnz"
      },
      "source": [
        "Decision Tree: 0.405412915944668 <br/>\n",
        "Light GBM: 0.7166618912536572"
      ]
    },
    {
      "cell_type": "markdown",
      "metadata": {
        "id": "P3o4aWGb9R_W"
      },
      "source": [
        "## mount Google Drive and unzip zip file"
      ]
    },
    {
      "cell_type": "code",
      "metadata": {
        "id": "RD3KiwD26w0T",
        "colab": {
          "base_uri": "https://localhost:8080/"
        },
        "outputId": "12f09b55-99e6-42e1-f789-60328f19f218"
      },
      "source": [
        "!ls drive/MyDrive/21_ls"
      ],
      "execution_count": null,
      "outputs": [
        {
          "output_type": "stream",
          "name": "stdout",
          "text": [
            "'[러닝스푼즈]머신러닝_가우스킴_1회차_강의자료_v2.pdf'\t  data\n",
            "'[러닝스푼즈]머신러닝_가우스킴_1회차_강의자료_v2.pptx'\t  input\n",
            "'[러닝스푼즈]머신러닝_가우스킴_2회차_강의자료 (1).pptx'   Unit_1\n",
            "'[러닝스푼즈]머신러닝_가우스킴_2회차_강의자료.pptx'\t  Unit_1_v.ipynb\n",
            "'[러닝스푼즈]머신러닝_가우스킴_3회차_강의자료_v2.pdf'\t  Unit_2.ipynb\n",
            "'[러닝스푼즈]머신러닝_가우스킴_3회차_강의자료_v2.pptx'\t  Unit_3\n",
            "'[러닝스푼즈]머신러닝_가우스킴_5회차_강의자료_v2.pptx'\t  Unit_4\n",
            "'[러닝스푼즈]머신러닝_가우스킴_6회차_강의자료.pdf'\t  Unit_4_v2\n",
            "'[러닝스푼즈]머신러닝_가우스킴_6회차_강의자료.pptx'\t  Unit_5.ipynb\n",
            "'[러닝스푼즈]머신러닝_가우스킴_7회차_강의자료.pdf'\t  Unit_6.ipynb\n",
            "'[러닝스푼즈]머신러닝_가우스킴_7회차_강의자료.pptx'\t  Unit_7.ipynb\n",
            "'[러닝스푼즈]머신러닝_가우스킴_8회차_강의자료.pdf'\t  Unit_8.ipynb\n",
            "'[러닝스푼즈]머신러닝_가우스킴_8회차_강의자료.pptx'\n"
          ]
        }
      ]
    },
    {
      "cell_type": "code",
      "metadata": {
        "id": "QGJYoCLj1M5G",
        "colab": {
          "base_uri": "https://localhost:8080/"
        },
        "outputId": "cd47666d-10ee-4276-f78a-36438b428761"
      },
      "source": [
        "# !unzip drive/MyDrive/21_ls/data/melbourne_data.zip -d drive/MyDrive/21_ls/input/"
      ],
      "execution_count": null,
      "outputs": [
        {
          "output_type": "stream",
          "name": "stdout",
          "text": [
            "Archive:  drive/MyDrive/21_ls/data/melbourne_data.zip\n",
            "replace drive/MyDrive/21_ls/input/melb_data.csv? [y]es, [n]o, [A]ll, [N]one, [r]ename: "
          ]
        }
      ]
    },
    {
      "cell_type": "markdown",
      "metadata": {
        "id": "sLOI9cdG9YTu"
      },
      "source": [
        "## 데이터 불러오기, 모델 학습 및 예측"
      ]
    },
    {
      "cell_type": "code",
      "metadata": {
        "id": "nw24J9z21WI-"
      },
      "source": [
        "import numpy as np\n",
        "import pandas as pd\n",
        "\n",
        "from sklearn.tree import DecisionTreeRegressor\n",
        "from sklearn.model_selection import train_test_split\n",
        "from sklearn.metrics import mean_squared_error, r2_score\n",
        "\n",
        "from sklearn.preprocessing import LabelEncoder, OneHotEncoder, MinMaxScaler\n",
        "\n",
        "from matplotlib import pyplot as plt\n",
        "import seaborn as sns"
      ],
      "execution_count": null,
      "outputs": []
    },
    {
      "cell_type": "code",
      "metadata": {
        "id": "0ew6Uyh61fNr",
        "colab": {
          "base_uri": "https://localhost:8080/"
        },
        "outputId": "78842f61-7c72-4940-8f82-65ed87b86ec4"
      },
      "source": [
        "melbourne_file_path = 'drive/MyDrive/21_ls/input/melb_data.csv'\n",
        "melbourne_data = pd.read_csv(melbourne_file_path)\n",
        "melbourne_data.columns"
      ],
      "execution_count": null,
      "outputs": [
        {
          "output_type": "execute_result",
          "data": {
            "text/plain": [
              "Index(['Suburb', 'Address', 'Rooms', 'Type', 'Price', 'Method', 'SellerG',\n",
              "       'Date', 'Distance', 'Postcode', 'Bedroom2', 'Bathroom', 'Car',\n",
              "       'Landsize', 'BuildingArea', 'YearBuilt', 'CouncilArea', 'Lattitude',\n",
              "       'Longtitude', 'Regionname', 'Propertycount'],\n",
              "      dtype='object')"
            ]
          },
          "metadata": {},
          "execution_count": 16
        }
      ]
    },
    {
      "cell_type": "code",
      "metadata": {
        "id": "_tJ293OU1p38",
        "colab": {
          "base_uri": "https://localhost:8080/"
        },
        "outputId": "c795ffcc-b60c-4d05-968d-242f15fd186f"
      },
      "source": [
        "y = melbourne_data.Price\n",
        "y"
      ],
      "execution_count": null,
      "outputs": [
        {
          "output_type": "execute_result",
          "data": {
            "text/plain": [
              "0        1480000.0\n",
              "1        1035000.0\n",
              "2        1465000.0\n",
              "3         850000.0\n",
              "4        1600000.0\n",
              "           ...    \n",
              "13575    1245000.0\n",
              "13576    1031000.0\n",
              "13577    1170000.0\n",
              "13578    2500000.0\n",
              "13579    1285000.0\n",
              "Name: Price, Length: 13580, dtype: float64"
            ]
          },
          "metadata": {},
          "execution_count": 17
        }
      ]
    },
    {
      "cell_type": "code",
      "metadata": {
        "id": "Chfon_aZ16p9",
        "colab": {
          "base_uri": "https://localhost:8080/",
          "height": 250
        },
        "outputId": "cdc98259-aca3-41e0-b9e5-d4cabd3779f1"
      },
      "source": [
        "melbourne_data.head()"
      ],
      "execution_count": null,
      "outputs": [
        {
          "output_type": "execute_result",
          "data": {
            "text/html": [
              "\n",
              "  <div id=\"df-ecdf2e81-793b-4481-873d-c1ce066ce836\">\n",
              "    <div class=\"colab-df-container\">\n",
              "      <div>\n",
              "<style scoped>\n",
              "    .dataframe tbody tr th:only-of-type {\n",
              "        vertical-align: middle;\n",
              "    }\n",
              "\n",
              "    .dataframe tbody tr th {\n",
              "        vertical-align: top;\n",
              "    }\n",
              "\n",
              "    .dataframe thead th {\n",
              "        text-align: right;\n",
              "    }\n",
              "</style>\n",
              "<table border=\"1\" class=\"dataframe\">\n",
              "  <thead>\n",
              "    <tr style=\"text-align: right;\">\n",
              "      <th></th>\n",
              "      <th>Suburb</th>\n",
              "      <th>Address</th>\n",
              "      <th>Rooms</th>\n",
              "      <th>Type</th>\n",
              "      <th>Price</th>\n",
              "      <th>Method</th>\n",
              "      <th>SellerG</th>\n",
              "      <th>Date</th>\n",
              "      <th>Distance</th>\n",
              "      <th>Postcode</th>\n",
              "      <th>Bedroom2</th>\n",
              "      <th>Bathroom</th>\n",
              "      <th>Car</th>\n",
              "      <th>Landsize</th>\n",
              "      <th>BuildingArea</th>\n",
              "      <th>YearBuilt</th>\n",
              "      <th>CouncilArea</th>\n",
              "      <th>Lattitude</th>\n",
              "      <th>Longtitude</th>\n",
              "      <th>Regionname</th>\n",
              "      <th>Propertycount</th>\n",
              "    </tr>\n",
              "  </thead>\n",
              "  <tbody>\n",
              "    <tr>\n",
              "      <th>0</th>\n",
              "      <td>Abbotsford</td>\n",
              "      <td>85 Turner St</td>\n",
              "      <td>2</td>\n",
              "      <td>h</td>\n",
              "      <td>1480000.0</td>\n",
              "      <td>S</td>\n",
              "      <td>Biggin</td>\n",
              "      <td>3/12/2016</td>\n",
              "      <td>2.5</td>\n",
              "      <td>3067.0</td>\n",
              "      <td>2.0</td>\n",
              "      <td>1.0</td>\n",
              "      <td>1.0</td>\n",
              "      <td>202.0</td>\n",
              "      <td>NaN</td>\n",
              "      <td>NaN</td>\n",
              "      <td>Yarra</td>\n",
              "      <td>-37.7996</td>\n",
              "      <td>144.9984</td>\n",
              "      <td>Northern Metropolitan</td>\n",
              "      <td>4019.0</td>\n",
              "    </tr>\n",
              "    <tr>\n",
              "      <th>1</th>\n",
              "      <td>Abbotsford</td>\n",
              "      <td>25 Bloomburg St</td>\n",
              "      <td>2</td>\n",
              "      <td>h</td>\n",
              "      <td>1035000.0</td>\n",
              "      <td>S</td>\n",
              "      <td>Biggin</td>\n",
              "      <td>4/02/2016</td>\n",
              "      <td>2.5</td>\n",
              "      <td>3067.0</td>\n",
              "      <td>2.0</td>\n",
              "      <td>1.0</td>\n",
              "      <td>0.0</td>\n",
              "      <td>156.0</td>\n",
              "      <td>79.0</td>\n",
              "      <td>1900.0</td>\n",
              "      <td>Yarra</td>\n",
              "      <td>-37.8079</td>\n",
              "      <td>144.9934</td>\n",
              "      <td>Northern Metropolitan</td>\n",
              "      <td>4019.0</td>\n",
              "    </tr>\n",
              "    <tr>\n",
              "      <th>2</th>\n",
              "      <td>Abbotsford</td>\n",
              "      <td>5 Charles St</td>\n",
              "      <td>3</td>\n",
              "      <td>h</td>\n",
              "      <td>1465000.0</td>\n",
              "      <td>SP</td>\n",
              "      <td>Biggin</td>\n",
              "      <td>4/03/2017</td>\n",
              "      <td>2.5</td>\n",
              "      <td>3067.0</td>\n",
              "      <td>3.0</td>\n",
              "      <td>2.0</td>\n",
              "      <td>0.0</td>\n",
              "      <td>134.0</td>\n",
              "      <td>150.0</td>\n",
              "      <td>1900.0</td>\n",
              "      <td>Yarra</td>\n",
              "      <td>-37.8093</td>\n",
              "      <td>144.9944</td>\n",
              "      <td>Northern Metropolitan</td>\n",
              "      <td>4019.0</td>\n",
              "    </tr>\n",
              "    <tr>\n",
              "      <th>3</th>\n",
              "      <td>Abbotsford</td>\n",
              "      <td>40 Federation La</td>\n",
              "      <td>3</td>\n",
              "      <td>h</td>\n",
              "      <td>850000.0</td>\n",
              "      <td>PI</td>\n",
              "      <td>Biggin</td>\n",
              "      <td>4/03/2017</td>\n",
              "      <td>2.5</td>\n",
              "      <td>3067.0</td>\n",
              "      <td>3.0</td>\n",
              "      <td>2.0</td>\n",
              "      <td>1.0</td>\n",
              "      <td>94.0</td>\n",
              "      <td>NaN</td>\n",
              "      <td>NaN</td>\n",
              "      <td>Yarra</td>\n",
              "      <td>-37.7969</td>\n",
              "      <td>144.9969</td>\n",
              "      <td>Northern Metropolitan</td>\n",
              "      <td>4019.0</td>\n",
              "    </tr>\n",
              "    <tr>\n",
              "      <th>4</th>\n",
              "      <td>Abbotsford</td>\n",
              "      <td>55a Park St</td>\n",
              "      <td>4</td>\n",
              "      <td>h</td>\n",
              "      <td>1600000.0</td>\n",
              "      <td>VB</td>\n",
              "      <td>Nelson</td>\n",
              "      <td>4/06/2016</td>\n",
              "      <td>2.5</td>\n",
              "      <td>3067.0</td>\n",
              "      <td>3.0</td>\n",
              "      <td>1.0</td>\n",
              "      <td>2.0</td>\n",
              "      <td>120.0</td>\n",
              "      <td>142.0</td>\n",
              "      <td>2014.0</td>\n",
              "      <td>Yarra</td>\n",
              "      <td>-37.8072</td>\n",
              "      <td>144.9941</td>\n",
              "      <td>Northern Metropolitan</td>\n",
              "      <td>4019.0</td>\n",
              "    </tr>\n",
              "  </tbody>\n",
              "</table>\n",
              "</div>\n",
              "      <button class=\"colab-df-convert\" onclick=\"convertToInteractive('df-ecdf2e81-793b-4481-873d-c1ce066ce836')\"\n",
              "              title=\"Convert this dataframe to an interactive table.\"\n",
              "              style=\"display:none;\">\n",
              "        \n",
              "  <svg xmlns=\"http://www.w3.org/2000/svg\" height=\"24px\"viewBox=\"0 0 24 24\"\n",
              "       width=\"24px\">\n",
              "    <path d=\"M0 0h24v24H0V0z\" fill=\"none\"/>\n",
              "    <path d=\"M18.56 5.44l.94 2.06.94-2.06 2.06-.94-2.06-.94-.94-2.06-.94 2.06-2.06.94zm-11 1L8.5 8.5l.94-2.06 2.06-.94-2.06-.94L8.5 2.5l-.94 2.06-2.06.94zm10 10l.94 2.06.94-2.06 2.06-.94-2.06-.94-.94-2.06-.94 2.06-2.06.94z\"/><path d=\"M17.41 7.96l-1.37-1.37c-.4-.4-.92-.59-1.43-.59-.52 0-1.04.2-1.43.59L10.3 9.45l-7.72 7.72c-.78.78-.78 2.05 0 2.83L4 21.41c.39.39.9.59 1.41.59.51 0 1.02-.2 1.41-.59l7.78-7.78 2.81-2.81c.8-.78.8-2.07 0-2.86zM5.41 20L4 18.59l7.72-7.72 1.47 1.35L5.41 20z\"/>\n",
              "  </svg>\n",
              "      </button>\n",
              "      \n",
              "  <style>\n",
              "    .colab-df-container {\n",
              "      display:flex;\n",
              "      flex-wrap:wrap;\n",
              "      gap: 12px;\n",
              "    }\n",
              "\n",
              "    .colab-df-convert {\n",
              "      background-color: #E8F0FE;\n",
              "      border: none;\n",
              "      border-radius: 50%;\n",
              "      cursor: pointer;\n",
              "      display: none;\n",
              "      fill: #1967D2;\n",
              "      height: 32px;\n",
              "      padding: 0 0 0 0;\n",
              "      width: 32px;\n",
              "    }\n",
              "\n",
              "    .colab-df-convert:hover {\n",
              "      background-color: #E2EBFA;\n",
              "      box-shadow: 0px 1px 2px rgba(60, 64, 67, 0.3), 0px 1px 3px 1px rgba(60, 64, 67, 0.15);\n",
              "      fill: #174EA6;\n",
              "    }\n",
              "\n",
              "    [theme=dark] .colab-df-convert {\n",
              "      background-color: #3B4455;\n",
              "      fill: #D2E3FC;\n",
              "    }\n",
              "\n",
              "    [theme=dark] .colab-df-convert:hover {\n",
              "      background-color: #434B5C;\n",
              "      box-shadow: 0px 1px 3px 1px rgba(0, 0, 0, 0.15);\n",
              "      filter: drop-shadow(0px 1px 2px rgba(0, 0, 0, 0.3));\n",
              "      fill: #FFFFFF;\n",
              "    }\n",
              "  </style>\n",
              "\n",
              "      <script>\n",
              "        const buttonEl =\n",
              "          document.querySelector('#df-ecdf2e81-793b-4481-873d-c1ce066ce836 button.colab-df-convert');\n",
              "        buttonEl.style.display =\n",
              "          google.colab.kernel.accessAllowed ? 'block' : 'none';\n",
              "\n",
              "        async function convertToInteractive(key) {\n",
              "          const element = document.querySelector('#df-ecdf2e81-793b-4481-873d-c1ce066ce836');\n",
              "          const dataTable =\n",
              "            await google.colab.kernel.invokeFunction('convertToInteractive',\n",
              "                                                     [key], {});\n",
              "          if (!dataTable) return;\n",
              "\n",
              "          const docLinkHtml = 'Like what you see? Visit the ' +\n",
              "            '<a target=\"_blank\" href=https://colab.research.google.com/notebooks/data_table.ipynb>data table notebook</a>'\n",
              "            + ' to learn more about interactive tables.';\n",
              "          element.innerHTML = '';\n",
              "          dataTable['output_type'] = 'display_data';\n",
              "          await google.colab.output.renderOutput(dataTable, element);\n",
              "          const docLink = document.createElement('div');\n",
              "          docLink.innerHTML = docLinkHtml;\n",
              "          element.appendChild(docLink);\n",
              "        }\n",
              "      </script>\n",
              "    </div>\n",
              "  </div>\n",
              "  "
            ],
            "text/plain": [
              "       Suburb           Address  ...             Regionname Propertycount\n",
              "0  Abbotsford      85 Turner St  ...  Northern Metropolitan        4019.0\n",
              "1  Abbotsford   25 Bloomburg St  ...  Northern Metropolitan        4019.0\n",
              "2  Abbotsford      5 Charles St  ...  Northern Metropolitan        4019.0\n",
              "3  Abbotsford  40 Federation La  ...  Northern Metropolitan        4019.0\n",
              "4  Abbotsford       55a Park St  ...  Northern Metropolitan        4019.0\n",
              "\n",
              "[5 rows x 21 columns]"
            ]
          },
          "metadata": {},
          "execution_count": 18
        }
      ]
    },
    {
      "cell_type": "code",
      "metadata": {
        "id": "5FbAOr4c19VD",
        "colab": {
          "base_uri": "https://localhost:8080/"
        },
        "outputId": "8d64313e-77ae-44f5-ef70-1e2188ec1681"
      },
      "source": [
        "# NaN의 갯수를 범주별로 더하고, 정렬하여 어떤 것 항목에 많이 있는지 확인\n",
        "melbourne_data.isna().sum().sort_values(ascending=False) "
      ],
      "execution_count": null,
      "outputs": [
        {
          "output_type": "execute_result",
          "data": {
            "text/plain": [
              "BuildingArea     6450\n",
              "YearBuilt        5375\n",
              "CouncilArea      1369\n",
              "Car                62\n",
              "Suburb              0\n",
              "Bathroom            0\n",
              "Regionname          0\n",
              "Longtitude          0\n",
              "Lattitude           0\n",
              "Landsize            0\n",
              "Bedroom2            0\n",
              "Address             0\n",
              "Postcode            0\n",
              "Distance            0\n",
              "Date                0\n",
              "SellerG             0\n",
              "Method              0\n",
              "Price               0\n",
              "Type                0\n",
              "Rooms               0\n",
              "Propertycount       0\n",
              "dtype: int64"
            ]
          },
          "metadata": {},
          "execution_count": 19
        }
      ]
    },
    {
      "cell_type": "code",
      "metadata": {
        "id": "rcE-IB2W2X5L",
        "colab": {
          "base_uri": "https://localhost:8080/"
        },
        "outputId": "240c8662-7b11-4f9d-9c09-f0bdefd65a10"
      },
      "source": [
        "# 갯수로 보는 것보다 비율로 보는게 더 이해하기 쉬울 수 있으므로 전체 결측치 수의 비율로 계산\n",
        "(melbourne_data.isna().sum() * 100 / melbourne_data.isna().count()).sort_values(ascending=False)"
      ],
      "execution_count": null,
      "outputs": [
        {
          "output_type": "execute_result",
          "data": {
            "text/plain": [
              "BuildingArea     47.496318\n",
              "YearBuilt        39.580265\n",
              "CouncilArea      10.081001\n",
              "Car               0.456554\n",
              "Suburb            0.000000\n",
              "Bathroom          0.000000\n",
              "Regionname        0.000000\n",
              "Longtitude        0.000000\n",
              "Lattitude         0.000000\n",
              "Landsize          0.000000\n",
              "Bedroom2          0.000000\n",
              "Address           0.000000\n",
              "Postcode          0.000000\n",
              "Distance          0.000000\n",
              "Date              0.000000\n",
              "SellerG           0.000000\n",
              "Method            0.000000\n",
              "Price             0.000000\n",
              "Type              0.000000\n",
              "Rooms             0.000000\n",
              "Propertycount     0.000000\n",
              "dtype: float64"
            ]
          },
          "metadata": {},
          "execution_count": 20
        }
      ]
    },
    {
      "cell_type": "code",
      "metadata": {
        "colab": {
          "base_uri": "https://localhost:8080/",
          "height": 394
        },
        "id": "uUqcHSz-V8Qq",
        "outputId": "8034036c-b9d7-4110-f842-0553bbb8f0c0"
      },
      "source": [
        "# 결측치가 있는 클래스들에 대해서 출력\n",
        "melbourne_data[['BuildingArea', 'YearBuilt', 'CouncilArea', 'Car']].describe(include='all')"
      ],
      "execution_count": null,
      "outputs": [
        {
          "output_type": "execute_result",
          "data": {
            "text/html": [
              "\n",
              "  <div id=\"df-3ef289bb-4375-4e55-acc3-984967e77645\">\n",
              "    <div class=\"colab-df-container\">\n",
              "      <div>\n",
              "<style scoped>\n",
              "    .dataframe tbody tr th:only-of-type {\n",
              "        vertical-align: middle;\n",
              "    }\n",
              "\n",
              "    .dataframe tbody tr th {\n",
              "        vertical-align: top;\n",
              "    }\n",
              "\n",
              "    .dataframe thead th {\n",
              "        text-align: right;\n",
              "    }\n",
              "</style>\n",
              "<table border=\"1\" class=\"dataframe\">\n",
              "  <thead>\n",
              "    <tr style=\"text-align: right;\">\n",
              "      <th></th>\n",
              "      <th>BuildingArea</th>\n",
              "      <th>YearBuilt</th>\n",
              "      <th>CouncilArea</th>\n",
              "      <th>Car</th>\n",
              "    </tr>\n",
              "  </thead>\n",
              "  <tbody>\n",
              "    <tr>\n",
              "      <th>count</th>\n",
              "      <td>7130.000000</td>\n",
              "      <td>8205.000000</td>\n",
              "      <td>12211</td>\n",
              "      <td>13518.000000</td>\n",
              "    </tr>\n",
              "    <tr>\n",
              "      <th>unique</th>\n",
              "      <td>NaN</td>\n",
              "      <td>NaN</td>\n",
              "      <td>33</td>\n",
              "      <td>NaN</td>\n",
              "    </tr>\n",
              "    <tr>\n",
              "      <th>top</th>\n",
              "      <td>NaN</td>\n",
              "      <td>NaN</td>\n",
              "      <td>Moreland</td>\n",
              "      <td>NaN</td>\n",
              "    </tr>\n",
              "    <tr>\n",
              "      <th>freq</th>\n",
              "      <td>NaN</td>\n",
              "      <td>NaN</td>\n",
              "      <td>1163</td>\n",
              "      <td>NaN</td>\n",
              "    </tr>\n",
              "    <tr>\n",
              "      <th>mean</th>\n",
              "      <td>151.967650</td>\n",
              "      <td>1964.684217</td>\n",
              "      <td>NaN</td>\n",
              "      <td>1.610075</td>\n",
              "    </tr>\n",
              "    <tr>\n",
              "      <th>std</th>\n",
              "      <td>541.014538</td>\n",
              "      <td>37.273762</td>\n",
              "      <td>NaN</td>\n",
              "      <td>0.962634</td>\n",
              "    </tr>\n",
              "    <tr>\n",
              "      <th>min</th>\n",
              "      <td>0.000000</td>\n",
              "      <td>1196.000000</td>\n",
              "      <td>NaN</td>\n",
              "      <td>0.000000</td>\n",
              "    </tr>\n",
              "    <tr>\n",
              "      <th>25%</th>\n",
              "      <td>93.000000</td>\n",
              "      <td>1940.000000</td>\n",
              "      <td>NaN</td>\n",
              "      <td>1.000000</td>\n",
              "    </tr>\n",
              "    <tr>\n",
              "      <th>50%</th>\n",
              "      <td>126.000000</td>\n",
              "      <td>1970.000000</td>\n",
              "      <td>NaN</td>\n",
              "      <td>2.000000</td>\n",
              "    </tr>\n",
              "    <tr>\n",
              "      <th>75%</th>\n",
              "      <td>174.000000</td>\n",
              "      <td>1999.000000</td>\n",
              "      <td>NaN</td>\n",
              "      <td>2.000000</td>\n",
              "    </tr>\n",
              "    <tr>\n",
              "      <th>max</th>\n",
              "      <td>44515.000000</td>\n",
              "      <td>2018.000000</td>\n",
              "      <td>NaN</td>\n",
              "      <td>10.000000</td>\n",
              "    </tr>\n",
              "  </tbody>\n",
              "</table>\n",
              "</div>\n",
              "      <button class=\"colab-df-convert\" onclick=\"convertToInteractive('df-3ef289bb-4375-4e55-acc3-984967e77645')\"\n",
              "              title=\"Convert this dataframe to an interactive table.\"\n",
              "              style=\"display:none;\">\n",
              "        \n",
              "  <svg xmlns=\"http://www.w3.org/2000/svg\" height=\"24px\"viewBox=\"0 0 24 24\"\n",
              "       width=\"24px\">\n",
              "    <path d=\"M0 0h24v24H0V0z\" fill=\"none\"/>\n",
              "    <path d=\"M18.56 5.44l.94 2.06.94-2.06 2.06-.94-2.06-.94-.94-2.06-.94 2.06-2.06.94zm-11 1L8.5 8.5l.94-2.06 2.06-.94-2.06-.94L8.5 2.5l-.94 2.06-2.06.94zm10 10l.94 2.06.94-2.06 2.06-.94-2.06-.94-.94-2.06-.94 2.06-2.06.94z\"/><path d=\"M17.41 7.96l-1.37-1.37c-.4-.4-.92-.59-1.43-.59-.52 0-1.04.2-1.43.59L10.3 9.45l-7.72 7.72c-.78.78-.78 2.05 0 2.83L4 21.41c.39.39.9.59 1.41.59.51 0 1.02-.2 1.41-.59l7.78-7.78 2.81-2.81c.8-.78.8-2.07 0-2.86zM5.41 20L4 18.59l7.72-7.72 1.47 1.35L5.41 20z\"/>\n",
              "  </svg>\n",
              "      </button>\n",
              "      \n",
              "  <style>\n",
              "    .colab-df-container {\n",
              "      display:flex;\n",
              "      flex-wrap:wrap;\n",
              "      gap: 12px;\n",
              "    }\n",
              "\n",
              "    .colab-df-convert {\n",
              "      background-color: #E8F0FE;\n",
              "      border: none;\n",
              "      border-radius: 50%;\n",
              "      cursor: pointer;\n",
              "      display: none;\n",
              "      fill: #1967D2;\n",
              "      height: 32px;\n",
              "      padding: 0 0 0 0;\n",
              "      width: 32px;\n",
              "    }\n",
              "\n",
              "    .colab-df-convert:hover {\n",
              "      background-color: #E2EBFA;\n",
              "      box-shadow: 0px 1px 2px rgba(60, 64, 67, 0.3), 0px 1px 3px 1px rgba(60, 64, 67, 0.15);\n",
              "      fill: #174EA6;\n",
              "    }\n",
              "\n",
              "    [theme=dark] .colab-df-convert {\n",
              "      background-color: #3B4455;\n",
              "      fill: #D2E3FC;\n",
              "    }\n",
              "\n",
              "    [theme=dark] .colab-df-convert:hover {\n",
              "      background-color: #434B5C;\n",
              "      box-shadow: 0px 1px 3px 1px rgba(0, 0, 0, 0.15);\n",
              "      filter: drop-shadow(0px 1px 2px rgba(0, 0, 0, 0.3));\n",
              "      fill: #FFFFFF;\n",
              "    }\n",
              "  </style>\n",
              "\n",
              "      <script>\n",
              "        const buttonEl =\n",
              "          document.querySelector('#df-3ef289bb-4375-4e55-acc3-984967e77645 button.colab-df-convert');\n",
              "        buttonEl.style.display =\n",
              "          google.colab.kernel.accessAllowed ? 'block' : 'none';\n",
              "\n",
              "        async function convertToInteractive(key) {\n",
              "          const element = document.querySelector('#df-3ef289bb-4375-4e55-acc3-984967e77645');\n",
              "          const dataTable =\n",
              "            await google.colab.kernel.invokeFunction('convertToInteractive',\n",
              "                                                     [key], {});\n",
              "          if (!dataTable) return;\n",
              "\n",
              "          const docLinkHtml = 'Like what you see? Visit the ' +\n",
              "            '<a target=\"_blank\" href=https://colab.research.google.com/notebooks/data_table.ipynb>data table notebook</a>'\n",
              "            + ' to learn more about interactive tables.';\n",
              "          element.innerHTML = '';\n",
              "          dataTable['output_type'] = 'display_data';\n",
              "          await google.colab.output.renderOutput(dataTable, element);\n",
              "          const docLink = document.createElement('div');\n",
              "          docLink.innerHTML = docLinkHtml;\n",
              "          element.appendChild(docLink);\n",
              "        }\n",
              "      </script>\n",
              "    </div>\n",
              "  </div>\n",
              "  "
            ],
            "text/plain": [
              "        BuildingArea    YearBuilt CouncilArea           Car\n",
              "count    7130.000000  8205.000000       12211  13518.000000\n",
              "unique           NaN          NaN          33           NaN\n",
              "top              NaN          NaN    Moreland           NaN\n",
              "freq             NaN          NaN        1163           NaN\n",
              "mean      151.967650  1964.684217         NaN      1.610075\n",
              "std       541.014538    37.273762         NaN      0.962634\n",
              "min         0.000000  1196.000000         NaN      0.000000\n",
              "25%        93.000000  1940.000000         NaN      1.000000\n",
              "50%       126.000000  1970.000000         NaN      2.000000\n",
              "75%       174.000000  1999.000000         NaN      2.000000\n",
              "max     44515.000000  2018.000000         NaN     10.000000"
            ]
          },
          "metadata": {},
          "execution_count": 21
        }
      ]
    },
    {
      "cell_type": "code",
      "metadata": {
        "colab": {
          "base_uri": "https://localhost:8080/"
        },
        "id": "SqW_SfT9jl5P",
        "outputId": "aaec8775-eef6-45ef-cc5f-7309f37cec15"
      },
      "source": [
        "melbourne_data['CouncilArea'].value_counts()"
      ],
      "execution_count": null,
      "outputs": [
        {
          "output_type": "execute_result",
          "data": {
            "text/plain": [
              "Moreland             1163\n",
              "Boroondara           1160\n",
              "Moonee Valley         997\n",
              "Darebin               934\n",
              "Glen Eira             848\n",
              "Stonnington           719\n",
              "Maribyrnong           692\n",
              "Yarra                 647\n",
              "Port Phillip          628\n",
              "Banyule               594\n",
              "Bayside               489\n",
              "Melbourne             470\n",
              "Hobsons Bay           434\n",
              "Brimbank              424\n",
              "Monash                333\n",
              "Manningham            311\n",
              "Whitehorse            304\n",
              "Kingston              207\n",
              "Whittlesea            167\n",
              "Hume                  164\n",
              "Wyndham                86\n",
              "Knox                   80\n",
              "Maroondah              80\n",
              "Melton                 66\n",
              "Frankston              53\n",
              "Greater Dandenong      52\n",
              "Casey                  38\n",
              "Nillumbik              36\n",
              "Yarra Ranges           18\n",
              "Cardinia                8\n",
              "Macedon Ranges          7\n",
              "Unavailable             1\n",
              "Moorabool               1\n",
              "Name: CouncilArea, dtype: int64"
            ]
          },
          "metadata": {},
          "execution_count": 22
        }
      ]
    },
    {
      "cell_type": "code",
      "metadata": {
        "id": "qYj6fhvtV_KM"
      },
      "source": [
        "melbourne_data['CouncilArea'] = melbourne_data['CouncilArea'].fillna('Moreland') # 가장 많이 등장한 값인 moreland도 채움"
      ],
      "execution_count": null,
      "outputs": []
    },
    {
      "cell_type": "code",
      "metadata": {
        "id": "kHwfuFyBV_H9"
      },
      "source": [
        "melbourne_data['YearBuilt'] = melbourne_data['YearBuilt'].fillna(melbourne_data['YearBuilt'].median())"
      ],
      "execution_count": null,
      "outputs": []
    },
    {
      "cell_type": "code",
      "metadata": {
        "id": "u9M5VI4JV_F7"
      },
      "source": [
        "melbourne_data['BuildingArea'] = melbourne_data['BuildingArea'].fillna(melbourne_data['BuildingArea'].mean()) # 평균"
      ],
      "execution_count": null,
      "outputs": []
    },
    {
      "cell_type": "code",
      "metadata": {
        "id": "dpI6mW8-V_Dz"
      },
      "source": [
        "melbourne_data['Car'] = melbourne_data['Car'].fillna(melbourne_data['Car'].median()) # 중간값"
      ],
      "execution_count": null,
      "outputs": []
    },
    {
      "cell_type": "code",
      "metadata": {
        "colab": {
          "base_uri": "https://localhost:8080/"
        },
        "id": "HGFQ5jx-V_B6",
        "outputId": "e772b484-f76e-4982-de7b-2fb64f0bbf34"
      },
      "source": [
        "melbourne_data.isna().any()"
      ],
      "execution_count": null,
      "outputs": [
        {
          "output_type": "execute_result",
          "data": {
            "text/plain": [
              "Suburb           False\n",
              "Address          False\n",
              "Rooms            False\n",
              "Type             False\n",
              "Price            False\n",
              "Method           False\n",
              "SellerG          False\n",
              "Date             False\n",
              "Distance         False\n",
              "Postcode         False\n",
              "Bedroom2         False\n",
              "Bathroom         False\n",
              "Car              False\n",
              "Landsize         False\n",
              "BuildingArea     False\n",
              "YearBuilt        False\n",
              "CouncilArea      False\n",
              "Lattitude        False\n",
              "Longtitude       False\n",
              "Regionname       False\n",
              "Propertycount    False\n",
              "dtype: bool"
            ]
          },
          "metadata": {},
          "execution_count": 27
        }
      ]
    },
    {
      "cell_type": "code",
      "metadata": {
        "colab": {
          "base_uri": "https://localhost:8080/"
        },
        "id": "SWQg1t16WuZU",
        "outputId": "3493145e-4243-4de7-ca07-26ba0d1e10af"
      },
      "source": [
        "categorical_features = melbourne_data.select_dtypes('object').columns\n",
        "numeric_features = melbourne_data.select_dtypes(['int', 'float']).columns\n",
        "\n",
        "print( categorical_features, len(categorical_features) )\n",
        "print( numeric_features , len(numeric_features) )"
      ],
      "execution_count": null,
      "outputs": [
        {
          "output_type": "stream",
          "name": "stdout",
          "text": [
            "Index(['Suburb', 'Address', 'Type', 'Method', 'SellerG', 'Date', 'CouncilArea',\n",
            "       'Regionname'],\n",
            "      dtype='object') 8\n",
            "Index(['Rooms', 'Price', 'Distance', 'Postcode', 'Bedroom2', 'Bathroom', 'Car',\n",
            "       'Landsize', 'BuildingArea', 'YearBuilt', 'Lattitude', 'Longtitude',\n",
            "       'Propertycount'],\n",
            "      dtype='object') 13\n"
          ]
        }
      ]
    },
    {
      "cell_type": "code",
      "metadata": {
        "colab": {
          "base_uri": "https://localhost:8080/"
        },
        "id": "0H0vr5dCV-_k",
        "outputId": "0cc11a38-d5ac-4cdc-c809-5af4e39ba7d4"
      },
      "source": [
        "for col in categorical_features:\n",
        "    print(\"Uniq val of \"+ col + \" =\",  len(melbourne_data[col].unique()))"
      ],
      "execution_count": null,
      "outputs": [
        {
          "output_type": "stream",
          "name": "stdout",
          "text": [
            "Uniq val of Suburb = 314\n",
            "Uniq val of Address = 13378\n",
            "Uniq val of Type = 3\n",
            "Uniq val of Method = 5\n",
            "Uniq val of SellerG = 268\n",
            "Uniq val of Date = 58\n",
            "Uniq val of CouncilArea = 33\n",
            "Uniq val of Regionname = 8\n"
          ]
        }
      ]
    },
    {
      "cell_type": "code",
      "metadata": {
        "id": "kAiSw5i6V-9f"
      },
      "source": [
        "categorical_features = categorical_features.drop('Address')\n",
        "categorical_features = categorical_features.drop('SellerG')\n",
        "categorical_features = categorical_features.drop('Suburb')"
      ],
      "execution_count": null,
      "outputs": []
    },
    {
      "cell_type": "code",
      "metadata": {
        "colab": {
          "base_uri": "https://localhost:8080/",
          "height": 547
        },
        "id": "JaxyNHNRV-4E",
        "outputId": "4f45b07b-829a-4768-fd1b-17f2519a7420"
      },
      "source": [
        "corr_ = melbourne_data[numeric_features].corr()\n",
        "\n",
        "plt.figure(figsize=(15, 8))\n",
        "sns.heatmap(corr_, fmt='.2f', linewidths=.1, annot=True, cmap='coolwarm')\n",
        "plt.show()"
      ],
      "execution_count": null,
      "outputs": [
        {
          "output_type": "display_data",
          "data": {
            "image/png": "[encoded data removed]",
            "text/plain": [
              "<Figure size 1080x576 with 2 Axes>"
            ]
          },
          "metadata": {
            "needs_background": "light"
          }
        }
      ]
    },
    {
      "cell_type": "code",
      "metadata": {
        "id": "ptD7VLhsXZmO"
      },
      "source": [
        "for column in categorical_features:    \n",
        "    if column == 'Type':\n",
        "      encoder = OneHotEncoder()\n",
        "      encoder.fit(melbourne_data[column].to_numpy().reshape(-1, 1))\n",
        "      df_new_feat = pd.DataFrame(encoder.transform(melbourne_data[column].values.reshape(-1,1)).toarray(), columns=['{}_{}'.format(column,i) for i in range(len(encoder.categories_[0]))])\n",
        "      melbourne_data = pd.concat([melbourne_data, df_new_feat], axis=1)\n",
        "      melbourne_data.drop([column], axis=1)\n",
        "      categorical_features = categorical_features.drop(column)\n",
        "    else:\n",
        "      encoder = LabelEncoder()\n",
        "      melbourne_data[column] = encoder.fit_transform(melbourne_data[column])\n",
        "    "
      ],
      "execution_count": null,
      "outputs": []
    },
    {
      "cell_type": "code",
      "metadata": {
        "colab": {
          "base_uri": "https://localhost:8080/",
          "height": 679
        },
        "id": "u78GgCDvNdQA",
        "outputId": "97501e6d-3fca-4894-f660-193cd380af74"
      },
      "source": [
        "melbourne_data"
      ],
      "execution_count": null,
      "outputs": [
        {
          "output_type": "execute_result",
          "data": {
            "text/html": [
              "\n",
              "  <div id=\"df-dcb87b11-48d2-4c71-9f77-20a5aa61767a\">\n",
              "    <div class=\"colab-df-container\">\n",
              "      <div>\n",
              "<style scoped>\n",
              "    .dataframe tbody tr th:only-of-type {\n",
              "        vertical-align: middle;\n",
              "    }\n",
              "\n",
              "    .dataframe tbody tr th {\n",
              "        vertical-align: top;\n",
              "    }\n",
              "\n",
              "    .dataframe thead th {\n",
              "        text-align: right;\n",
              "    }\n",
              "</style>\n",
              "<table border=\"1\" class=\"dataframe\">\n",
              "  <thead>\n",
              "    <tr style=\"text-align: right;\">\n",
              "      <th></th>\n",
              "      <th>Suburb</th>\n",
              "      <th>Address</th>\n",
              "      <th>Rooms</th>\n",
              "      <th>Type</th>\n",
              "      <th>Price</th>\n",
              "      <th>Method</th>\n",
              "      <th>SellerG</th>\n",
              "      <th>Date</th>\n",
              "      <th>Distance</th>\n",
              "      <th>Postcode</th>\n",
              "      <th>Bedroom2</th>\n",
              "      <th>Bathroom</th>\n",
              "      <th>Car</th>\n",
              "      <th>Landsize</th>\n",
              "      <th>BuildingArea</th>\n",
              "      <th>YearBuilt</th>\n",
              "      <th>CouncilArea</th>\n",
              "      <th>Lattitude</th>\n",
              "      <th>Longtitude</th>\n",
              "      <th>Regionname</th>\n",
              "      <th>Propertycount</th>\n",
              "      <th>Type_0</th>\n",
              "      <th>Type_1</th>\n",
              "      <th>Type_2</th>\n",
              "      <th>Type_0</th>\n",
              "      <th>Type_1</th>\n",
              "      <th>Type_2</th>\n",
              "    </tr>\n",
              "  </thead>\n",
              "  <tbody>\n",
              "    <tr>\n",
              "      <th>0</th>\n",
              "      <td>Abbotsford</td>\n",
              "      <td>85 Turner St</td>\n",
              "      <td>2</td>\n",
              "      <td>h</td>\n",
              "      <td>1480000.0</td>\n",
              "      <td>1</td>\n",
              "      <td>Biggin</td>\n",
              "      <td>45</td>\n",
              "      <td>2.5</td>\n",
              "      <td>3067.0</td>\n",
              "      <td>2.0</td>\n",
              "      <td>1.0</td>\n",
              "      <td>1.0</td>\n",
              "      <td>202.0</td>\n",
              "      <td>151.96765</td>\n",
              "      <td>1970.0</td>\n",
              "      <td>31</td>\n",
              "      <td>-37.79960</td>\n",
              "      <td>144.99840</td>\n",
              "      <td>2</td>\n",
              "      <td>4019.0</td>\n",
              "      <td>1.0</td>\n",
              "      <td>0.0</td>\n",
              "      <td>0.0</td>\n",
              "      <td>1.0</td>\n",
              "      <td>0.0</td>\n",
              "      <td>0.0</td>\n",
              "    </tr>\n",
              "    <tr>\n",
              "      <th>1</th>\n",
              "      <td>Abbotsford</td>\n",
              "      <td>25 Bloomburg St</td>\n",
              "      <td>2</td>\n",
              "      <td>h</td>\n",
              "      <td>1035000.0</td>\n",
              "      <td>1</td>\n",
              "      <td>Biggin</td>\n",
              "      <td>47</td>\n",
              "      <td>2.5</td>\n",
              "      <td>3067.0</td>\n",
              "      <td>2.0</td>\n",
              "      <td>1.0</td>\n",
              "      <td>0.0</td>\n",
              "      <td>156.0</td>\n",
              "      <td>79.00000</td>\n",
              "      <td>1900.0</td>\n",
              "      <td>31</td>\n",
              "      <td>-37.80790</td>\n",
              "      <td>144.99340</td>\n",
              "      <td>2</td>\n",
              "      <td>4019.0</td>\n",
              "      <td>1.0</td>\n",
              "      <td>0.0</td>\n",
              "      <td>0.0</td>\n",
              "      <td>1.0</td>\n",
              "      <td>0.0</td>\n",
              "      <td>0.0</td>\n",
              "    </tr>\n",
              "    <tr>\n",
              "      <th>2</th>\n",
              "      <td>Abbotsford</td>\n",
              "      <td>5 Charles St</td>\n",
              "      <td>3</td>\n",
              "      <td>h</td>\n",
              "      <td>1465000.0</td>\n",
              "      <td>3</td>\n",
              "      <td>Biggin</td>\n",
              "      <td>48</td>\n",
              "      <td>2.5</td>\n",
              "      <td>3067.0</td>\n",
              "      <td>3.0</td>\n",
              "      <td>2.0</td>\n",
              "      <td>0.0</td>\n",
              "      <td>134.0</td>\n",
              "      <td>150.00000</td>\n",
              "      <td>1900.0</td>\n",
              "      <td>31</td>\n",
              "      <td>-37.80930</td>\n",
              "      <td>144.99440</td>\n",
              "      <td>2</td>\n",
              "      <td>4019.0</td>\n",
              "      <td>1.0</td>\n",
              "      <td>0.0</td>\n",
              "      <td>0.0</td>\n",
              "      <td>1.0</td>\n",
              "      <td>0.0</td>\n",
              "      <td>0.0</td>\n",
              "    </tr>\n",
              "    <tr>\n",
              "      <th>3</th>\n",
              "      <td>Abbotsford</td>\n",
              "      <td>40 Federation La</td>\n",
              "      <td>3</td>\n",
              "      <td>h</td>\n",
              "      <td>850000.0</td>\n",
              "      <td>0</td>\n",
              "      <td>Biggin</td>\n",
              "      <td>48</td>\n",
              "      <td>2.5</td>\n",
              "      <td>3067.0</td>\n",
              "      <td>3.0</td>\n",
              "      <td>2.0</td>\n",
              "      <td>1.0</td>\n",
              "      <td>94.0</td>\n",
              "      <td>151.96765</td>\n",
              "      <td>1970.0</td>\n",
              "      <td>31</td>\n",
              "      <td>-37.79690</td>\n",
              "      <td>144.99690</td>\n",
              "      <td>2</td>\n",
              "      <td>4019.0</td>\n",
              "      <td>1.0</td>\n",
              "      <td>0.0</td>\n",
              "      <td>0.0</td>\n",
              "      <td>1.0</td>\n",
              "      <td>0.0</td>\n",
              "      <td>0.0</td>\n",
              "    </tr>\n",
              "    <tr>\n",
              "      <th>4</th>\n",
              "      <td>Abbotsford</td>\n",
              "      <td>55a Park St</td>\n",
              "      <td>4</td>\n",
              "      <td>h</td>\n",
              "      <td>1600000.0</td>\n",
              "      <td>4</td>\n",
              "      <td>Nelson</td>\n",
              "      <td>49</td>\n",
              "      <td>2.5</td>\n",
              "      <td>3067.0</td>\n",
              "      <td>3.0</td>\n",
              "      <td>1.0</td>\n",
              "      <td>2.0</td>\n",
              "      <td>120.0</td>\n",
              "      <td>142.00000</td>\n",
              "      <td>2014.0</td>\n",
              "      <td>31</td>\n",
              "      <td>-37.80720</td>\n",
              "      <td>144.99410</td>\n",
              "      <td>2</td>\n",
              "      <td>4019.0</td>\n",
              "      <td>1.0</td>\n",
              "      <td>0.0</td>\n",
              "      <td>0.0</td>\n",
              "      <td>1.0</td>\n",
              "      <td>0.0</td>\n",
              "      <td>0.0</td>\n",
              "    </tr>\n",
              "    <tr>\n",
              "      <th>...</th>\n",
              "      <td>...</td>\n",
              "      <td>...</td>\n",
              "      <td>...</td>\n",
              "      <td>...</td>\n",
              "      <td>...</td>\n",
              "      <td>...</td>\n",
              "      <td>...</td>\n",
              "      <td>...</td>\n",
              "      <td>...</td>\n",
              "      <td>...</td>\n",
              "      <td>...</td>\n",
              "      <td>...</td>\n",
              "      <td>...</td>\n",
              "      <td>...</td>\n",
              "      <td>...</td>\n",
              "      <td>...</td>\n",
              "      <td>...</td>\n",
              "      <td>...</td>\n",
              "      <td>...</td>\n",
              "      <td>...</td>\n",
              "      <td>...</td>\n",
              "      <td>...</td>\n",
              "      <td>...</td>\n",
              "      <td>...</td>\n",
              "      <td>...</td>\n",
              "      <td>...</td>\n",
              "      <td>...</td>\n",
              "    </tr>\n",
              "    <tr>\n",
              "      <th>13575</th>\n",
              "      <td>Wheelers Hill</td>\n",
              "      <td>12 Strada Cr</td>\n",
              "      <td>4</td>\n",
              "      <td>h</td>\n",
              "      <td>1245000.0</td>\n",
              "      <td>1</td>\n",
              "      <td>Barry</td>\n",
              "      <td>33</td>\n",
              "      <td>16.7</td>\n",
              "      <td>3150.0</td>\n",
              "      <td>4.0</td>\n",
              "      <td>2.0</td>\n",
              "      <td>2.0</td>\n",
              "      <td>652.0</td>\n",
              "      <td>151.96765</td>\n",
              "      <td>1981.0</td>\n",
              "      <td>23</td>\n",
              "      <td>-37.90562</td>\n",
              "      <td>145.16761</td>\n",
              "      <td>4</td>\n",
              "      <td>7392.0</td>\n",
              "      <td>1.0</td>\n",
              "      <td>0.0</td>\n",
              "      <td>0.0</td>\n",
              "      <td>1.0</td>\n",
              "      <td>0.0</td>\n",
              "      <td>0.0</td>\n",
              "    </tr>\n",
              "    <tr>\n",
              "      <th>13576</th>\n",
              "      <td>Williamstown</td>\n",
              "      <td>77 Merrett Dr</td>\n",
              "      <td>3</td>\n",
              "      <td>h</td>\n",
              "      <td>1031000.0</td>\n",
              "      <td>3</td>\n",
              "      <td>Williams</td>\n",
              "      <td>33</td>\n",
              "      <td>6.8</td>\n",
              "      <td>3016.0</td>\n",
              "      <td>3.0</td>\n",
              "      <td>2.0</td>\n",
              "      <td>2.0</td>\n",
              "      <td>333.0</td>\n",
              "      <td>133.00000</td>\n",
              "      <td>1995.0</td>\n",
              "      <td>23</td>\n",
              "      <td>-37.85927</td>\n",
              "      <td>144.87904</td>\n",
              "      <td>6</td>\n",
              "      <td>6380.0</td>\n",
              "      <td>1.0</td>\n",
              "      <td>0.0</td>\n",
              "      <td>0.0</td>\n",
              "      <td>1.0</td>\n",
              "      <td>0.0</td>\n",
              "      <td>0.0</td>\n",
              "    </tr>\n",
              "    <tr>\n",
              "      <th>13577</th>\n",
              "      <td>Williamstown</td>\n",
              "      <td>83 Power St</td>\n",
              "      <td>3</td>\n",
              "      <td>h</td>\n",
              "      <td>1170000.0</td>\n",
              "      <td>1</td>\n",
              "      <td>Raine</td>\n",
              "      <td>33</td>\n",
              "      <td>6.8</td>\n",
              "      <td>3016.0</td>\n",
              "      <td>3.0</td>\n",
              "      <td>2.0</td>\n",
              "      <td>4.0</td>\n",
              "      <td>436.0</td>\n",
              "      <td>151.96765</td>\n",
              "      <td>1997.0</td>\n",
              "      <td>23</td>\n",
              "      <td>-37.85274</td>\n",
              "      <td>144.88738</td>\n",
              "      <td>6</td>\n",
              "      <td>6380.0</td>\n",
              "      <td>1.0</td>\n",
              "      <td>0.0</td>\n",
              "      <td>0.0</td>\n",
              "      <td>1.0</td>\n",
              "      <td>0.0</td>\n",
              "      <td>0.0</td>\n",
              "    </tr>\n",
              "    <tr>\n",
              "      <th>13578</th>\n",
              "      <td>Williamstown</td>\n",
              "      <td>96 Verdon St</td>\n",
              "      <td>4</td>\n",
              "      <td>h</td>\n",
              "      <td>2500000.0</td>\n",
              "      <td>0</td>\n",
              "      <td>Sweeney</td>\n",
              "      <td>33</td>\n",
              "      <td>6.8</td>\n",
              "      <td>3016.0</td>\n",
              "      <td>4.0</td>\n",
              "      <td>1.0</td>\n",
              "      <td>5.0</td>\n",
              "      <td>866.0</td>\n",
              "      <td>157.00000</td>\n",
              "      <td>1920.0</td>\n",
              "      <td>23</td>\n",
              "      <td>-37.85908</td>\n",
              "      <td>144.89299</td>\n",
              "      <td>6</td>\n",
              "      <td>6380.0</td>\n",
              "      <td>1.0</td>\n",
              "      <td>0.0</td>\n",
              "      <td>0.0</td>\n",
              "      <td>1.0</td>\n",
              "      <td>0.0</td>\n",
              "      <td>0.0</td>\n",
              "    </tr>\n",
              "    <tr>\n",
              "      <th>13579</th>\n",
              "      <td>Yarraville</td>\n",
              "      <td>6 Agnes St</td>\n",
              "      <td>4</td>\n",
              "      <td>h</td>\n",
              "      <td>1285000.0</td>\n",
              "      <td>3</td>\n",
              "      <td>Village</td>\n",
              "      <td>33</td>\n",
              "      <td>6.3</td>\n",
              "      <td>3013.0</td>\n",
              "      <td>4.0</td>\n",
              "      <td>1.0</td>\n",
              "      <td>1.0</td>\n",
              "      <td>362.0</td>\n",
              "      <td>112.00000</td>\n",
              "      <td>1920.0</td>\n",
              "      <td>23</td>\n",
              "      <td>-37.81188</td>\n",
              "      <td>144.88449</td>\n",
              "      <td>6</td>\n",
              "      <td>6543.0</td>\n",
              "      <td>1.0</td>\n",
              "      <td>0.0</td>\n",
              "      <td>0.0</td>\n",
              "      <td>1.0</td>\n",
              "      <td>0.0</td>\n",
              "      <td>0.0</td>\n",
              "    </tr>\n",
              "  </tbody>\n",
              "</table>\n",
              "<p>13580 rows × 27 columns</p>\n",
              "</div>\n",
              "      <button class=\"colab-df-convert\" onclick=\"convertToInteractive('df-dcb87b11-48d2-4c71-9f77-20a5aa61767a')\"\n",
              "              title=\"Convert this dataframe to an interactive table.\"\n",
              "              style=\"display:none;\">\n",
              "        \n",
              "  <svg xmlns=\"http://www.w3.org/2000/svg\" height=\"24px\"viewBox=\"0 0 24 24\"\n",
              "       width=\"24px\">\n",
              "    <path d=\"M0 0h24v24H0V0z\" fill=\"none\"/>\n",
              "    <path d=\"M18.56 5.44l.94 2.06.94-2.06 2.06-.94-2.06-.94-.94-2.06-.94 2.06-2.06.94zm-11 1L8.5 8.5l.94-2.06 2.06-.94-2.06-.94L8.5 2.5l-.94 2.06-2.06.94zm10 10l.94 2.06.94-2.06 2.06-.94-2.06-.94-.94-2.06-.94 2.06-2.06.94z\"/><path d=\"M17.41 7.96l-1.37-1.37c-.4-.4-.92-.59-1.43-.59-.52 0-1.04.2-1.43.59L10.3 9.45l-7.72 7.72c-.78.78-.78 2.05 0 2.83L4 21.41c.39.39.9.59 1.41.59.51 0 1.02-.2 1.41-.59l7.78-7.78 2.81-2.81c.8-.78.8-2.07 0-2.86zM5.41 20L4 18.59l7.72-7.72 1.47 1.35L5.41 20z\"/>\n",
              "  </svg>\n",
              "      </button>\n",
              "      \n",
              "  <style>\n",
              "    .colab-df-container {\n",
              "      display:flex;\n",
              "      flex-wrap:wrap;\n",
              "      gap: 12px;\n",
              "    }\n",
              "\n",
              "    .colab-df-convert {\n",
              "      background-color: #E8F0FE;\n",
              "      border: none;\n",
              "      border-radius: 50%;\n",
              "      cursor: pointer;\n",
              "      display: none;\n",
              "      fill: #1967D2;\n",
              "      height: 32px;\n",
              "      padding: 0 0 0 0;\n",
              "      width: 32px;\n",
              "    }\n",
              "\n",
              "    .colab-df-convert:hover {\n",
              "      background-color: #E2EBFA;\n",
              "      box-shadow: 0px 1px 2px rgba(60, 64, 67, 0.3), 0px 1px 3px 1px rgba(60, 64, 67, 0.15);\n",
              "      fill: #174EA6;\n",
              "    }\n",
              "\n",
              "    [theme=dark] .colab-df-convert {\n",
              "      background-color: #3B4455;\n",
              "      fill: #D2E3FC;\n",
              "    }\n",
              "\n",
              "    [theme=dark] .colab-df-convert:hover {\n",
              "      background-color: #434B5C;\n",
              "      box-shadow: 0px 1px 3px 1px rgba(0, 0, 0, 0.15);\n",
              "      filter: drop-shadow(0px 1px 2px rgba(0, 0, 0, 0.3));\n",
              "      fill: #FFFFFF;\n",
              "    }\n",
              "  </style>\n",
              "\n",
              "      <script>\n",
              "        const buttonEl =\n",
              "          document.querySelector('#df-dcb87b11-48d2-4c71-9f77-20a5aa61767a button.colab-df-convert');\n",
              "        buttonEl.style.display =\n",
              "          google.colab.kernel.accessAllowed ? 'block' : 'none';\n",
              "\n",
              "        async function convertToInteractive(key) {\n",
              "          const element = document.querySelector('#df-dcb87b11-48d2-4c71-9f77-20a5aa61767a');\n",
              "          const dataTable =\n",
              "            await google.colab.kernel.invokeFunction('convertToInteractive',\n",
              "                                                     [key], {});\n",
              "          if (!dataTable) return;\n",
              "\n",
              "          const docLinkHtml = 'Like what you see? Visit the ' +\n",
              "            '<a target=\"_blank\" href=https://colab.research.google.com/notebooks/data_table.ipynb>data table notebook</a>'\n",
              "            + ' to learn more about interactive tables.';\n",
              "          element.innerHTML = '';\n",
              "          dataTable['output_type'] = 'display_data';\n",
              "          await google.colab.output.renderOutput(dataTable, element);\n",
              "          const docLink = document.createElement('div');\n",
              "          docLink.innerHTML = docLinkHtml;\n",
              "          element.appendChild(docLink);\n",
              "        }\n",
              "      </script>\n",
              "    </div>\n",
              "  </div>\n",
              "  "
            ],
            "text/plain": [
              "              Suburb           Address  Rooms  ... Type_0  Type_1  Type_2\n",
              "0         Abbotsford      85 Turner St      2  ...    1.0     0.0     0.0\n",
              "1         Abbotsford   25 Bloomburg St      2  ...    1.0     0.0     0.0\n",
              "2         Abbotsford      5 Charles St      3  ...    1.0     0.0     0.0\n",
              "3         Abbotsford  40 Federation La      3  ...    1.0     0.0     0.0\n",
              "4         Abbotsford       55a Park St      4  ...    1.0     0.0     0.0\n",
              "...              ...               ...    ...  ...    ...     ...     ...\n",
              "13575  Wheelers Hill      12 Strada Cr      4  ...    1.0     0.0     0.0\n",
              "13576   Williamstown     77 Merrett Dr      3  ...    1.0     0.0     0.0\n",
              "13577   Williamstown       83 Power St      3  ...    1.0     0.0     0.0\n",
              "13578   Williamstown      96 Verdon St      4  ...    1.0     0.0     0.0\n",
              "13579     Yarraville        6 Agnes St      4  ...    1.0     0.0     0.0\n",
              "\n",
              "[13580 rows x 27 columns]"
            ]
          },
          "metadata": {},
          "execution_count": 38
        }
      ]
    },
    {
      "cell_type": "code",
      "metadata": {
        "id": "KGa-vuhvXZfy"
      },
      "source": [
        "training_features = list(numeric_features) + list(categorical_features)\n",
        "training_features.remove('Price')"
      ],
      "execution_count": null,
      "outputs": []
    },
    {
      "cell_type": "code",
      "metadata": {
        "colab": {
          "base_uri": "https://localhost:8080/"
        },
        "id": "Uopzjb_5XZYD",
        "outputId": "5d98e7f5-e8bf-4772-845e-26412d80a00a"
      },
      "source": [
        "minMaxNorm = MinMaxScaler()\n",
        "minMaxNorm.fit(melbourne_data[training_features])"
      ],
      "execution_count": null,
      "outputs": [
        {
          "output_type": "execute_result",
          "data": {
            "text/plain": [
              "MinMaxScaler()"
            ]
          },
          "metadata": {},
          "execution_count": 40
        }
      ]
    },
    {
      "cell_type": "code",
      "metadata": {
        "id": "XPZYrroNXYoX"
      },
      "source": [
        "X = minMaxNorm.transform(melbourne_data[training_features]) "
      ],
      "execution_count": null,
      "outputs": []
    },
    {
      "cell_type": "code",
      "metadata": {
        "colab": {
          "base_uri": "https://localhost:8080/"
        },
        "id": "lOteIBBte_CU",
        "outputId": "db971c37-3c53-486f-e33c-83fdd195d95a"
      },
      "source": [
        "from sklearn.decomposition import PCA\n",
        "\n",
        "pca = PCA(n_components=4)\n",
        "pca.fit(X)\n",
        "\n",
        "print(pca.explained_variance_ratio_)\n",
        "print(np.sum(pca.explained_variance_ratio_))\n",
        "print(pca.singular_values_)\n",
        "\n",
        "X_pca = pca.transform(X)\n",
        "X_all = np.concatenate([X, X_pca], axis=1)"
      ],
      "execution_count": null,
      "outputs": [
        {
          "output_type": "stream",
          "name": "stdout",
          "text": [
            "[0.21619506 0.18995385 0.18089625 0.16908122]\n",
            "0.7561263822543465\n",
            "[36.42763944 34.14539974 33.3213763  32.21482908]\n"
          ]
        }
      ]
    },
    {
      "cell_type": "code",
      "metadata": {
        "id": "0jZV7Kp37G35",
        "colab": {
          "base_uri": "https://localhost:8080/"
        },
        "outputId": "d8be140c-a618-46cd-9270-def455d61e74"
      },
      "source": [
        "X_train, X_test, y_train, y_test = train_test_split(X_all, y, test_size=0.1, random_state=0)\n",
        "\n",
        "print(X_train.shape, y_train.shape)\n",
        "print(X_test.shape, y_test.shape)"
      ],
      "execution_count": null,
      "outputs": [
        {
          "output_type": "stream",
          "name": "stdout",
          "text": [
            "(12222, 20) (12222,)\n",
            "(1358, 20) (1358,)\n"
          ]
        }
      ]
    },
    {
      "cell_type": "code",
      "metadata": {
        "id": "L93mwDIN7vzs",
        "colab": {
          "base_uri": "https://localhost:8080/"
        },
        "outputId": "986cf41c-74b8-4984-edc4-8a508f21f26f"
      },
      "source": [
        "melbourne_model = DecisionTreeRegressor(random_state=2021)\n",
        "melbourne_model.fit(X_train, y_train)\n",
        "\n",
        "dt_r2 = melbourne_model.score(X_test, y_test)\n",
        "dt_r2"
      ],
      "execution_count": null,
      "outputs": [
        {
          "output_type": "execute_result",
          "data": {
            "text/plain": [
              "0.5363515670683969"
            ]
          },
          "metadata": {},
          "execution_count": 44
        }
      ]
    },
    {
      "cell_type": "markdown",
      "metadata": {
        "id": "TJ-iWjAo9iFm"
      },
      "source": [
        "### 바꿔보기\n",
        "1. Light GBM 모델로 변경\n",
        "2. 사용하는 feature 변경\n",
        "3. 모델 파라미터 조정\n",
        "4. Dataset split 비율 조정\n",
        "5. 여러분들이 배우셨던 통계 지식 활용"
      ]
    },
    {
      "cell_type": "markdown",
      "metadata": {
        "id": "rPs0_zvs-_wo"
      },
      "source": [
        "## Light GBM"
      ]
    },
    {
      "cell_type": "code",
      "metadata": {
        "id": "HIlcb6gu9AmK"
      },
      "source": [
        "import lightgbm"
      ],
      "execution_count": null,
      "outputs": []
    },
    {
      "cell_type": "code",
      "metadata": {
        "id": "if2cBCfW_DnW"
      },
      "source": [
        "train_data = lightgbm.Dataset(X_train, label=y_train) #, categorical_feature=categorical_features)\n",
        "test_data = lightgbm.Dataset(X_test, label=y_test)"
      ],
      "execution_count": null,
      "outputs": []
    },
    {
      "cell_type": "code",
      "metadata": {
        "id": "LSTiDDsF_T3c"
      },
      "source": [
        "parameters = {\n",
        "    'objective': 'regression',\n",
        "    'metric': 'rmse',\n",
        "    'boosting': 'gbdt',\n",
        "    'learning_rate': 0.05,\n",
        "    'feature_fraction': 0.6,\n",
        "}"
      ],
      "execution_count": null,
      "outputs": []
    },
    {
      "cell_type": "code",
      "metadata": {
        "id": "D37HF2OB_RKY",
        "colab": {
          "base_uri": "https://localhost:8080/"
        },
        "outputId": "a220ab85-2cfa-480a-c1c3-c2c85cff7e45"
      },
      "source": [
        "lgbm_model = lightgbm.train(parameters,\n",
        "                       train_data,\n",
        "                       valid_sets=test_data,\n",
        "                       num_boost_round=500,\n",
        "                       early_stopping_rounds=10)"
      ],
      "execution_count": null,
      "outputs": [
        {
          "output_type": "stream",
          "name": "stdout",
          "text": [
            "[1]\tvalid_0's rmse: 607685\n",
            "Training until validation scores don't improve for 10 rounds.\n",
            "[2]\tvalid_0's rmse: 588882\n",
            "[3]\tvalid_0's rmse: 571518\n",
            "[4]\tvalid_0's rmse: 555669\n",
            "[5]\tvalid_0's rmse: 539991\n",
            "[6]\tvalid_0's rmse: 525289\n",
            "[7]\tvalid_0's rmse: 513321\n",
            "[8]\tvalid_0's rmse: 501424\n",
            "[9]\tvalid_0's rmse: 489517\n",
            "[10]\tvalid_0's rmse: 479018\n",
            "[11]\tvalid_0's rmse: 468050\n",
            "[12]\tvalid_0's rmse: 457359\n",
            "[13]\tvalid_0's rmse: 448347\n",
            "[14]\tvalid_0's rmse: 439970\n",
            "[15]\tvalid_0's rmse: 431655\n",
            "[16]\tvalid_0's rmse: 424200\n",
            "[17]\tvalid_0's rmse: 416395\n",
            "[18]\tvalid_0's rmse: 409435\n",
            "[19]\tvalid_0's rmse: 401503\n",
            "[20]\tvalid_0's rmse: 394954\n",
            "[21]\tvalid_0's rmse: 389324\n",
            "[22]\tvalid_0's rmse: 384701\n",
            "[23]\tvalid_0's rmse: 379122\n",
            "[24]\tvalid_0's rmse: 374366\n",
            "[25]\tvalid_0's rmse: 369880\n",
            "[26]\tvalid_0's rmse: 364876\n",
            "[27]\tvalid_0's rmse: 360535\n",
            "[28]\tvalid_0's rmse: 356629\n",
            "[29]\tvalid_0's rmse: 353243\n",
            "[30]\tvalid_0's rmse: 349398\n",
            "[31]\tvalid_0's rmse: 345810\n",
            "[32]\tvalid_0's rmse: 342704\n",
            "[33]\tvalid_0's rmse: 339324\n",
            "[34]\tvalid_0's rmse: 336188\n",
            "[35]\tvalid_0's rmse: 333650\n",
            "[36]\tvalid_0's rmse: 331149\n",
            "[37]\tvalid_0's rmse: 328463\n",
            "[38]\tvalid_0's rmse: 326485\n",
            "[39]\tvalid_0's rmse: 324366\n",
            "[40]\tvalid_0's rmse: 321503\n",
            "[41]\tvalid_0's rmse: 319670\n",
            "[42]\tvalid_0's rmse: 317334\n",
            "[43]\tvalid_0's rmse: 315119\n",
            "[44]\tvalid_0's rmse: 313846\n",
            "[45]\tvalid_0's rmse: 312108\n",
            "[46]\tvalid_0's rmse: 310030\n",
            "[47]\tvalid_0's rmse: 308846\n",
            "[48]\tvalid_0's rmse: 307619\n",
            "[49]\tvalid_0's rmse: 306780\n",
            "[50]\tvalid_0's rmse: 305373\n",
            "[51]\tvalid_0's rmse: 304136\n",
            "[52]\tvalid_0's rmse: 302691\n",
            "[53]\tvalid_0's rmse: 301775\n",
            "[54]\tvalid_0's rmse: 300933\n",
            "[55]\tvalid_0's rmse: 300106\n",
            "[56]\tvalid_0's rmse: 298973\n",
            "[57]\tvalid_0's rmse: 298264\n",
            "[58]\tvalid_0's rmse: 296945\n",
            "[59]\tvalid_0's rmse: 295777\n",
            "[60]\tvalid_0's rmse: 295367\n",
            "[61]\tvalid_0's rmse: 294774\n",
            "[62]\tvalid_0's rmse: 294012\n",
            "[63]\tvalid_0's rmse: 293423\n",
            "[64]\tvalid_0's rmse: 292753\n",
            "[65]\tvalid_0's rmse: 291664\n",
            "[66]\tvalid_0's rmse: 291249\n",
            "[67]\tvalid_0's rmse: 290869\n",
            "[68]\tvalid_0's rmse: 290116\n",
            "[69]\tvalid_0's rmse: 289778\n",
            "[70]\tvalid_0's rmse: 289200\n",
            "[71]\tvalid_0's rmse: 288557\n",
            "[72]\tvalid_0's rmse: 288001\n",
            "[73]\tvalid_0's rmse: 287240\n",
            "[74]\tvalid_0's rmse: 286907\n",
            "[75]\tvalid_0's rmse: 286456\n",
            "[76]\tvalid_0's rmse: 286013\n",
            "[77]\tvalid_0's rmse: 285880\n",
            "[78]\tvalid_0's rmse: 285173\n",
            "[79]\tvalid_0's rmse: 284455\n",
            "[80]\tvalid_0's rmse: 283970\n",
            "[81]\tvalid_0's rmse: 283379\n",
            "[82]\tvalid_0's rmse: 282894\n",
            "[83]\tvalid_0's rmse: 282637\n",
            "[84]\tvalid_0's rmse: 282322\n",
            "[85]\tvalid_0's rmse: 282129\n",
            "[86]\tvalid_0's rmse: 281825\n",
            "[87]\tvalid_0's rmse: 281421\n",
            "[88]\tvalid_0's rmse: 281258\n",
            "[89]\tvalid_0's rmse: 280852\n",
            "[90]\tvalid_0's rmse: 280474\n",
            "[91]\tvalid_0's rmse: 280340\n",
            "[92]\tvalid_0's rmse: 280414\n",
            "[93]\tvalid_0's rmse: 280114\n",
            "[94]\tvalid_0's rmse: 280043\n",
            "[95]\tvalid_0's rmse: 279623\n",
            "[96]\tvalid_0's rmse: 279585\n",
            "[97]\tvalid_0's rmse: 279426\n",
            "[98]\tvalid_0's rmse: 278982\n",
            "[99]\tvalid_0's rmse: 278156\n",
            "[100]\tvalid_0's rmse: 278119\n",
            "[101]\tvalid_0's rmse: 277911\n",
            "[102]\tvalid_0's rmse: 277856\n",
            "[103]\tvalid_0's rmse: 277905\n",
            "[104]\tvalid_0's rmse: 277698\n",
            "[105]\tvalid_0's rmse: 277394\n",
            "[106]\tvalid_0's rmse: 277344\n",
            "[107]\tvalid_0's rmse: 277141\n",
            "[108]\tvalid_0's rmse: 277156\n",
            "[109]\tvalid_0's rmse: 277032\n",
            "[110]\tvalid_0's rmse: 276859\n",
            "[111]\tvalid_0's rmse: 276511\n",
            "[112]\tvalid_0's rmse: 276491\n",
            "[113]\tvalid_0's rmse: 276216\n",
            "[114]\tvalid_0's rmse: 276118\n",
            "[115]\tvalid_0's rmse: 275749\n",
            "[116]\tvalid_0's rmse: 275773\n",
            "[117]\tvalid_0's rmse: 275610\n",
            "[118]\tvalid_0's rmse: 275418\n",
            "[119]\tvalid_0's rmse: 275160\n",
            "[120]\tvalid_0's rmse: 274986\n",
            "[121]\tvalid_0's rmse: 274857\n",
            "[122]\tvalid_0's rmse: 274670\n",
            "[123]\tvalid_0's rmse: 274670\n",
            "[124]\tvalid_0's rmse: 274368\n",
            "[125]\tvalid_0's rmse: 274331\n",
            "[126]\tvalid_0's rmse: 274330\n",
            "[127]\tvalid_0's rmse: 274254\n",
            "[128]\tvalid_0's rmse: 274022\n",
            "[129]\tvalid_0's rmse: 274018\n",
            "[130]\tvalid_0's rmse: 273915\n",
            "[131]\tvalid_0's rmse: 273968\n",
            "[132]\tvalid_0's rmse: 273439\n",
            "[133]\tvalid_0's rmse: 273172\n",
            "[134]\tvalid_0's rmse: 272975\n",
            "[135]\tvalid_0's rmse: 272799\n",
            "[136]\tvalid_0's rmse: 272736\n",
            "[137]\tvalid_0's rmse: 272541\n",
            "[138]\tvalid_0's rmse: 272494\n",
            "[139]\tvalid_0's rmse: 272262\n",
            "[140]\tvalid_0's rmse: 271963\n",
            "[141]\tvalid_0's rmse: 271947\n",
            "[142]\tvalid_0's rmse: 271823\n",
            "[143]\tvalid_0's rmse: 271821\n",
            "[144]\tvalid_0's rmse: 271744\n",
            "[145]\tvalid_0's rmse: 271524\n",
            "[146]\tvalid_0's rmse: 271381\n",
            "[147]\tvalid_0's rmse: 271436\n",
            "[148]\tvalid_0's rmse: 271378\n",
            "[149]\tvalid_0's rmse: 271401\n",
            "[150]\tvalid_0's rmse: 271340\n",
            "[151]\tvalid_0's rmse: 271339\n",
            "[152]\tvalid_0's rmse: 271384\n",
            "[153]\tvalid_0's rmse: 271337\n",
            "[154]\tvalid_0's rmse: 271287\n",
            "[155]\tvalid_0's rmse: 271154\n",
            "[156]\tvalid_0's rmse: 271094\n",
            "[157]\tvalid_0's rmse: 270949\n",
            "[158]\tvalid_0's rmse: 270919\n",
            "[159]\tvalid_0's rmse: 270907\n",
            "[160]\tvalid_0's rmse: 270810\n",
            "[161]\tvalid_0's rmse: 270603\n",
            "[162]\tvalid_0's rmse: 270593\n",
            "[163]\tvalid_0's rmse: 270484\n",
            "[164]\tvalid_0's rmse: 270457\n",
            "[165]\tvalid_0's rmse: 270337\n",
            "[166]\tvalid_0's rmse: 270372\n",
            "[167]\tvalid_0's rmse: 270359\n",
            "[168]\tvalid_0's rmse: 270288\n",
            "[169]\tvalid_0's rmse: 270225\n",
            "[170]\tvalid_0's rmse: 270194\n",
            "[171]\tvalid_0's rmse: 270162\n",
            "[172]\tvalid_0's rmse: 270108\n",
            "[173]\tvalid_0's rmse: 270199\n",
            "[174]\tvalid_0's rmse: 270179\n",
            "[175]\tvalid_0's rmse: 270138\n",
            "[176]\tvalid_0's rmse: 269978\n",
            "[177]\tvalid_0's rmse: 270017\n",
            "[178]\tvalid_0's rmse: 269753\n",
            "[179]\tvalid_0's rmse: 269626\n",
            "[180]\tvalid_0's rmse: 269626\n",
            "[181]\tvalid_0's rmse: 269486\n",
            "[182]\tvalid_0's rmse: 269376\n",
            "[183]\tvalid_0's rmse: 269294\n",
            "[184]\tvalid_0's rmse: 269237\n",
            "[185]\tvalid_0's rmse: 269138\n",
            "[186]\tvalid_0's rmse: 269157\n",
            "[187]\tvalid_0's rmse: 269130\n",
            "[188]\tvalid_0's rmse: 269150\n",
            "[189]\tvalid_0's rmse: 269093\n",
            "[190]\tvalid_0's rmse: 268984\n",
            "[191]\tvalid_0's rmse: 268907\n",
            "[192]\tvalid_0's rmse: 268923\n",
            "[193]\tvalid_0's rmse: 268798\n",
            "[194]\tvalid_0's rmse: 268839\n",
            "[195]\tvalid_0's rmse: 268726\n",
            "[196]\tvalid_0's rmse: 268666\n",
            "[197]\tvalid_0's rmse: 268695\n",
            "[198]\tvalid_0's rmse: 268635\n",
            "[199]\tvalid_0's rmse: 268613\n",
            "[200]\tvalid_0's rmse: 268600\n",
            "[201]\tvalid_0's rmse: 268511\n",
            "[202]\tvalid_0's rmse: 268517\n",
            "[203]\tvalid_0's rmse: 268668\n",
            "[204]\tvalid_0's rmse: 268583\n",
            "[205]\tvalid_0's rmse: 268359\n",
            "[206]\tvalid_0's rmse: 268344\n",
            "[207]\tvalid_0's rmse: 268263\n",
            "[208]\tvalid_0's rmse: 268124\n",
            "[209]\tvalid_0's rmse: 268098\n",
            "[210]\tvalid_0's rmse: 268060\n",
            "[211]\tvalid_0's rmse: 268027\n",
            "[212]\tvalid_0's rmse: 267910\n",
            "[213]\tvalid_0's rmse: 267817\n",
            "[214]\tvalid_0's rmse: 267747\n",
            "[215]\tvalid_0's rmse: 267684\n",
            "[216]\tvalid_0's rmse: 267558\n",
            "[217]\tvalid_0's rmse: 267486\n",
            "[218]\tvalid_0's rmse: 267313\n",
            "[219]\tvalid_0's rmse: 267262\n",
            "[220]\tvalid_0's rmse: 267408\n",
            "[221]\tvalid_0's rmse: 267330\n",
            "[222]\tvalid_0's rmse: 267231\n",
            "[223]\tvalid_0's rmse: 267172\n",
            "[224]\tvalid_0's rmse: 267137\n",
            "[225]\tvalid_0's rmse: 267127\n",
            "[226]\tvalid_0's rmse: 267006\n",
            "[227]\tvalid_0's rmse: 266951\n",
            "[228]\tvalid_0's rmse: 266915\n",
            "[229]\tvalid_0's rmse: 266926\n",
            "[230]\tvalid_0's rmse: 266920\n",
            "[231]\tvalid_0's rmse: 266853\n",
            "[232]\tvalid_0's rmse: 266836\n",
            "[233]\tvalid_0's rmse: 266805\n",
            "[234]\tvalid_0's rmse: 266847\n",
            "[235]\tvalid_0's rmse: 266924\n",
            "[236]\tvalid_0's rmse: 266799\n",
            "[237]\tvalid_0's rmse: 267012\n",
            "[238]\tvalid_0's rmse: 266931\n",
            "[239]\tvalid_0's rmse: 266891\n",
            "[240]\tvalid_0's rmse: 266905\n",
            "[241]\tvalid_0's rmse: 266885\n",
            "[242]\tvalid_0's rmse: 266777\n",
            "[243]\tvalid_0's rmse: 266578\n",
            "[244]\tvalid_0's rmse: 266514\n",
            "[245]\tvalid_0's rmse: 266460\n",
            "[246]\tvalid_0's rmse: 266449\n",
            "[247]\tvalid_0's rmse: 266295\n",
            "[248]\tvalid_0's rmse: 266310\n",
            "[249]\tvalid_0's rmse: 266236\n",
            "[250]\tvalid_0's rmse: 266265\n",
            "[251]\tvalid_0's rmse: 266167\n",
            "[252]\tvalid_0's rmse: 266084\n",
            "[253]\tvalid_0's rmse: 266053\n",
            "[254]\tvalid_0's rmse: 265888\n",
            "[255]\tvalid_0's rmse: 265843\n",
            "[256]\tvalid_0's rmse: 265818\n",
            "[257]\tvalid_0's rmse: 265766\n",
            "[258]\tvalid_0's rmse: 265629\n",
            "[259]\tvalid_0's rmse: 265594\n",
            "[260]\tvalid_0's rmse: 265539\n",
            "[261]\tvalid_0's rmse: 265551\n",
            "[262]\tvalid_0's rmse: 265452\n",
            "[263]\tvalid_0's rmse: 265377\n",
            "[264]\tvalid_0's rmse: 265453\n",
            "[265]\tvalid_0's rmse: 265477\n",
            "[266]\tvalid_0's rmse: 265448\n",
            "[267]\tvalid_0's rmse: 265474\n",
            "[268]\tvalid_0's rmse: 265495\n",
            "[269]\tvalid_0's rmse: 265416\n",
            "[270]\tvalid_0's rmse: 265469\n",
            "[271]\tvalid_0's rmse: 265353\n",
            "[272]\tvalid_0's rmse: 265313\n",
            "[273]\tvalid_0's rmse: 265255\n",
            "[274]\tvalid_0's rmse: 265256\n",
            "[275]\tvalid_0's rmse: 265287\n",
            "[276]\tvalid_0's rmse: 265133\n",
            "[277]\tvalid_0's rmse: 265096\n",
            "[278]\tvalid_0's rmse: 265063\n",
            "[279]\tvalid_0's rmse: 264998\n",
            "[280]\tvalid_0's rmse: 264943\n",
            "[281]\tvalid_0's rmse: 265047\n",
            "[282]\tvalid_0's rmse: 264983\n",
            "[283]\tvalid_0's rmse: 264983\n",
            "[284]\tvalid_0's rmse: 264976\n",
            "[285]\tvalid_0's rmse: 264944\n",
            "[286]\tvalid_0's rmse: 264801\n",
            "[287]\tvalid_0's rmse: 264704\n",
            "[288]\tvalid_0's rmse: 264698\n",
            "[289]\tvalid_0's rmse: 264680\n",
            "[290]\tvalid_0's rmse: 264728\n",
            "[291]\tvalid_0's rmse: 264657\n",
            "[292]\tvalid_0's rmse: 264703\n",
            "[293]\tvalid_0's rmse: 264763\n",
            "[294]\tvalid_0's rmse: 264672\n",
            "[295]\tvalid_0's rmse: 264712\n",
            "[296]\tvalid_0's rmse: 264726\n",
            "[297]\tvalid_0's rmse: 264709\n",
            "[298]\tvalid_0's rmse: 264764\n",
            "[299]\tvalid_0's rmse: 264670\n",
            "[300]\tvalid_0's rmse: 264625\n",
            "[301]\tvalid_0's rmse: 264641\n",
            "[302]\tvalid_0's rmse: 264605\n",
            "[303]\tvalid_0's rmse: 264560\n",
            "[304]\tvalid_0's rmse: 264550\n",
            "[305]\tvalid_0's rmse: 264544\n",
            "[306]\tvalid_0's rmse: 264403\n",
            "[307]\tvalid_0's rmse: 264418\n",
            "[308]\tvalid_0's rmse: 264337\n",
            "[309]\tvalid_0's rmse: 264184\n",
            "[310]\tvalid_0's rmse: 264148\n",
            "[311]\tvalid_0's rmse: 264067\n",
            "[312]\tvalid_0's rmse: 264055\n",
            "[313]\tvalid_0's rmse: 264053\n",
            "[314]\tvalid_0's rmse: 263910\n",
            "[315]\tvalid_0's rmse: 263887\n",
            "[316]\tvalid_0's rmse: 263830\n",
            "[317]\tvalid_0's rmse: 263733\n",
            "[318]\tvalid_0's rmse: 263770\n",
            "[319]\tvalid_0's rmse: 263680\n",
            "[320]\tvalid_0's rmse: 263624\n",
            "[321]\tvalid_0's rmse: 263625\n",
            "[322]\tvalid_0's rmse: 263654\n",
            "[323]\tvalid_0's rmse: 263589\n",
            "[324]\tvalid_0's rmse: 263473\n",
            "[325]\tvalid_0's rmse: 263404\n",
            "[326]\tvalid_0's rmse: 263454\n",
            "[327]\tvalid_0's rmse: 263421\n",
            "[328]\tvalid_0's rmse: 263479\n",
            "[329]\tvalid_0's rmse: 263426\n",
            "[330]\tvalid_0's rmse: 263399\n",
            "[331]\tvalid_0's rmse: 263392\n",
            "[332]\tvalid_0's rmse: 263389\n",
            "[333]\tvalid_0's rmse: 263362\n",
            "[334]\tvalid_0's rmse: 263258\n",
            "[335]\tvalid_0's rmse: 263319\n",
            "[336]\tvalid_0's rmse: 263286\n",
            "[337]\tvalid_0's rmse: 263321\n",
            "[338]\tvalid_0's rmse: 263352\n",
            "[339]\tvalid_0's rmse: 263430\n",
            "[340]\tvalid_0's rmse: 263443\n",
            "[341]\tvalid_0's rmse: 263366\n",
            "[342]\tvalid_0's rmse: 263354\n",
            "[343]\tvalid_0's rmse: 263367\n",
            "[344]\tvalid_0's rmse: 263305\n",
            "Early stopping, best iteration is:\n",
            "[334]\tvalid_0's rmse: 263258\n"
          ]
        }
      ]
    },
    {
      "cell_type": "code",
      "metadata": {
        "id": "D07YcLoFE8fr",
        "colab": {
          "base_uri": "https://localhost:8080/"
        },
        "outputId": "6b1d50c3-29a5-46db-b3f4-2c093dd59bbf"
      },
      "source": [
        "lgbm_r2 = r2_score(lgbm_model.predict(X_test), y_test)\n",
        "print(dt_r2, lgbm_r2)"
      ],
      "execution_count": null,
      "outputs": [
        {
          "output_type": "stream",
          "name": "stdout",
          "text": [
            "0.5363515670683969 0.7862026981701075\n"
          ]
        }
      ]
    },
    {
      "cell_type": "code",
      "metadata": {
        "id": "-ZVLEyRYD1_E",
        "colab": {
          "base_uri": "https://localhost:8080/"
        },
        "outputId": "1bc7bb27-aad2-485f-a894-d85180430dce"
      },
      "source": [
        "dt_mse = mean_squared_error(melbourne_model.predict(X_test), y_test, squared=False)\n",
        "lgbm_mse = mean_squared_error(lgbm_model.predict(X_test), y_test, squared=False)\n",
        "print(dt_mse, lgbm_mse)"
      ],
      "execution_count": null,
      "outputs": [
        {
          "output_type": "stream",
          "name": "stdout",
          "text": [
            "426794.1232111415 263258.45809458406\n"
          ]
        }
      ]
    },
    {
      "cell_type": "code",
      "metadata": {
        "id": "PhIiyjHtG4pn"
      },
      "source": [
        ""
      ],
      "execution_count": null,
      "outputs": []
    }
  ]
}