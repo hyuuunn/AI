{
 "cells": [
  {
   "cell_type": "markdown",
   "metadata": {
    "id": "txOXWX4WOO5G"
   },
   "source": [
    "## Bayesian Opt"
   ]
  },
  {
   "cell_type": "code",
   "execution_count": 1,
   "metadata": {
    "colab": {
     "base_uri": "https://localhost:8080/"
    },
    "id": "18DhgDTPe4c1",
    "outputId": "ff31e135-d401-43ae-ed55-ca62e1f24caf"
   },
   "outputs": [
    {
     "name": "stdout",
     "output_type": "stream",
     "text": [
      "Requirement already satisfied: bayesian-optimization in /Applications/anaconda3/lib/python3.8/site-packages (1.2.0)\n",
      "Requirement already satisfied: numpy>=1.9.0 in /Applications/anaconda3/lib/python3.8/site-packages (from bayesian-optimization) (1.19.5)\n",
      "Requirement already satisfied: scipy>=0.14.0 in /Applications/anaconda3/lib/python3.8/site-packages (from bayesian-optimization) (1.7.3)\n",
      "Requirement already satisfied: scikit-learn>=0.18.0 in /Applications/anaconda3/lib/python3.8/site-packages (from bayesian-optimization) (1.0.2)\n",
      "Requirement already satisfied: joblib>=0.11 in /Applications/anaconda3/lib/python3.8/site-packages (from scikit-learn>=0.18.0->bayesian-optimization) (1.0.1)\n",
      "Requirement already satisfied: threadpoolctl>=2.0.0 in /Applications/anaconda3/lib/python3.8/site-packages (from scikit-learn>=0.18.0->bayesian-optimization) (2.1.0)\n",
      "Requirement already satisfied: catboost in /Applications/anaconda3/lib/python3.8/site-packages (1.0.4)\n",
      "Requirement already satisfied: six in /Applications/anaconda3/lib/python3.8/site-packages (from catboost) (1.15.0)\n",
      "Requirement already satisfied: numpy>=1.16.0 in /Applications/anaconda3/lib/python3.8/site-packages (from catboost) (1.19.5)\n",
      "Requirement already satisfied: matplotlib in /Applications/anaconda3/lib/python3.8/site-packages (from catboost) (3.5.1)\n",
      "Requirement already satisfied: pandas>=0.24.0 in /Applications/anaconda3/lib/python3.8/site-packages (from catboost) (1.2.4)\n",
      "Requirement already satisfied: scipy in /Applications/anaconda3/lib/python3.8/site-packages (from catboost) (1.7.3)\n",
      "Requirement already satisfied: graphviz in /Applications/anaconda3/lib/python3.8/site-packages (from catboost) (0.19.1)\n",
      "Requirement already satisfied: plotly in /Applications/anaconda3/lib/python3.8/site-packages (from catboost) (5.4.0)\n",
      "Requirement already satisfied: python-dateutil>=2.7.3 in /Applications/anaconda3/lib/python3.8/site-packages (from pandas>=0.24.0->catboost) (2.8.1)\n",
      "Requirement already satisfied: pytz>=2017.3 in /Applications/anaconda3/lib/python3.8/site-packages (from pandas>=0.24.0->catboost) (2021.1)\n",
      "Requirement already satisfied: pillow>=6.2.0 in /Applications/anaconda3/lib/python3.8/site-packages (from matplotlib->catboost) (8.2.0)\n",
      "Requirement already satisfied: packaging>=20.0 in /Applications/anaconda3/lib/python3.8/site-packages (from matplotlib->catboost) (20.9)\n",
      "Requirement already satisfied: fonttools>=4.22.0 in /Applications/anaconda3/lib/python3.8/site-packages (from matplotlib->catboost) (4.28.5)\n",
      "Requirement already satisfied: pyparsing>=2.2.1 in /Applications/anaconda3/lib/python3.8/site-packages (from matplotlib->catboost) (2.4.7)\n",
      "Requirement already satisfied: cycler>=0.10 in /Applications/anaconda3/lib/python3.8/site-packages (from matplotlib->catboost) (0.10.0)\n",
      "Requirement already satisfied: kiwisolver>=1.0.1 in /Applications/anaconda3/lib/python3.8/site-packages (from matplotlib->catboost) (1.3.1)\n",
      "Requirement already satisfied: tenacity>=6.2.0 in /Applications/anaconda3/lib/python3.8/site-packages (from plotly->catboost) (8.0.1)\n"
     ]
    }
   ],
   "source": [
    "!pip install bayesian-optimization\n",
    "!pip install catboost"
   ]
  },
  {
   "cell_type": "code",
   "execution_count": 2,
   "metadata": {
    "id": "dvA2Pk9pOQmU"
   },
   "outputs": [],
   "source": [
    "import warnings\n",
    "warnings.filterwarnings('ignore')\n",
    "from sklearn.preprocessing import LabelEncoder\n",
    "import numpy as np\n",
    "import pandas as pd\n",
    "import lightgbm\n",
    "from bayes_opt import BayesianOptimization\n",
    "from catboost import CatBoostClassifier, cv, Pool"
   ]
  },
  {
   "cell_type": "code",
   "execution_count": 3,
   "metadata": {
    "id": "hgGY4NBDe227"
   },
   "outputs": [],
   "source": [
    "train_df = pd.read_csv('flight_delays_train.csv')\n",
    "test_df = pd.read_csv('flight_delays_test.csv')\n",
    "\n",
    "train_df = train_df[train_df.DepTime <= 2400].copy() # departure time 을 기준으로 자름. 24시간 기준인데 이것을 넘어가는 것이 있어서.\n",
    "y_train = train_df['dep_delayed_15min'].map({'Y': 1, 'N': 0}).values # delay가 15분 이상된 것(Y)는 1로, 아닌 것(N)은 0으로 정답을 삼아 문제를 설계"
   ]
  },
  {
   "cell_type": "code",
   "execution_count": 4,
   "metadata": {
    "colab": {
     "base_uri": "https://localhost:8080/",
     "height": 424
    },
    "id": "pnpjZ7PlfttE",
    "outputId": "706b4ffa-4d98-48fd-a775-ba50fc2a4de1"
   },
   "outputs": [
    {
     "data": {
      "text/html": [
       "<div>\n",
       "<style scoped>\n",
       "    .dataframe tbody tr th:only-of-type {\n",
       "        vertical-align: middle;\n",
       "    }\n",
       "\n",
       "    .dataframe tbody tr th {\n",
       "        vertical-align: top;\n",
       "    }\n",
       "\n",
       "    .dataframe thead th {\n",
       "        text-align: right;\n",
       "    }\n",
       "</style>\n",
       "<table border=\"1\" class=\"dataframe\">\n",
       "  <thead>\n",
       "    <tr style=\"text-align: right;\">\n",
       "      <th></th>\n",
       "      <th>Month</th>\n",
       "      <th>DayofMonth</th>\n",
       "      <th>DayOfWeek</th>\n",
       "      <th>DepTime</th>\n",
       "      <th>UniqueCarrier</th>\n",
       "      <th>Origin</th>\n",
       "      <th>Dest</th>\n",
       "      <th>Distance</th>\n",
       "      <th>dep_delayed_15min</th>\n",
       "    </tr>\n",
       "  </thead>\n",
       "  <tbody>\n",
       "    <tr>\n",
       "      <th>0</th>\n",
       "      <td>c-8</td>\n",
       "      <td>c-21</td>\n",
       "      <td>c-7</td>\n",
       "      <td>1934</td>\n",
       "      <td>AA</td>\n",
       "      <td>ATL</td>\n",
       "      <td>DFW</td>\n",
       "      <td>732</td>\n",
       "      <td>N</td>\n",
       "    </tr>\n",
       "    <tr>\n",
       "      <th>1</th>\n",
       "      <td>c-4</td>\n",
       "      <td>c-20</td>\n",
       "      <td>c-3</td>\n",
       "      <td>1548</td>\n",
       "      <td>US</td>\n",
       "      <td>PIT</td>\n",
       "      <td>MCO</td>\n",
       "      <td>834</td>\n",
       "      <td>N</td>\n",
       "    </tr>\n",
       "    <tr>\n",
       "      <th>2</th>\n",
       "      <td>c-9</td>\n",
       "      <td>c-2</td>\n",
       "      <td>c-5</td>\n",
       "      <td>1422</td>\n",
       "      <td>XE</td>\n",
       "      <td>RDU</td>\n",
       "      <td>CLE</td>\n",
       "      <td>416</td>\n",
       "      <td>N</td>\n",
       "    </tr>\n",
       "    <tr>\n",
       "      <th>3</th>\n",
       "      <td>c-11</td>\n",
       "      <td>c-25</td>\n",
       "      <td>c-6</td>\n",
       "      <td>1015</td>\n",
       "      <td>OO</td>\n",
       "      <td>DEN</td>\n",
       "      <td>MEM</td>\n",
       "      <td>872</td>\n",
       "      <td>N</td>\n",
       "    </tr>\n",
       "    <tr>\n",
       "      <th>4</th>\n",
       "      <td>c-10</td>\n",
       "      <td>c-7</td>\n",
       "      <td>c-6</td>\n",
       "      <td>1828</td>\n",
       "      <td>WN</td>\n",
       "      <td>MDW</td>\n",
       "      <td>OMA</td>\n",
       "      <td>423</td>\n",
       "      <td>Y</td>\n",
       "    </tr>\n",
       "    <tr>\n",
       "      <th>...</th>\n",
       "      <td>...</td>\n",
       "      <td>...</td>\n",
       "      <td>...</td>\n",
       "      <td>...</td>\n",
       "      <td>...</td>\n",
       "      <td>...</td>\n",
       "      <td>...</td>\n",
       "      <td>...</td>\n",
       "      <td>...</td>\n",
       "    </tr>\n",
       "    <tr>\n",
       "      <th>99995</th>\n",
       "      <td>c-5</td>\n",
       "      <td>c-4</td>\n",
       "      <td>c-3</td>\n",
       "      <td>1618</td>\n",
       "      <td>OO</td>\n",
       "      <td>SFO</td>\n",
       "      <td>RDD</td>\n",
       "      <td>199</td>\n",
       "      <td>N</td>\n",
       "    </tr>\n",
       "    <tr>\n",
       "      <th>99996</th>\n",
       "      <td>c-1</td>\n",
       "      <td>c-18</td>\n",
       "      <td>c-3</td>\n",
       "      <td>804</td>\n",
       "      <td>CO</td>\n",
       "      <td>EWR</td>\n",
       "      <td>DAB</td>\n",
       "      <td>884</td>\n",
       "      <td>N</td>\n",
       "    </tr>\n",
       "    <tr>\n",
       "      <th>99997</th>\n",
       "      <td>c-1</td>\n",
       "      <td>c-24</td>\n",
       "      <td>c-2</td>\n",
       "      <td>1901</td>\n",
       "      <td>NW</td>\n",
       "      <td>DTW</td>\n",
       "      <td>IAH</td>\n",
       "      <td>1076</td>\n",
       "      <td>N</td>\n",
       "    </tr>\n",
       "    <tr>\n",
       "      <th>99998</th>\n",
       "      <td>c-4</td>\n",
       "      <td>c-27</td>\n",
       "      <td>c-4</td>\n",
       "      <td>1515</td>\n",
       "      <td>MQ</td>\n",
       "      <td>DFW</td>\n",
       "      <td>GGG</td>\n",
       "      <td>140</td>\n",
       "      <td>N</td>\n",
       "    </tr>\n",
       "    <tr>\n",
       "      <th>99999</th>\n",
       "      <td>c-11</td>\n",
       "      <td>c-17</td>\n",
       "      <td>c-4</td>\n",
       "      <td>1800</td>\n",
       "      <td>WN</td>\n",
       "      <td>SEA</td>\n",
       "      <td>SMF</td>\n",
       "      <td>605</td>\n",
       "      <td>N</td>\n",
       "    </tr>\n",
       "  </tbody>\n",
       "</table>\n",
       "<p>99983 rows × 9 columns</p>\n",
       "</div>"
      ],
      "text/plain": [
       "      Month DayofMonth DayOfWeek  DepTime UniqueCarrier Origin Dest  Distance  \\\n",
       "0       c-8       c-21       c-7     1934            AA    ATL  DFW       732   \n",
       "1       c-4       c-20       c-3     1548            US    PIT  MCO       834   \n",
       "2       c-9        c-2       c-5     1422            XE    RDU  CLE       416   \n",
       "3      c-11       c-25       c-6     1015            OO    DEN  MEM       872   \n",
       "4      c-10        c-7       c-6     1828            WN    MDW  OMA       423   \n",
       "...     ...        ...       ...      ...           ...    ...  ...       ...   \n",
       "99995   c-5        c-4       c-3     1618            OO    SFO  RDD       199   \n",
       "99996   c-1       c-18       c-3      804            CO    EWR  DAB       884   \n",
       "99997   c-1       c-24       c-2     1901            NW    DTW  IAH      1076   \n",
       "99998   c-4       c-27       c-4     1515            MQ    DFW  GGG       140   \n",
       "99999  c-11       c-17       c-4     1800            WN    SEA  SMF       605   \n",
       "\n",
       "      dep_delayed_15min  \n",
       "0                     N  \n",
       "1                     N  \n",
       "2                     N  \n",
       "3                     N  \n",
       "4                     Y  \n",
       "...                 ...  \n",
       "99995                 N  \n",
       "99996                 N  \n",
       "99997                 N  \n",
       "99998                 N  \n",
       "99999                 N  \n",
       "\n",
       "[99983 rows x 9 columns]"
      ]
     },
     "execution_count": 4,
     "metadata": {},
     "output_type": "execute_result"
    }
   ],
   "source": [
    "train_df"
   ]
  },
  {
   "cell_type": "code",
   "execution_count": 5,
   "metadata": {
    "id": "9nk3SmLtfzVl"
   },
   "outputs": [],
   "source": [
    "def label_enc(df_column):\n",
    "    df_column = LabelEncoder().fit_transform(df_column)\n",
    "    return df_column\n",
    "\n",
    "def make_features_sin(value, period=2400): # 주기성을 띄는 것을 sin 함수로 전처리. ex: 시간\n",
    "    value *= 2 * np.pi / period \n",
    "    return np.sin(value)\n",
    "\n",
    "def make_features_cos(value, period=2400): # 주기성을 띄는 것을 cos 함수로 전처리. ex: 시간\n",
    "    value *= 2 * np.pi / period \n",
    "    return np.cos(value)\n",
    "\n",
    "def feature_engineering(df):\n",
    "    df['flight'] = df['Origin']+df['Dest'] # 출발지 + 목적지\n",
    "    df['Month'] = df.Month.map(lambda x: x.split('-')[-1]).astype('int32') # '-' 로 쪼개고 마지막에 있는 것만 사용, 정수형으로 변환\n",
    "    df['DayofMonth'] = df.DayofMonth.map(lambda x: x.split('-')[-1]).astype('uint8') # '-' 로 쪼개고 마지막에 있는 것만 사용, 정수형으로 변환\n",
    "    df['is_begin_of_month'] = (df['DayofMonth'] < 10).astype('uint8') # 월 초\n",
    "    df['is_midddle_of_month'] = ((df['DayofMonth'] >= 10)&(df['DayofMonth'] < 20)).astype('uint8')\n",
    "    df['is_end_of_month'] = (df['DayofMonth'] >= 20).astype('uint8') # 월 말\n",
    "    df['DayOfWeek'] = df.DayOfWeek.map(lambda x: x.split('-')[-1]).astype('uint8') # 일주일 중 몇번째 날인지, 요일 -> 숫자버젼\n",
    "    df['hour'] = df.DepTime.map(lambda x: x/100).astype('int32') # 출발 시간\n",
    "    df['is_morning'] = df['hour'].map(lambda x: 1 if (x <= 11)& (x >= 7) else 0).astype('uint8') # 시간대 구분 -> 단순히 시간으로 안하고 시간대로 구분한다? -> continuous하지 않은 feature. why? 단순 비례/반비례 관계 외의 정보\n",
    "    df['is_daytime'] = df['hour'].map(lambda x: 1 if (x >= 12) & (x <= 18) else 0).astype('uint8') # 시간대 구분\n",
    "    df['is_evening'] = df['hour'].map(lambda x: 1 if (x >= 19) & (x <= 23) else 0).astype('uint8') # 시간대 구분\n",
    "    df['is_night'] = df['hour'].map(lambda x: 1 if (x >= 0) & (x <= 6) else 0).astype('int32') # 시간대 구분\n",
    "    df['is_winter'] = df['Month'].map(lambda x: x in [12, 1, 2]).astype('int32') # 계절 구분\n",
    "    df['is_spring'] = df['Month'].map(lambda x: x in [3, 4, 5]).astype('int32') # 계절 구분\n",
    "    df['is_summer'] = df['Month'].map(lambda x: x in [6, 7, 8]).astype('int32') # 계절 구분\n",
    "    df['is_autumn'] = df['Month'].map(lambda x: x in [9, 10, 11]).astype('int32') # 계절 구분\n",
    "    df['is_holiday'] = (df['DayOfWeek'] >= 5).astype(int) # 주말\n",
    "    df['is_weekday'] = (df['DayOfWeek'] < 5).astype(int) # 주중\n",
    "    df['airport_dest_count'] = df.groupby(['Dest'])['Dest'].transform('count') # 해당 목적지를 향하는 총 비행편 수\n",
    "    df['airport_origin_count'] = df.groupby(['Origin'])['Origin'].transform('count') # 해당 출발지로부터의 총 비행편 수\n",
    "    df['carrier_count'] = df.groupby(['UniqueCarrier'])['Dest'].transform('count') # 항공/운송업체 코드 (ex AA: American Airline) 의 목적지를 향하는 총 비행편 수\n",
    "    df['airport_dest_per_month'] = df.groupby(['Dest', 'Month'])['Dest'].transform('count') # 해당 목적지를 향하는 비행편의 월 편 수\n",
    "    df['airport_origin_per_month'] = df.groupby(['Origin', 'Month'])['Origin'].transform('count') # 해당 출발지로부터의 비행편의 월 편 수\n",
    "    df['carrier_count_per month'] = df.groupby(['UniqueCarrier', 'Month'])['Dest'].transform('count') # 항공 코드의 목적지를 향하는 비행편의 월 편 수\n",
    "    df['deptime_sin'] = df['DepTime'].map(make_features_sin) # 시간은 주기성이 있기에 sin으로 처리 (2400을 주기성으로, 근데 전처리에서 이미 해주긴 했음.)\n",
    "    df['deptime_cos'] = df['DepTime'].map(make_features_cos) # 시간은 주기성이 있기에 sin으로 처리 \n",
    "    df['flightUC'] = df['flight']+df['UniqueCarrier'] # 출발지 + 목적지 + 항공코드\n",
    "    df['DestUC'] = df['Dest']+df['UniqueCarrier'] # 목적지 + 항공코드\n",
    "    df['OriginUC'] = df['Origin']+df['UniqueCarrier'] # 출발지 + 항공코드\n",
    "    return df.drop('DepTime', axis=1) # depature time은 제외하고 feature engineering한 것을 return"
   ]
  },
  {
   "cell_type": "code",
   "execution_count": 6,
   "metadata": {
    "colab": {
     "base_uri": "https://localhost:8080/"
    },
    "id": "5FnMx2BUjmdv",
    "outputId": "d3e1907b-46b0-417c-a987-2f4fc2139133"
   },
   "outputs": [
    {
     "data": {
      "text/plain": [
       "ATL    5822\n",
       "ORD    4870\n",
       "DFW    4270\n",
       "LAX    3259\n",
       "IAH    3048\n",
       "       ... \n",
       "VIS       1\n",
       "ADK       1\n",
       "ILG       1\n",
       "VCT       1\n",
       "WYS       1\n",
       "Name: Origin, Length: 289, dtype: int64"
      ]
     },
     "execution_count": 6,
     "metadata": {},
     "output_type": "execute_result"
    }
   ],
   "source": [
    "train_df['Origin'].value_counts()"
   ]
  },
  {
   "cell_type": "code",
   "execution_count": 7,
   "metadata": {
    "colab": {
     "base_uri": "https://localhost:8080/",
     "height": 424
    },
    "id": "bkr7x3i7jz3Q",
    "outputId": "d3bb2c41-d71e-4314-e838-fc3d05cd2039"
   },
   "outputs": [
    {
     "data": {
      "text/html": [
       "<div>\n",
       "<style scoped>\n",
       "    .dataframe tbody tr th:only-of-type {\n",
       "        vertical-align: middle;\n",
       "    }\n",
       "\n",
       "    .dataframe tbody tr th {\n",
       "        vertical-align: top;\n",
       "    }\n",
       "\n",
       "    .dataframe thead th {\n",
       "        text-align: right;\n",
       "    }\n",
       "</style>\n",
       "<table border=\"1\" class=\"dataframe\">\n",
       "  <thead>\n",
       "    <tr style=\"text-align: right;\">\n",
       "      <th></th>\n",
       "      <th>Month</th>\n",
       "      <th>DayofMonth</th>\n",
       "      <th>DayOfWeek</th>\n",
       "      <th>DepTime</th>\n",
       "      <th>UniqueCarrier</th>\n",
       "      <th>Origin</th>\n",
       "      <th>Dest</th>\n",
       "      <th>Distance</th>\n",
       "      <th>dep_delayed_15min</th>\n",
       "    </tr>\n",
       "  </thead>\n",
       "  <tbody>\n",
       "    <tr>\n",
       "      <th>0</th>\n",
       "      <td>c-8</td>\n",
       "      <td>c-21</td>\n",
       "      <td>c-7</td>\n",
       "      <td>1934</td>\n",
       "      <td>AA</td>\n",
       "      <td>ATL</td>\n",
       "      <td>DFW</td>\n",
       "      <td>732</td>\n",
       "      <td>N</td>\n",
       "    </tr>\n",
       "    <tr>\n",
       "      <th>21</th>\n",
       "      <td>c-6</td>\n",
       "      <td>c-21</td>\n",
       "      <td>c-3</td>\n",
       "      <td>1519</td>\n",
       "      <td>EV</td>\n",
       "      <td>ATL</td>\n",
       "      <td>ILM</td>\n",
       "      <td>377</td>\n",
       "      <td>Y</td>\n",
       "    </tr>\n",
       "    <tr>\n",
       "      <th>24</th>\n",
       "      <td>c-12</td>\n",
       "      <td>c-31</td>\n",
       "      <td>c-6</td>\n",
       "      <td>1837</td>\n",
       "      <td>DL</td>\n",
       "      <td>ATL</td>\n",
       "      <td>MSP</td>\n",
       "      <td>906</td>\n",
       "      <td>N</td>\n",
       "    </tr>\n",
       "    <tr>\n",
       "      <th>33</th>\n",
       "      <td>c-12</td>\n",
       "      <td>c-3</td>\n",
       "      <td>c-7</td>\n",
       "      <td>1653</td>\n",
       "      <td>EV</td>\n",
       "      <td>ATL</td>\n",
       "      <td>MYR</td>\n",
       "      <td>317</td>\n",
       "      <td>Y</td>\n",
       "    </tr>\n",
       "    <tr>\n",
       "      <th>58</th>\n",
       "      <td>c-9</td>\n",
       "      <td>c-5</td>\n",
       "      <td>c-2</td>\n",
       "      <td>1831</td>\n",
       "      <td>FL</td>\n",
       "      <td>ATL</td>\n",
       "      <td>MSP</td>\n",
       "      <td>906</td>\n",
       "      <td>Y</td>\n",
       "    </tr>\n",
       "    <tr>\n",
       "      <th>...</th>\n",
       "      <td>...</td>\n",
       "      <td>...</td>\n",
       "      <td>...</td>\n",
       "      <td>...</td>\n",
       "      <td>...</td>\n",
       "      <td>...</td>\n",
       "      <td>...</td>\n",
       "      <td>...</td>\n",
       "      <td>...</td>\n",
       "    </tr>\n",
       "    <tr>\n",
       "      <th>99911</th>\n",
       "      <td>c-7</td>\n",
       "      <td>c-4</td>\n",
       "      <td>c-1</td>\n",
       "      <td>1055</td>\n",
       "      <td>EV</td>\n",
       "      <td>ATL</td>\n",
       "      <td>CRW</td>\n",
       "      <td>363</td>\n",
       "      <td>N</td>\n",
       "    </tr>\n",
       "    <tr>\n",
       "      <th>99936</th>\n",
       "      <td>c-5</td>\n",
       "      <td>c-19</td>\n",
       "      <td>c-4</td>\n",
       "      <td>849</td>\n",
       "      <td>DL</td>\n",
       "      <td>ATL</td>\n",
       "      <td>SAT</td>\n",
       "      <td>874</td>\n",
       "      <td>N</td>\n",
       "    </tr>\n",
       "    <tr>\n",
       "      <th>99971</th>\n",
       "      <td>c-7</td>\n",
       "      <td>c-31</td>\n",
       "      <td>c-1</td>\n",
       "      <td>2027</td>\n",
       "      <td>DL</td>\n",
       "      <td>ATL</td>\n",
       "      <td>SJC</td>\n",
       "      <td>2116</td>\n",
       "      <td>Y</td>\n",
       "    </tr>\n",
       "    <tr>\n",
       "      <th>99981</th>\n",
       "      <td>c-8</td>\n",
       "      <td>c-15</td>\n",
       "      <td>c-1</td>\n",
       "      <td>1738</td>\n",
       "      <td>DL</td>\n",
       "      <td>ATL</td>\n",
       "      <td>PDX</td>\n",
       "      <td>2172</td>\n",
       "      <td>N</td>\n",
       "    </tr>\n",
       "    <tr>\n",
       "      <th>99986</th>\n",
       "      <td>c-10</td>\n",
       "      <td>c-15</td>\n",
       "      <td>c-6</td>\n",
       "      <td>1825</td>\n",
       "      <td>EV</td>\n",
       "      <td>ATL</td>\n",
       "      <td>CAE</td>\n",
       "      <td>191</td>\n",
       "      <td>N</td>\n",
       "    </tr>\n",
       "  </tbody>\n",
       "</table>\n",
       "<p>5822 rows × 9 columns</p>\n",
       "</div>"
      ],
      "text/plain": [
       "      Month DayofMonth DayOfWeek  DepTime UniqueCarrier Origin Dest  Distance  \\\n",
       "0       c-8       c-21       c-7     1934            AA    ATL  DFW       732   \n",
       "21      c-6       c-21       c-3     1519            EV    ATL  ILM       377   \n",
       "24     c-12       c-31       c-6     1837            DL    ATL  MSP       906   \n",
       "33     c-12        c-3       c-7     1653            EV    ATL  MYR       317   \n",
       "58      c-9        c-5       c-2     1831            FL    ATL  MSP       906   \n",
       "...     ...        ...       ...      ...           ...    ...  ...       ...   \n",
       "99911   c-7        c-4       c-1     1055            EV    ATL  CRW       363   \n",
       "99936   c-5       c-19       c-4      849            DL    ATL  SAT       874   \n",
       "99971   c-7       c-31       c-1     2027            DL    ATL  SJC      2116   \n",
       "99981   c-8       c-15       c-1     1738            DL    ATL  PDX      2172   \n",
       "99986  c-10       c-15       c-6     1825            EV    ATL  CAE       191   \n",
       "\n",
       "      dep_delayed_15min  \n",
       "0                     N  \n",
       "21                    Y  \n",
       "24                    N  \n",
       "33                    Y  \n",
       "58                    Y  \n",
       "...                 ...  \n",
       "99911                 N  \n",
       "99936                 N  \n",
       "99971                 Y  \n",
       "99981                 N  \n",
       "99986                 N  \n",
       "\n",
       "[5822 rows x 9 columns]"
      ]
     },
     "execution_count": 7,
     "metadata": {},
     "output_type": "execute_result"
    }
   ],
   "source": [
    "train_df[train_df['Origin']=='ATL']"
   ]
  },
  {
   "cell_type": "code",
   "execution_count": 8,
   "metadata": {
    "colab": {
     "base_uri": "https://localhost:8080/"
    },
    "id": "lsFQ5oxljL3d",
    "outputId": "61746fbd-e932-47f2-bb78-2738b81dad5f"
   },
   "outputs": [
    {
     "data": {
      "text/plain": [
       "0        5822\n",
       "1         688\n",
       "2         868\n",
       "3        2973\n",
       "4        1366\n",
       "         ... \n",
       "99995    1839\n",
       "99996    2196\n",
       "99997    1863\n",
       "99998    4270\n",
       "99999    1526\n",
       "Name: Origin, Length: 99983, dtype: int64"
      ]
     },
     "execution_count": 8,
     "metadata": {},
     "output_type": "execute_result"
    }
   ],
   "source": [
    "train_df.groupby(['Origin'])['Origin'].transform('count')"
   ]
  },
  {
   "cell_type": "code",
   "execution_count": null,
   "metadata": {
    "id": "qA2pSv_ajv6_"
   },
   "outputs": [],
   "source": []
  },
  {
   "cell_type": "code",
   "execution_count": 9,
   "metadata": {
    "id": "TWSHkI-tlR_S"
   },
   "outputs": [],
   "source": [
    "full_df = pd.concat([train_df.drop('dep_delayed_15min', axis=1), test_df])\n",
    "full_df = feature_engineering(full_df) \n",
    "\n",
    "for column in ['UniqueCarrier', 'Origin', 'Dest','flight',  'flightUC', 'DestUC', 'OriginUC']: # categorical feature는 label encoding\n",
    "    full_df[column] = label_enc(full_df[column])\n",
    "\n",
    "X_train = full_df[:train_df.shape[0]]\n",
    "X_test = full_df[train_df.shape[0]:]"
   ]
  },
  {
   "cell_type": "code",
   "execution_count": 10,
   "metadata": {
    "colab": {
     "base_uri": "https://localhost:8080/",
     "height": 288
    },
    "id": "7xWx1R5Klj6G",
    "outputId": "b44512f2-c678-4dfb-eb87-746336c1093d"
   },
   "outputs": [
    {
     "data": {
      "text/html": [
       "<div>\n",
       "<style scoped>\n",
       "    .dataframe tbody tr th:only-of-type {\n",
       "        vertical-align: middle;\n",
       "    }\n",
       "\n",
       "    .dataframe tbody tr th {\n",
       "        vertical-align: top;\n",
       "    }\n",
       "\n",
       "    .dataframe thead th {\n",
       "        text-align: right;\n",
       "    }\n",
       "</style>\n",
       "<table border=\"1\" class=\"dataframe\">\n",
       "  <thead>\n",
       "    <tr style=\"text-align: right;\">\n",
       "      <th></th>\n",
       "      <th>Month</th>\n",
       "      <th>DayofMonth</th>\n",
       "      <th>DayOfWeek</th>\n",
       "      <th>UniqueCarrier</th>\n",
       "      <th>Origin</th>\n",
       "      <th>Dest</th>\n",
       "      <th>Distance</th>\n",
       "      <th>flight</th>\n",
       "      <th>is_begin_of_month</th>\n",
       "      <th>is_midddle_of_month</th>\n",
       "      <th>...</th>\n",
       "      <th>airport_origin_count</th>\n",
       "      <th>carrier_count</th>\n",
       "      <th>airport_dest_per_month</th>\n",
       "      <th>airport_origin_per_month</th>\n",
       "      <th>carrier_count_per month</th>\n",
       "      <th>deptime_sin</th>\n",
       "      <th>deptime_cos</th>\n",
       "      <th>flightUC</th>\n",
       "      <th>DestUC</th>\n",
       "      <th>OriginUC</th>\n",
       "    </tr>\n",
       "  </thead>\n",
       "  <tbody>\n",
       "    <tr>\n",
       "      <th>0</th>\n",
       "      <td>8</td>\n",
       "      <td>21</td>\n",
       "      <td>7</td>\n",
       "      <td>1</td>\n",
       "      <td>19</td>\n",
       "      <td>82</td>\n",
       "      <td>732</td>\n",
       "      <td>171</td>\n",
       "      <td>0</td>\n",
       "      <td>0</td>\n",
       "      <td>...</td>\n",
       "      <td>11375</td>\n",
       "      <td>18024</td>\n",
       "      <td>746</td>\n",
       "      <td>1016</td>\n",
       "      <td>1569</td>\n",
       "      <td>-0.939094</td>\n",
       "      <td>0.343660</td>\n",
       "      <td>265</td>\n",
       "      <td>494</td>\n",
       "      <td>67</td>\n",
       "    </tr>\n",
       "    <tr>\n",
       "      <th>1</th>\n",
       "      <td>4</td>\n",
       "      <td>20</td>\n",
       "      <td>3</td>\n",
       "      <td>19</td>\n",
       "      <td>226</td>\n",
       "      <td>180</td>\n",
       "      <td>834</td>\n",
       "      <td>3986</td>\n",
       "      <td>0</td>\n",
       "      <td>0</td>\n",
       "      <td>...</td>\n",
       "      <td>1390</td>\n",
       "      <td>13069</td>\n",
       "      <td>313</td>\n",
       "      <td>105</td>\n",
       "      <td>1094</td>\n",
       "      <td>-0.790155</td>\n",
       "      <td>-0.612907</td>\n",
       "      <td>6907</td>\n",
       "      <td>1085</td>\n",
       "      <td>1441</td>\n",
       "    </tr>\n",
       "    <tr>\n",
       "      <th>2</th>\n",
       "      <td>9</td>\n",
       "      <td>2</td>\n",
       "      <td>5</td>\n",
       "      <td>21</td>\n",
       "      <td>239</td>\n",
       "      <td>62</td>\n",
       "      <td>416</td>\n",
       "      <td>4091</td>\n",
       "      <td>1</td>\n",
       "      <td>0</td>\n",
       "      <td>...</td>\n",
       "      <td>1747</td>\n",
       "      <td>11737</td>\n",
       "      <td>166</td>\n",
       "      <td>136</td>\n",
       "      <td>977</td>\n",
       "      <td>-0.549023</td>\n",
       "      <td>-0.835807</td>\n",
       "      <td>7064</td>\n",
       "      <td>359</td>\n",
       "      <td>1518</td>\n",
       "    </tr>\n",
       "    <tr>\n",
       "      <th>3</th>\n",
       "      <td>11</td>\n",
       "      <td>25</td>\n",
       "      <td>6</td>\n",
       "      <td>16</td>\n",
       "      <td>81</td>\n",
       "      <td>184</td>\n",
       "      <td>872</td>\n",
       "      <td>1304</td>\n",
       "      <td>0</td>\n",
       "      <td>0</td>\n",
       "      <td>...</td>\n",
       "      <td>6222</td>\n",
       "      <td>15343</td>\n",
       "      <td>136</td>\n",
       "      <td>514</td>\n",
       "      <td>1242</td>\n",
       "      <td>0.465615</td>\n",
       "      <td>-0.884988</td>\n",
       "      <td>2258</td>\n",
       "      <td>1122</td>\n",
       "      <td>484</td>\n",
       "    </tr>\n",
       "    <tr>\n",
       "      <th>4</th>\n",
       "      <td>10</td>\n",
       "      <td>7</td>\n",
       "      <td>6</td>\n",
       "      <td>20</td>\n",
       "      <td>182</td>\n",
       "      <td>210</td>\n",
       "      <td>423</td>\n",
       "      <td>2979</td>\n",
       "      <td>1</td>\n",
       "      <td>0</td>\n",
       "      <td>...</td>\n",
       "      <td>2571</td>\n",
       "      <td>30958</td>\n",
       "      <td>48</td>\n",
       "      <td>226</td>\n",
       "      <td>2674</td>\n",
       "      <td>-0.997314</td>\n",
       "      <td>0.073238</td>\n",
       "      <td>5144</td>\n",
       "      <td>1313</td>\n",
       "      <td>1103</td>\n",
       "    </tr>\n",
       "  </tbody>\n",
       "</table>\n",
       "<p>5 rows × 33 columns</p>\n",
       "</div>"
      ],
      "text/plain": [
       "   Month  DayofMonth  DayOfWeek  UniqueCarrier  Origin  Dest  Distance  \\\n",
       "0      8          21          7              1      19    82       732   \n",
       "1      4          20          3             19     226   180       834   \n",
       "2      9           2          5             21     239    62       416   \n",
       "3     11          25          6             16      81   184       872   \n",
       "4     10           7          6             20     182   210       423   \n",
       "\n",
       "   flight  is_begin_of_month  is_midddle_of_month  ...  airport_origin_count  \\\n",
       "0     171                  0                    0  ...                 11375   \n",
       "1    3986                  0                    0  ...                  1390   \n",
       "2    4091                  1                    0  ...                  1747   \n",
       "3    1304                  0                    0  ...                  6222   \n",
       "4    2979                  1                    0  ...                  2571   \n",
       "\n",
       "   carrier_count  airport_dest_per_month  airport_origin_per_month  \\\n",
       "0          18024                     746                      1016   \n",
       "1          13069                     313                       105   \n",
       "2          11737                     166                       136   \n",
       "3          15343                     136                       514   \n",
       "4          30958                      48                       226   \n",
       "\n",
       "   carrier_count_per month  deptime_sin  deptime_cos  flightUC  DestUC  \\\n",
       "0                     1569    -0.939094     0.343660       265     494   \n",
       "1                     1094    -0.790155    -0.612907      6907    1085   \n",
       "2                      977    -0.549023    -0.835807      7064     359   \n",
       "3                     1242     0.465615    -0.884988      2258    1122   \n",
       "4                     2674    -0.997314     0.073238      5144    1313   \n",
       "\n",
       "   OriginUC  \n",
       "0        67  \n",
       "1      1441  \n",
       "2      1518  \n",
       "3       484  \n",
       "4      1103  \n",
       "\n",
       "[5 rows x 33 columns]"
      ]
     },
     "execution_count": 10,
     "metadata": {},
     "output_type": "execute_result"
    }
   ],
   "source": [
    "X_train.head()"
   ]
  },
  {
   "cell_type": "code",
   "execution_count": 11,
   "metadata": {
    "id": "nAfHodQelYxt"
   },
   "outputs": [],
   "source": [
    "from sklearn.model_selection import train_test_split"
   ]
  },
  {
   "cell_type": "code",
   "execution_count": 12,
   "metadata": {
    "id": "nbGvvyRjmJwR"
   },
   "outputs": [],
   "source": [
    "categorical_features = ['Month',  'DayOfWeek', 'UniqueCarrier', 'Origin', 'Dest','flight',  'flightUC', 'DestUC', 'OriginUC']\n",
    "\n",
    "X_train, X_valid, y_train, y_valid = train_test_split(X_train, y_train, test_size=0.33)"
   ]
  },
  {
   "cell_type": "code",
   "execution_count": 13,
   "metadata": {
    "colab": {
     "base_uri": "https://localhost:8080/"
    },
    "id": "Qz3MDMA0qVDo",
    "outputId": "d9233416-dc82-48b9-e225-b9671537b5a6"
   },
   "outputs": [
    {
     "name": "stdout",
     "output_type": "stream",
     "text": [
      "CPU times: user 5 µs, sys: 4 µs, total: 9 µs\n",
      "Wall time: 16.2 µs\n"
     ]
    },
    {
     "data": {
      "text/plain": [
       "0.8094862858008789"
      ]
     },
     "execution_count": 13,
     "metadata": {},
     "output_type": "execute_result"
    }
   ],
   "source": [
    "import lightgbm as lgb\n",
    "%time \n",
    "\n",
    "model = lgb.LGBMClassifier()\n",
    "model.fit(X_train, y_train, categorical_feature=categorical_features)\n",
    "model.score(X_valid, y_valid)"
   ]
  },
  {
   "cell_type": "code",
   "execution_count": null,
   "metadata": {
    "id": "fWTCwKvMnM1w"
   },
   "outputs": [],
   "source": []
  },
  {
   "cell_type": "code",
   "execution_count": 14,
   "metadata": {
    "colab": {
     "base_uri": "https://localhost:8080/"
    },
    "id": "JrsfKId1nu6G",
    "outputId": "db95d8c4-9f7d-4a5d-c7b1-d03025b853cd"
   },
   "outputs": [
    {
     "name": "stdout",
     "output_type": "stream",
     "text": [
      "CPU times: user 3 µs, sys: 1e+03 ns, total: 4 µs\n",
      "Wall time: 7.87 µs\n"
     ]
    },
    {
     "data": {
      "text/plain": [
       "0.8189119563570237"
      ]
     },
     "execution_count": 14,
     "metadata": {},
     "output_type": "execute_result"
    }
   ],
   "source": [
    "from skopt import BayesSearchCV\n",
    "\n",
    "%time\n",
    "\n",
    "opt = BayesSearchCV(\n",
    "    estimator = lgb.LGBMClassifier(),\n",
    "    search_spaces= {\n",
    "        'num_leaves': (15, 50), # [15, 25, 50]\n",
    "        'lambda_l2': (0.0, 0.05),\n",
    "        'lambda_l1': (0.0, 0.05),\n",
    "        'min_child_samples': (50, 10000),\n",
    "        'min_data_in_leaf': (100, 2000)\n",
    "    },\n",
    "    n_iter=32,\n",
    "    cv=3\n",
    ")\n",
    "\n",
    "opt.fit(X_train, y_train)\n",
    "opt.score(X_valid, y_valid)"
   ]
  },
  {
   "cell_type": "code",
   "execution_count": 15,
   "metadata": {
    "colab": {
     "base_uri": "https://localhost:8080/"
    },
    "id": "ShyroH1SrfAT",
    "outputId": "1ff097be-624e-4ee2-955a-4d62a2d36514"
   },
   "outputs": [
    {
     "name": "stdout",
     "output_type": "stream",
     "text": [
      "OrderedDict([('lambda_l1', 0.03955250913818615), ('lambda_l2', 0.04130022508480205), ('min_child_samples', 7885), ('min_data_in_leaf', 100), ('num_leaves', 50)])\n"
     ]
    }
   ],
   "source": [
    "print(opt.best_params_)"
   ]
  },
  {
   "cell_type": "code",
   "execution_count": 16,
   "metadata": {
    "colab": {
     "base_uri": "https://localhost:8080/"
    },
    "id": "y8RNZhyBwGs_",
    "outputId": "9d1fdeb5-f01c-4dee-8374-dd27a37a1e89"
   },
   "outputs": [
    {
     "data": {
      "text/plain": [
       "0.8189119563570237"
      ]
     },
     "execution_count": 16,
     "metadata": {},
     "output_type": "execute_result"
    }
   ],
   "source": [
    "opt.score(X_valid, y_valid)"
   ]
  },
  {
   "cell_type": "code",
   "execution_count": null,
   "metadata": {},
   "outputs": [],
   "source": []
  }
 ],
 "metadata": {
  "colab": {
   "collapsed_sections": [],
   "name": "Unit_6.ipynb",
   "provenance": []
  },
  "kernelspec": {
   "display_name": "Python 3",
   "language": "python",
   "name": "python3"
  },
  "language_info": {
   "codemirror_mode": {
    "name": "ipython",
    "version": 3
   },
   "file_extension": ".py",
   "mimetype": "text/x-python",
   "name": "python",
   "nbconvert_exporter": "python",
   "pygments_lexer": "ipython3",
   "version": "3.8.8"
  },
  "toc": {
   "base_numbering": 1,
   "nav_menu": {},
   "number_sections": true,
   "sideBar": true,
   "skip_h1_title": false,
   "title_cell": "Table of Contents",
   "title_sidebar": "Contents",
   "toc_cell": false,
   "toc_position": {
    "height": "calc(100% - 180px)",
    "left": "10px",
    "top": "150px",
    "width": "253.797px"
   },
   "toc_section_display": true,
   "toc_window_display": true
  },
  "varInspector": {
   "cols": {
    "lenName": 16,
    "lenType": 16,
    "lenVar": 40
   },
   "kernels_config": {
    "python": {
     "delete_cmd_postfix": "",
     "delete_cmd_prefix": "del ",
     "library": "var_list.py",
     "varRefreshCmd": "print(var_dic_list())"
    },
    "r": {
     "delete_cmd_postfix": ") ",
     "delete_cmd_prefix": "rm(",
     "library": "var_list.r",
     "varRefreshCmd": "cat(var_dic_list()) "
    }
   },
   "types_to_exclude": [
    "module",
    "function",
    "builtin_function_or_method",
    "instance",
    "_Feature"
   ],
   "window_display": false
  }
 },
 "nbformat": 4,
 "nbformat_minor": 1
}
