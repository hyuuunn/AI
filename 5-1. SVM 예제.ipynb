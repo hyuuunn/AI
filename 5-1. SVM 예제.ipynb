{
 "cells": [
  {
   "cell_type": "markdown",
   "metadata": {
    "id": "v5-TtT2TqXFd"
   },
   "source": [
    "# SVM 예제"
   ]
  },
  {
   "cell_type": "code",
   "execution_count": 1,
   "metadata": {
    "executionInfo": {
     "elapsed": 1238,
     "status": "ok",
     "timestamp": 1644992947125,
     "user": {
      "displayName": "lover coffee",
      "photoUrl": "https://lh3.googleusercontent.com/a/default-user=s64",
      "userId": "02387638799294991184"
     },
     "user_tz": -540
    },
    "id": "iHLxeYNM652I"
   },
   "outputs": [],
   "source": [
    "import numpy as np\n",
    "import matplotlib\n",
    "import matplotlib.pyplot as plt\n",
    "from sklearn.pipeline import make_pipeline\n",
    "from sklearn.preprocessing import StandardScaler\n",
    "from sklearn.datasets import make_blobs\n",
    "from sklearn.svm import SVC, LinearSVC"
   ]
  },
  {
   "cell_type": "code",
   "execution_count": 2,
   "metadata": {
    "colab": {
     "base_uri": "https://localhost:8080/"
    },
    "executionInfo": {
     "elapsed": 4,
     "status": "ok",
     "timestamp": 1644992948147,
     "user": {
      "displayName": "lover coffee",
      "photoUrl": "https://lh3.googleusercontent.com/a/default-user=s64",
      "userId": "02387638799294991184"
     },
     "user_tz": -540
    },
    "id": "ql-U_5xjc6zv",
    "outputId": "da38fd09-877a-4b91-9e84-66744c13f7b8"
   },
   "outputs": [
    {
     "data": {
      "text/plain": [
       "SVC(gamma='auto')"
      ]
     },
     "execution_count": 2,
     "metadata": {},
     "output_type": "execute_result"
    }
   ],
   "source": [
    "X = np.array([[-1, -1], [-2, -1], [1, 1], [2, 1]])\n",
    "y = np.array([1, 1, 2, 2])\n",
    "\n",
    "scaler = StandardScaler()\n",
    "X = scaler.fit_transform(X)\n",
    "\n",
    "svm_classifier = SVC(gamma='auto')\n",
    "svm_classifier.fit(X, y)"
   ]
  },
  {
   "cell_type": "code",
   "execution_count": 3,
   "metadata": {
    "colab": {
     "base_uri": "https://localhost:8080/"
    },
    "executionInfo": {
     "elapsed": 3,
     "status": "ok",
     "timestamp": 1644992948989,
     "user": {
      "displayName": "lover coffee",
      "photoUrl": "https://lh3.googleusercontent.com/a/default-user=s64",
      "userId": "02387638799294991184"
     },
     "user_tz": -540
    },
    "id": "1mtLHxuKpMuW",
    "outputId": "8a7f579d-8565-4e13-9f6e-921090f605ca"
   },
   "outputs": [
    {
     "data": {
      "text/plain": [
       "array([[-0.63245553, -1.        ],\n",
       "       [-1.26491106, -1.        ],\n",
       "       [ 0.63245553,  1.        ],\n",
       "       [ 1.26491106,  1.        ]])"
      ]
     },
     "execution_count": 3,
     "metadata": {},
     "output_type": "execute_result"
    }
   ],
   "source": [
    "X"
   ]
  },
  {
   "cell_type": "code",
   "execution_count": 4,
   "metadata": {
    "executionInfo": {
     "elapsed": 2,
     "status": "ok",
     "timestamp": 1644992949629,
     "user": {
      "displayName": "lover coffee",
      "photoUrl": "https://lh3.googleusercontent.com/a/default-user=s64",
      "userId": "02387638799294991184"
     },
     "user_tz": -540
    },
    "id": "dugXKMJwdFty"
   },
   "outputs": [],
   "source": [
    "x_pts = np.array([-1, -2, 1, 2])\n",
    "y_pts = np.array([-1, -1, 1, 1])\n",
    "label = y"
   ]
  },
  {
   "cell_type": "code",
   "execution_count": 5,
   "metadata": {
    "colab": {
     "base_uri": "https://localhost:8080/",
     "height": 283
    },
    "executionInfo": {
     "elapsed": 7,
     "status": "ok",
     "timestamp": 1644992950568,
     "user": {
      "displayName": "lover coffee",
      "photoUrl": "https://lh3.googleusercontent.com/a/default-user=s64",
      "userId": "02387638799294991184"
     },
     "user_tz": -540
    },
    "id": "LkkaqeqJdEGA",
    "outputId": "c0fb856c-08c0-4fd5-b982-6249f1431e69"
   },
   "outputs": [
    {
     "data": {
      "text/plain": [
       "<matplotlib.collections.PathCollection at 0x7fd6513631f0>"
      ]
     },
     "execution_count": 5,
     "metadata": {},
     "output_type": "execute_result"
    },
    {
     "data": {
      "image/png": "[encoded data removed]",
      "text/plain": [
       "<Figure size 432x288 with 1 Axes>"
      ]
     },
     "metadata": {
      "needs_background": "light"
     },
     "output_type": "display_data"
    }
   ],
   "source": [
    "plt.scatter(x_pts, y_pts, c=label)"
   ]
  },
  {
   "cell_type": "code",
   "execution_count": 6,
   "metadata": {
    "colab": {
     "base_uri": "https://localhost:8080/"
    },
    "executionInfo": {
     "elapsed": 3,
     "status": "ok",
     "timestamp": 1644992951995,
     "user": {
      "displayName": "lover coffee",
      "photoUrl": "https://lh3.googleusercontent.com/a/default-user=s64",
      "userId": "02387638799294991184"
     },
     "user_tz": -540
    },
    "id": "0wJY8EdJe-GV",
    "outputId": "daeb3c2f-8423-4e12-e2e7-194e9ce27e92"
   },
   "outputs": [
    {
     "data": {
      "text/plain": [
       "array([1])"
      ]
     },
     "execution_count": 6,
     "metadata": {},
     "output_type": "execute_result"
    }
   ],
   "source": [
    "svm_classifier.predict(np.array([-1, 0]).reshape(1, -1))"
   ]
  },
  {
   "cell_type": "code",
   "execution_count": 7,
   "metadata": {
    "colab": {
     "base_uri": "https://localhost:8080/"
    },
    "executionInfo": {
     "elapsed": 3,
     "status": "ok",
     "timestamp": 1644992952396,
     "user": {
      "displayName": "lover coffee",
      "photoUrl": "https://lh3.googleusercontent.com/a/default-user=s64",
      "userId": "02387638799294991184"
     },
     "user_tz": -540
    },
    "id": "ykyUEsiufDij",
    "outputId": "46e85b7a-61fe-476f-f032-af01827f10a6"
   },
   "outputs": [
    {
     "data": {
      "text/plain": [
       "array([2])"
      ]
     },
     "execution_count": 7,
     "metadata": {},
     "output_type": "execute_result"
    }
   ],
   "source": [
    "svm_classifier.predict(np.array([1, 0.5]).reshape(1, -1))"
   ]
  },
  {
   "cell_type": "code",
   "execution_count": 8,
   "metadata": {
    "colab": {
     "base_uri": "https://localhost:8080/"
    },
    "executionInfo": {
     "elapsed": 3,
     "status": "ok",
     "timestamp": 1644992953420,
     "user": {
      "displayName": "lover coffee",
      "photoUrl": "https://lh3.googleusercontent.com/a/default-user=s64",
      "userId": "02387638799294991184"
     },
     "user_tz": -540
    },
    "id": "CTaLhrHdpCl1",
    "outputId": "5dffa6c1-77fe-4709-84e4-1b093fb9fd91"
   },
   "outputs": [
    {
     "data": {
      "text/plain": [
       "array([1])"
      ]
     },
     "execution_count": 8,
     "metadata": {},
     "output_type": "execute_result"
    }
   ],
   "source": [
    "svm_classifier.predict(scaler.transform(np.array([-1, 0]).reshape(1, -1)))"
   ]
  },
  {
   "cell_type": "code",
   "execution_count": 9,
   "metadata": {
    "colab": {
     "base_uri": "https://localhost:8080/"
    },
    "executionInfo": {
     "elapsed": 3,
     "status": "ok",
     "timestamp": 1644992953863,
     "user": {
      "displayName": "lover coffee",
      "photoUrl": "https://lh3.googleusercontent.com/a/default-user=s64",
      "userId": "02387638799294991184"
     },
     "user_tz": -540
    },
    "id": "T-xEBmbHdVg2",
    "outputId": "ccabd247-0f9d-4ba5-f82a-198e7fda4f3d"
   },
   "outputs": [
    {
     "data": {
      "text/plain": [
       "Pipeline(steps=[('standardscaler', StandardScaler()),\n",
       "                ('svc', SVC(gamma='auto'))])"
      ]
     },
     "execution_count": 9,
     "metadata": {},
     "output_type": "execute_result"
    }
   ],
   "source": [
    "# scaler = StandardScaler()\n",
    "# X = scaler.fit_transform(X)\n",
    "\n",
    "# svm_classifier = SVC(gamma='auto')\n",
    "# svm_classifier.fit(X, y)\n",
    "\n",
    "pipeline = make_pipeline(StandardScaler(), SVC(gamma='auto'))\n",
    "pipeline.fit(X, y)"
   ]
  },
  {
   "cell_type": "code",
   "execution_count": 10,
   "metadata": {
    "colab": {
     "base_uri": "https://localhost:8080/"
    },
    "executionInfo": {
     "elapsed": 14,
     "status": "ok",
     "timestamp": 1644992955302,
     "user": {
      "displayName": "lover coffee",
      "photoUrl": "https://lh3.googleusercontent.com/a/default-user=s64",
      "userId": "02387638799294991184"
     },
     "user_tz": -540
    },
    "id": "HZKqcHXmenPx",
    "outputId": "cde64c62-b448-45ba-dfa0-754b44ca43f9"
   },
   "outputs": [
    {
     "data": {
      "text/plain": [
       "array([1])"
      ]
     },
     "execution_count": 10,
     "metadata": {},
     "output_type": "execute_result"
    }
   ],
   "source": [
    "pipeline.predict(np.array([-1, 0]).reshape(1, -1))"
   ]
  },
  {
   "cell_type": "code",
   "execution_count": 11,
   "metadata": {
    "colab": {
     "base_uri": "https://localhost:8080/"
    },
    "executionInfo": {
     "elapsed": 45,
     "status": "ok",
     "timestamp": 1644992955922,
     "user": {
      "displayName": "lover coffee",
      "photoUrl": "https://lh3.googleusercontent.com/a/default-user=s64",
      "userId": "02387638799294991184"
     },
     "user_tz": -540
    },
    "id": "XlP0h6Z0fI2H",
    "outputId": "452c30c9-b53c-49ef-88c2-739c2e475415"
   },
   "outputs": [
    {
     "data": {
      "text/plain": [
       "array([2])"
      ]
     },
     "execution_count": 11,
     "metadata": {},
     "output_type": "execute_result"
    }
   ],
   "source": [
    "pipeline.predict(np.array([1, 0.5]).reshape(1, -1))"
   ]
  },
  {
   "cell_type": "code",
   "execution_count": 12,
   "metadata": {
    "executionInfo": {
     "elapsed": 2,
     "status": "ok",
     "timestamp": 1644992958145,
     "user": {
      "displayName": "lover coffee",
      "photoUrl": "https://lh3.googleusercontent.com/a/default-user=s64",
      "userId": "02387638799294991184"
     },
     "user_tz": -540
    },
    "id": "1gpo5SkU7G1C"
   },
   "outputs": [],
   "source": [
    "# 가우시안 분포로 점들을 랜덤하게 생성, center 수 조정\n",
    "X, y = make_blobs(n_samples=40, centers=2, random_state=0)"
   ]
  },
  {
   "cell_type": "code",
   "execution_count": 13,
   "metadata": {
    "colab": {
     "base_uri": "https://localhost:8080/"
    },
    "executionInfo": {
     "elapsed": 3,
     "status": "ok",
     "timestamp": 1644992958656,
     "user": {
      "displayName": "lover coffee",
      "photoUrl": "https://lh3.googleusercontent.com/a/default-user=s64",
      "userId": "02387638799294991184"
     },
     "user_tz": -540
    },
    "id": "fwvlR2Tzcg0W",
    "outputId": "b1c9270e-7893-4455-ca36-b0461e6808a1"
   },
   "outputs": [
    {
     "data": {
      "text/plain": [
       "array([[ 0.62835793,  4.4601363 ],\n",
       "       [ 0.89011768,  1.79849015],\n",
       "       [ 3.19466821, -0.33716216],\n",
       "       [ 3.2460247 ,  2.84942165],\n",
       "       [ 2.50904929,  5.7731461 ],\n",
       "       [ 1.74371499,  0.953829  ],\n",
       "       [-0.07228289,  2.88376939],\n",
       "       [ 1.54561534,  0.45958936],\n",
       "       [ 0.58894326,  4.00148458],\n",
       "       [ 1.28933778,  3.44969159],\n",
       "       [ 1.42013331,  4.63746165],\n",
       "       [ 2.47034915,  4.09862906],\n",
       "       [ 1.84070628,  3.56162231],\n",
       "       [ 1.24212124, -0.82861894],\n",
       "       [ 1.54446238, -0.28296852],\n",
       "       [ 2.78435808,  1.02664657],\n",
       "       [ 2.84382807,  3.32650945],\n",
       "       [ 2.52092996, -0.63858003],\n",
       "       [ 1.9263585 ,  4.15243012],\n",
       "       [-0.73000011,  6.25456272],\n",
       "       [ 1.15980096,  1.28456616],\n",
       "       [ 2.45760916,  0.21285357],\n",
       "       [ 0.80247216,  1.67515402],\n",
       "       [ 2.20656076,  5.50616718],\n",
       "       [ 2.23269366,  0.49588272],\n",
       "       [ 1.42094543,  0.53492249],\n",
       "       [ 2.02708529,  1.32599553],\n",
       "       [ 0.42506917,  1.36044592],\n",
       "       [ 0.44136967,  0.68492338],\n",
       "       [ 1.38280707,  0.5381105 ],\n",
       "       [ 1.0220286 ,  4.11660348],\n",
       "       [ 1.1312175 ,  4.68194985],\n",
       "       [ 1.18447037,  0.318814  ],\n",
       "       [ 1.7373078 ,  4.42546234],\n",
       "       [ 1.14796916,  0.94960906],\n",
       "       [ 0.08848433,  2.32299086],\n",
       "       [ 1.12031365,  5.75806083],\n",
       "       [ 0.87305123,  4.71438583],\n",
       "       [ 2.12178474,  1.20013556],\n",
       "       [-1.57671974,  4.95740592]])"
      ]
     },
     "execution_count": 13,
     "metadata": {},
     "output_type": "execute_result"
    }
   ],
   "source": [
    "X"
   ]
  },
  {
   "cell_type": "code",
   "execution_count": 14,
   "metadata": {
    "colab": {
     "base_uri": "https://localhost:8080/"
    },
    "executionInfo": {
     "elapsed": 4,
     "status": "ok",
     "timestamp": 1644992960032,
     "user": {
      "displayName": "lover coffee",
      "photoUrl": "https://lh3.googleusercontent.com/a/default-user=s64",
      "userId": "02387638799294991184"
     },
     "user_tz": -540
    },
    "id": "fF9yH1wscpzb",
    "outputId": "3c542744-8077-4cc1-a03f-b4df47142c87"
   },
   "outputs": [
    {
     "data": {
      "text/plain": [
       "array([0, 1, 1, 0, 0, 1, 0, 1, 0, 0, 0, 0, 0, 1, 1, 1, 0, 1, 0, 0, 1, 1,\n",
       "       1, 0, 1, 1, 1, 1, 1, 1, 0, 0, 1, 0, 1, 0, 0, 0, 1, 0])"
      ]
     },
     "execution_count": 14,
     "metadata": {},
     "output_type": "execute_result"
    }
   ],
   "source": [
    "y"
   ]
  },
  {
   "cell_type": "code",
   "execution_count": 15,
   "metadata": {
    "colab": {
     "base_uri": "https://localhost:8080/",
     "height": 283
    },
    "executionInfo": {
     "elapsed": 6,
     "status": "ok",
     "timestamp": 1644992961095,
     "user": {
      "displayName": "lover coffee",
      "photoUrl": "https://lh3.googleusercontent.com/a/default-user=s64",
      "userId": "02387638799294991184"
     },
     "user_tz": -540
    },
    "id": "vakmTyGHdxrx",
    "outputId": "47edca77-5aba-40c8-b67d-61bee7359c5c"
   },
   "outputs": [
    {
     "data": {
      "text/plain": [
       "<matplotlib.collections.PathCollection at 0x7fd651495f40>"
      ]
     },
     "execution_count": 15,
     "metadata": {},
     "output_type": "execute_result"
    },
    {
     "data": {
      "image/png": "[encoded data removed]",
      "text/plain": [
       "<Figure size 432x288 with 1 Axes>"
      ]
     },
     "metadata": {
      "needs_background": "light"
     },
     "output_type": "display_data"
    }
   ],
   "source": [
    "plt.scatter(X[:, 0], X[:, 1], c=y, s=30, cmap=plt.cm.Paired)"
   ]
  },
  {
   "cell_type": "code",
   "execution_count": 16,
   "metadata": {
    "colab": {
     "base_uri": "https://localhost:8080/"
    },
    "executionInfo": {
     "elapsed": 2,
     "status": "ok",
     "timestamp": 1644992962676,
     "user": {
      "displayName": "lover coffee",
      "photoUrl": "https://lh3.googleusercontent.com/a/default-user=s64",
      "userId": "02387638799294991184"
     },
     "user_tz": -540
    },
    "id": "MNAs-JSPcguz",
    "outputId": "497fcae5-bf82-4932-ab71-6a29594cec38"
   },
   "outputs": [
    {
     "data": {
      "text/plain": [
       "array([ 0.62835793,  0.89011768,  3.19466821,  3.2460247 ,  2.50904929,\n",
       "        1.74371499, -0.07228289,  1.54561534,  0.58894326,  1.28933778,\n",
       "        1.42013331,  2.47034915,  1.84070628,  1.24212124,  1.54446238,\n",
       "        2.78435808,  2.84382807,  2.52092996,  1.9263585 , -0.73000011,\n",
       "        1.15980096,  2.45760916,  0.80247216,  2.20656076,  2.23269366,\n",
       "        1.42094543,  2.02708529,  0.42506917,  0.44136967,  1.38280707,\n",
       "        1.0220286 ,  1.1312175 ,  1.18447037,  1.7373078 ,  1.14796916,\n",
       "        0.08848433,  1.12031365,  0.87305123,  2.12178474, -1.57671974])"
      ]
     },
     "execution_count": 16,
     "metadata": {},
     "output_type": "execute_result"
    }
   ],
   "source": [
    "X[:, 0]"
   ]
  },
  {
   "cell_type": "code",
   "execution_count": 17,
   "metadata": {
    "colab": {
     "base_uri": "https://localhost:8080/"
    },
    "executionInfo": {
     "elapsed": 3,
     "status": "ok",
     "timestamp": 1644992963241,
     "user": {
      "displayName": "lover coffee",
      "photoUrl": "https://lh3.googleusercontent.com/a/default-user=s64",
      "userId": "02387638799294991184"
     },
     "user_tz": -540
    },
    "id": "jn0Ge_vYclQO",
    "outputId": "376a9672-055e-49ae-9b02-f649fe72e12a"
   },
   "outputs": [
    {
     "data": {
      "text/plain": [
       "array([ 4.4601363 ,  1.79849015, -0.33716216,  2.84942165,  5.7731461 ,\n",
       "        0.953829  ,  2.88376939,  0.45958936,  4.00148458,  3.44969159,\n",
       "        4.63746165,  4.09862906,  3.56162231, -0.82861894, -0.28296852,\n",
       "        1.02664657,  3.32650945, -0.63858003,  4.15243012,  6.25456272,\n",
       "        1.28456616,  0.21285357,  1.67515402,  5.50616718,  0.49588272,\n",
       "        0.53492249,  1.32599553,  1.36044592,  0.68492338,  0.5381105 ,\n",
       "        4.11660348,  4.68194985,  0.318814  ,  4.42546234,  0.94960906,\n",
       "        2.32299086,  5.75806083,  4.71438583,  1.20013556,  4.95740592])"
      ]
     },
     "execution_count": 17,
     "metadata": {},
     "output_type": "execute_result"
    }
   ],
   "source": [
    "X[:, 1]"
   ]
  },
  {
   "cell_type": "code",
   "execution_count": 18,
   "metadata": {
    "executionInfo": {
     "elapsed": 2,
     "status": "ok",
     "timestamp": 1644992963675,
     "user": {
      "displayName": "lover coffee",
      "photoUrl": "https://lh3.googleusercontent.com/a/default-user=s64",
      "userId": "02387638799294991184"
     },
     "user_tz": -540
    },
    "id": "qV2y9j7ufSAN"
   },
   "outputs": [],
   "source": [
    "clf = LinearSVC().fit(X, y)"
   ]
  },
  {
   "cell_type": "code",
   "execution_count": 19,
   "metadata": {
    "colab": {
     "base_uri": "https://localhost:8080/"
    },
    "executionInfo": {
     "elapsed": 2,
     "status": "ok",
     "timestamp": 1644992964494,
     "user": {
      "displayName": "lover coffee",
      "photoUrl": "https://lh3.googleusercontent.com/a/default-user=s64",
      "userId": "02387638799294991184"
     },
     "user_tz": -540
    },
    "id": "0IEkvHxAfheD",
    "outputId": "03df9d5e-e969-4b40-d98c-57b20e9335f7"
   },
   "outputs": [
    {
     "data": {
      "text/plain": [
       "array([[ 0.89011768,  1.79849015],\n",
       "       [ 3.2460247 ,  2.84942165],\n",
       "       [-0.07228289,  2.88376939],\n",
       "       [ 2.84382807,  3.32650945],\n",
       "       [ 1.15980096,  1.28456616],\n",
       "       [ 0.80247216,  1.67515402],\n",
       "       [ 2.02708529,  1.32599553],\n",
       "       [ 0.42506917,  1.36044592],\n",
       "       [ 0.08848433,  2.32299086],\n",
       "       [ 2.12178474,  1.20013556]])"
      ]
     },
     "execution_count": 19,
     "metadata": {},
     "output_type": "execute_result"
    }
   ],
   "source": [
    "decision_function = clf.decision_function(X) # 결정 함수 = np.dot(X, clf.coef_[0]) + clf.intercept_[0]\n",
    "support_vector_indices = np.where(\n",
    "    np.abs(decision_function) <= 1 + 1e-15)[0] # 크기가 일반적으로 1로 제한되는 경계\n",
    "support_vectors = X[support_vector_indices]\n",
    "support_vectors"
   ]
  },
  {
   "cell_type": "code",
   "execution_count": 20,
   "metadata": {
    "colab": {
     "base_uri": "https://localhost:8080/",
     "height": 283
    },
    "executionInfo": {
     "elapsed": 624,
     "status": "ok",
     "timestamp": 1644992966111,
     "user": {
      "displayName": "lover coffee",
      "photoUrl": "https://lh3.googleusercontent.com/a/default-user=s64",
      "userId": "02387638799294991184"
     },
     "user_tz": -540
    },
    "id": "RTtaJ3j9hA2F",
    "outputId": "7d95c968-0441-40a6-c1f0-8cadb258295f"
   },
   "outputs": [
    {
     "data": {
      "text/plain": [
       "<matplotlib.collections.PathCollection at 0x7fd6515c71f0>"
      ]
     },
     "execution_count": 20,
     "metadata": {},
     "output_type": "execute_result"
    },
    {
     "data": {
      "image/png": "[encoded data removed]",
      "text/plain": [
       "<Figure size 432x288 with 1 Axes>"
      ]
     },
     "metadata": {
      "needs_background": "light"
     },
     "output_type": "display_data"
    }
   ],
   "source": [
    "plt.scatter(X[:, 0], X[:, 1], c=y, s=30, cmap=plt.cm.Paired)\n",
    "plt.scatter(support_vectors[:, 0], support_vectors[:, 1], s=100, # s는 크기, facecolor는 채우기, edgecolor 테두리\n",
    "                linewidth=1, facecolors='none', edgecolors='k')"
   ]
  },
  {
   "cell_type": "code",
   "execution_count": 21,
   "metadata": {
    "colab": {
     "base_uri": "https://localhost:8080/",
     "height": 1000
    },
    "executionInfo": {
     "elapsed": 716,
     "status": "ok",
     "timestamp": 1644992967657,
     "user": {
      "displayName": "lover coffee",
      "photoUrl": "https://lh3.googleusercontent.com/a/default-user=s64",
      "userId": "02387638799294991184"
     },
     "user_tz": -540
    },
    "id": "NITlRuZhZ6LU",
    "outputId": "c3f570d1-8d07-4abd-a29d-fe4c043f1407",
    "scrolled": false
   },
   "outputs": [
    {
     "name": "stdout",
     "output_type": "stream",
     "text": [
      "C is 1\n",
      "xlim, ylim\n",
      "(-1.817856959278668, 3.487161924525187) (-1.182778025647436, 6.608721805933875)\n",
      "--------------------------------------------------\n",
      "result of linespace\n",
      "[-1.81785696 -1.70959127 -1.60132558 -1.49305988 -1.38479419 -1.2765285\n",
      " -1.16826281 -1.05999712 -0.95173143 -0.84346574 -0.73520004 -0.62693435\n",
      " -0.51866866 -0.41040297 -0.30213728 -0.19387159 -0.0856059   0.0226598\n",
      "  0.13092549  0.23919118  0.34745687  0.45572256  0.56398825  0.67225395\n",
      "  0.78051964  0.88878533  0.99705102  1.10531671  1.2135824   1.32184809\n",
      "  1.43011379  1.53837948  1.64664517  1.75491086  1.86317655  1.97144224\n",
      "  2.07970793  2.18797363  2.29623932  2.40450501  2.5127707   2.62103639\n",
      "  2.72930208  2.83756778  2.94583347  3.05409916  3.16236485  3.27063054\n",
      "  3.37889623  3.48716192]\n",
      "--------------------------------------------------\n",
      "result of meshgrid\n",
      "[[-1.81785696 -1.70959127 -1.60132558 ...  3.27063054  3.37889623\n",
      "   3.48716192]\n",
      " [-1.81785696 -1.70959127 -1.60132558 ...  3.27063054  3.37889623\n",
      "   3.48716192]\n",
      " [-1.81785696 -1.70959127 -1.60132558 ...  3.27063054  3.37889623\n",
      "   3.48716192]\n",
      " ...\n",
      " [-1.81785696 -1.70959127 -1.60132558 ...  3.27063054  3.37889623\n",
      "   3.48716192]\n",
      " [-1.81785696 -1.70959127 -1.60132558 ...  3.27063054  3.37889623\n",
      "   3.48716192]\n",
      " [-1.81785696 -1.70959127 -1.60132558 ...  3.27063054  3.37889623\n",
      "   3.48716192]] [[-1.18277803 -1.18277803 -1.18277803 ... -1.18277803 -1.18277803\n",
      "  -1.18277803]\n",
      " [-1.02376783 -1.02376783 -1.02376783 ... -1.02376783 -1.02376783\n",
      "  -1.02376783]\n",
      " [-0.86475762 -0.86475762 -0.86475762 ... -0.86475762 -0.86475762\n",
      "  -0.86475762]\n",
      " ...\n",
      " [ 6.2907014   6.2907014   6.2907014  ...  6.2907014   6.2907014\n",
      "   6.2907014 ]\n",
      " [ 6.44971161  6.44971161  6.44971161 ...  6.44971161  6.44971161\n",
      "   6.44971161]\n",
      " [ 6.60872181  6.60872181  6.60872181 ...  6.60872181  6.60872181\n",
      "   6.60872181]]\n",
      "--------------------------------------------------\n",
      "shape of Z, xx\n",
      "(2500,)\n",
      "(50, 50)\n",
      "==================================================\n",
      "C is 100\n",
      "xlim, ylim\n",
      "(-1.817856959278668, 3.487161924525187) (-1.182778025647436, 6.608721805933875)\n",
      "--------------------------------------------------\n",
      "result of linespace\n",
      "[-1.81785696 -1.70959127 -1.60132558 -1.49305988 -1.38479419 -1.2765285\n",
      " -1.16826281 -1.05999712 -0.95173143 -0.84346574 -0.73520004 -0.62693435\n",
      " -0.51866866 -0.41040297 -0.30213728 -0.19387159 -0.0856059   0.0226598\n",
      "  0.13092549  0.23919118  0.34745687  0.45572256  0.56398825  0.67225395\n",
      "  0.78051964  0.88878533  0.99705102  1.10531671  1.2135824   1.32184809\n",
      "  1.43011379  1.53837948  1.64664517  1.75491086  1.86317655  1.97144224\n",
      "  2.07970793  2.18797363  2.29623932  2.40450501  2.5127707   2.62103639\n",
      "  2.72930208  2.83756778  2.94583347  3.05409916  3.16236485  3.27063054\n",
      "  3.37889623  3.48716192]\n",
      "--------------------------------------------------\n",
      "result of meshgrid\n",
      "[[-1.81785696 -1.70959127 -1.60132558 ...  3.27063054  3.37889623\n",
      "   3.48716192]\n",
      " [-1.81785696 -1.70959127 -1.60132558 ...  3.27063054  3.37889623\n",
      "   3.48716192]\n",
      " [-1.81785696 -1.70959127 -1.60132558 ...  3.27063054  3.37889623\n",
      "   3.48716192]\n",
      " ...\n",
      " [-1.81785696 -1.70959127 -1.60132558 ...  3.27063054  3.37889623\n",
      "   3.48716192]\n",
      " [-1.81785696 -1.70959127 -1.60132558 ...  3.27063054  3.37889623\n",
      "   3.48716192]\n",
      " [-1.81785696 -1.70959127 -1.60132558 ...  3.27063054  3.37889623\n",
      "   3.48716192]] [[-1.18277803 -1.18277803 -1.18277803 ... -1.18277803 -1.18277803\n",
      "  -1.18277803]\n",
      " [-1.02376783 -1.02376783 -1.02376783 ... -1.02376783 -1.02376783\n",
      "  -1.02376783]\n",
      " [-0.86475762 -0.86475762 -0.86475762 ... -0.86475762 -0.86475762\n",
      "  -0.86475762]\n",
      " ...\n",
      " [ 6.2907014   6.2907014   6.2907014  ...  6.2907014   6.2907014\n",
      "   6.2907014 ]\n",
      " [ 6.44971161  6.44971161  6.44971161 ...  6.44971161  6.44971161\n",
      "   6.44971161]\n",
      " [ 6.60872181  6.60872181  6.60872181 ...  6.60872181  6.60872181\n",
      "   6.60872181]]\n",
      "--------------------------------------------------\n",
      "shape of Z, xx\n",
      "(2500,)\n",
      "(50, 50)\n",
      "==================================================\n"
     ]
    },
    {
     "data": {
      "image/png": "[encoded data removed]",
      "text/plain": [
       "<Figure size 720x360 with 2 Axes>"
      ]
     },
     "metadata": {
      "needs_background": "light"
     },
     "output_type": "display_data"
    }
   ],
   "source": [
    "plt.figure(figsize=(10, 5))\n",
    "for i, C in enumerate([1, 100]):\n",
    "    print('C is', C)\n",
    "    clf = LinearSVC(C=C,random_state=42).fit(X, y)\n",
    "    decision_function = clf.decision_function(X)\n",
    "    support_vector_indices = np.where(\n",
    "        np.abs(decision_function) <= 1 + 1e-15)[0]\n",
    "    support_vectors = X[support_vector_indices]\n",
    "\n",
    "    plt.subplot(1, 2, i + 1)\n",
    "    plt.scatter(X[:, 0], X[:, 1], c=y, s=30, cmap=plt.cm.Paired) # 입력 데이터\n",
    "    ax = plt.gca()\n",
    "    xlim = ax.get_xlim() #x 축의 lim\n",
    "    ylim = ax.get_ylim() #y 축의 lim\n",
    "    print('xlim, ylim')\n",
    "    print(xlim, ylim)\n",
    "    print('-'*50)\n",
    "    xx, yy = np.meshgrid(np.linspace(xlim[0], xlim[1], 50), # meshgrid는 격자를 만들어주는 것 coordinate vectors -> coordinate matrix\n",
    "                         np.linspace(ylim[0], ylim[1], 50))\n",
    "    print('result of linespace')\n",
    "    print(np.linspace(xlim[0], xlim[1], 50)) # 1차원 배열 만들기 ~에서 ~까지, ~개로\n",
    "    print('-'*50)\n",
    "    print('result of meshgrid')\n",
    "    print(xx, yy) \n",
    "    print('-'*50)\n",
    "    Z = clf.decision_function(np.c_[xx.ravel(), yy.ravel()])\n",
    "    print('shape of Z, xx')\n",
    "    print(Z.shape)\n",
    "    print(xx.shape)\n",
    "    Z = Z.reshape(xx.shape)\n",
    "    # plt.contour(xx, yy, Z, colors='k', alpha=0.5,\n",
    "    #            linestyles=['--', '-', '--'])\n",
    "    plt.contour(xx, yy, Z, colors='k', levels=[-1, 0, 1], alpha=0.5,\n",
    "                linestyles=['--', '-', '--'])\n",
    "    plt.scatter(support_vectors[:, 0], support_vectors[:, 1], s=100, # support vector\n",
    "                linewidth=1, facecolors='none', edgecolors='k')\n",
    "    plt.title(\"C=\" + str(C))\n",
    "    print('='*50)\n",
    "plt.tight_layout()\n",
    "plt.show()"
   ]
  },
  {
   "cell_type": "code",
   "execution_count": 22,
   "metadata": {
    "colab": {
     "base_uri": "https://localhost:8080/"
    },
    "executionInfo": {
     "elapsed": 408,
     "status": "ok",
     "timestamp": 1644992970080,
     "user": {
      "displayName": "lover coffee",
      "photoUrl": "https://lh3.googleusercontent.com/a/default-user=s64",
      "userId": "02387638799294991184"
     },
     "user_tz": -540
    },
    "id": "vLH0-tl1jeRL",
    "outputId": "43208d92-0c29-45b3-b2de-06a5e7deb6b0"
   },
   "outputs": [
    {
     "data": {
      "text/plain": [
       "array([1., 2., 3.])"
      ]
     },
     "execution_count": 22,
     "metadata": {},
     "output_type": "execute_result"
    }
   ],
   "source": [
    "np.linspace(1,3,3)"
   ]
  },
  {
   "cell_type": "code",
   "execution_count": 23,
   "metadata": {
    "colab": {
     "base_uri": "https://localhost:8080/"
    },
    "executionInfo": {
     "elapsed": 2,
     "status": "ok",
     "timestamp": 1644992971290,
     "user": {
      "displayName": "lover coffee",
      "photoUrl": "https://lh3.googleusercontent.com/a/default-user=s64",
      "userId": "02387638799294991184"
     },
     "user_tz": -540
    },
    "id": "8XegqUpPjp5p",
    "outputId": "97cbc92e-bdaa-4195-9155-c5f6bb076f8e"
   },
   "outputs": [
    {
     "data": {
      "text/plain": [
       "array([4., 5., 6.])"
      ]
     },
     "execution_count": 23,
     "metadata": {},
     "output_type": "execute_result"
    }
   ],
   "source": [
    "np.linspace(4,6,3)"
   ]
  },
  {
   "cell_type": "code",
   "execution_count": 24,
   "metadata": {
    "colab": {
     "base_uri": "https://localhost:8080/"
    },
    "executionInfo": {
     "elapsed": 418,
     "status": "ok",
     "timestamp": 1644992972258,
     "user": {
      "displayName": "lover coffee",
      "photoUrl": "https://lh3.googleusercontent.com/a/default-user=s64",
      "userId": "02387638799294991184"
     },
     "user_tz": -540
    },
    "id": "UVWcMDC6iwgt",
    "outputId": "1e35c817-3a86-4985-b98d-2551cfdab6f2"
   },
   "outputs": [
    {
     "data": {
      "text/plain": [
       "[array([[1, 2, 3],\n",
       "        [1, 2, 3],\n",
       "        [1, 2, 3]]),\n",
       " array([[4, 4, 4],\n",
       "        [5, 5, 5],\n",
       "        [6, 6, 6]])]"
      ]
     },
     "execution_count": 24,
     "metadata": {},
     "output_type": "execute_result"
    }
   ],
   "source": [
    "a = np.meshgrid([1,2,3] ,[4,5,6])\n",
    "a"
   ]
  },
  {
   "cell_type": "code",
   "execution_count": 25,
   "metadata": {
    "colab": {
     "base_uri": "https://localhost:8080/"
    },
    "executionInfo": {
     "elapsed": 3,
     "status": "ok",
     "timestamp": 1644992972690,
     "user": {
      "displayName": "lover coffee",
      "photoUrl": "https://lh3.googleusercontent.com/a/default-user=s64",
      "userId": "02387638799294991184"
     },
     "user_tz": -540
    },
    "id": "ChETIDXri65w",
    "outputId": "e959c5e7-3940-4dfc-bc85-7bcfcb4ed649"
   },
   "outputs": [
    {
     "data": {
      "text/plain": [
       "array([[1, 2, 3],\n",
       "       [1, 2, 3],\n",
       "       [1, 2, 3]])"
      ]
     },
     "execution_count": 25,
     "metadata": {},
     "output_type": "execute_result"
    }
   ],
   "source": [
    "a[0]"
   ]
  },
  {
   "cell_type": "code",
   "execution_count": 26,
   "metadata": {
    "colab": {
     "base_uri": "https://localhost:8080/"
    },
    "executionInfo": {
     "elapsed": 3,
     "status": "ok",
     "timestamp": 1644992974145,
     "user": {
      "displayName": "lover coffee",
      "photoUrl": "https://lh3.googleusercontent.com/a/default-user=s64",
      "userId": "02387638799294991184"
     },
     "user_tz": -540
    },
    "id": "iD5cV0HGi6wK",
    "outputId": "424ac196-40e4-4021-b6fc-e38ab19e5fc2"
   },
   "outputs": [
    {
     "data": {
      "text/plain": [
       "array([[4, 4, 4],\n",
       "       [5, 5, 5],\n",
       "       [6, 6, 6]])"
      ]
     },
     "execution_count": 26,
     "metadata": {},
     "output_type": "execute_result"
    }
   ],
   "source": [
    "a[1]"
   ]
  },
  {
   "cell_type": "code",
   "execution_count": 27,
   "metadata": {
    "colab": {
     "base_uri": "https://localhost:8080/"
    },
    "executionInfo": {
     "elapsed": 8,
     "status": "ok",
     "timestamp": 1644992974671,
     "user": {
      "displayName": "lover coffee",
      "photoUrl": "https://lh3.googleusercontent.com/a/default-user=s64",
      "userId": "02387638799294991184"
     },
     "user_tz": -540
    },
    "id": "cdvraCvMZ6hC",
    "outputId": "bef8d07a-5054-40f3-f01b-f3d029ade132"
   },
   "outputs": [
    {
     "data": {
      "text/plain": [
       "[array([[1., 2., 3.],\n",
       "        [1., 2., 3.],\n",
       "        [1., 2., 3.]]),\n",
       " array([[4., 4., 4.],\n",
       "        [5., 5., 5.],\n",
       "        [6., 6., 6.]])]"
      ]
     },
     "execution_count": 27,
     "metadata": {},
     "output_type": "execute_result"
    }
   ],
   "source": [
    "np.meshgrid(np.linspace(1,3,3), np.linspace(4,6,3))"
   ]
  },
  {
   "cell_type": "code",
   "execution_count": 28,
   "metadata": {
    "executionInfo": {
     "elapsed": 2,
     "status": "ok",
     "timestamp": 1644992975609,
     "user": {
      "displayName": "lover coffee",
      "photoUrl": "https://lh3.googleusercontent.com/a/default-user=s64",
      "userId": "02387638799294991184"
     },
     "user_tz": -540
    },
    "id": "P2L2eT40kL7k"
   },
   "outputs": [],
   "source": [
    "a = np.array([[0,1],\n",
    "               [2,3]])"
   ]
  },
  {
   "cell_type": "code",
   "execution_count": 29,
   "metadata": {
    "colab": {
     "base_uri": "https://localhost:8080/"
    },
    "executionInfo": {
     "elapsed": 6,
     "status": "ok",
     "timestamp": 1644992976071,
     "user": {
      "displayName": "lover coffee",
      "photoUrl": "https://lh3.googleusercontent.com/a/default-user=s64",
      "userId": "02387638799294991184"
     },
     "user_tz": -540
    },
    "id": "kYthIZp4Bp7F",
    "outputId": "ba0a2faf-2576-4d43-8d63-0e7599df27c0"
   },
   "outputs": [
    {
     "data": {
      "text/plain": [
       "(2, 2)"
      ]
     },
     "execution_count": 29,
     "metadata": {},
     "output_type": "execute_result"
    }
   ],
   "source": [
    "a.shape"
   ]
  },
  {
   "cell_type": "code",
   "execution_count": 30,
   "metadata": {
    "colab": {
     "base_uri": "https://localhost:8080/"
    },
    "executionInfo": {
     "elapsed": 3,
     "status": "ok",
     "timestamp": 1644992976976,
     "user": {
      "displayName": "lover coffee",
      "photoUrl": "https://lh3.googleusercontent.com/a/default-user=s64",
      "userId": "02387638799294991184"
     },
     "user_tz": -540
    },
    "id": "wQWcLQH8kOPu",
    "outputId": "e1097cec-e2b1-4119-9700-a8e04ead6162"
   },
   "outputs": [
    {
     "data": {
      "text/plain": [
       "array([0, 1, 2, 3])"
      ]
     },
     "execution_count": 30,
     "metadata": {},
     "output_type": "execute_result"
    }
   ],
   "source": [
    "a1 = a.ravel()\n",
    "a1"
   ]
  },
  {
   "cell_type": "code",
   "execution_count": 31,
   "metadata": {
    "colab": {
     "base_uri": "https://localhost:8080/"
    },
    "executionInfo": {
     "elapsed": 4,
     "status": "ok",
     "timestamp": 1644992977387,
     "user": {
      "displayName": "lover coffee",
      "photoUrl": "https://lh3.googleusercontent.com/a/default-user=s64",
      "userId": "02387638799294991184"
     },
     "user_tz": -540
    },
    "id": "uqlxHIKRkXE0",
    "outputId": "92a2995d-17c3-430c-9144-bcdf83ee7229"
   },
   "outputs": [
    {
     "data": {
      "text/plain": [
       "array([0, 1, 2, 3])"
      ]
     },
     "execution_count": 31,
     "metadata": {},
     "output_type": "execute_result"
    }
   ],
   "source": [
    "a2 = a.reshape(-1)\n",
    "a2"
   ]
  },
  {
   "cell_type": "code",
   "execution_count": 32,
   "metadata": {
    "colab": {
     "base_uri": "https://localhost:8080/"
    },
    "executionInfo": {
     "elapsed": 44,
     "status": "ok",
     "timestamp": 1644992977880,
     "user": {
      "displayName": "lover coffee",
      "photoUrl": "https://lh3.googleusercontent.com/a/default-user=s64",
      "userId": "02387638799294991184"
     },
     "user_tz": -540
    },
    "id": "G2jI_LrGkW-6",
    "outputId": "0a892ae9-28ff-4ce1-e063-b54476a1f2a3"
   },
   "outputs": [
    {
     "data": {
      "text/plain": [
       "array([0, 1, 2, 3])"
      ]
     },
     "execution_count": 32,
     "metadata": {},
     "output_type": "execute_result"
    }
   ],
   "source": [
    "a3 = a.flatten()\n",
    "a3"
   ]
  },
  {
   "cell_type": "code",
   "execution_count": 33,
   "metadata": {
    "executionInfo": {
     "elapsed": 2,
     "status": "ok",
     "timestamp": 1644992978680,
     "user": {
      "displayName": "lover coffee",
      "photoUrl": "https://lh3.googleusercontent.com/a/default-user=s64",
      "userId": "02387638799294991184"
     },
     "user_tz": -540
    },
    "id": "P1lveK_3kONZ"
   },
   "outputs": [],
   "source": [
    "a[0][0] = -1"
   ]
  },
  {
   "cell_type": "code",
   "execution_count": 34,
   "metadata": {
    "colab": {
     "base_uri": "https://localhost:8080/"
    },
    "executionInfo": {
     "elapsed": 3,
     "status": "ok",
     "timestamp": 1644992979250,
     "user": {
      "displayName": "lover coffee",
      "photoUrl": "https://lh3.googleusercontent.com/a/default-user=s64",
      "userId": "02387638799294991184"
     },
     "user_tz": -540
    },
    "id": "WWCYOWVZkOLI",
    "outputId": "7535b567-073e-4aae-bffc-9b77bb34595a"
   },
   "outputs": [
    {
     "name": "stdout",
     "output_type": "stream",
     "text": [
      "[[-1  1]\n",
      " [ 2  3]]\n",
      "[-1  1  2  3]\n",
      "[-1  1  2  3]\n",
      "[0 1 2 3]\n"
     ]
    }
   ],
   "source": [
    "print(a)\n",
    "print(a1) # 복사 X -> 원본에 영향\n",
    "print(a2) # 복사 X -> 원본에 영향\n",
    "print(a3) # 복사 O -> 원본에 영향 X"
   ]
  },
  {
   "cell_type": "code",
   "execution_count": 35,
   "metadata": {
    "executionInfo": {
     "elapsed": 2,
     "status": "ok",
     "timestamp": 1644992980159,
     "user": {
      "displayName": "lover coffee",
      "photoUrl": "https://lh3.googleusercontent.com/a/default-user=s64",
      "userId": "02387638799294991184"
     },
     "user_tz": -540
    },
    "id": "NtMyRO6xkOJC"
   },
   "outputs": [],
   "source": [
    "a1[-1] = -4"
   ]
  },
  {
   "cell_type": "code",
   "execution_count": 36,
   "metadata": {
    "colab": {
     "base_uri": "https://localhost:8080/"
    },
    "executionInfo": {
     "elapsed": 3,
     "status": "ok",
     "timestamp": 1644992980616,
     "user": {
      "displayName": "lover coffee",
      "photoUrl": "https://lh3.googleusercontent.com/a/default-user=s64",
      "userId": "02387638799294991184"
     },
     "user_tz": -540
    },
    "id": "eDSIrcURk5iy",
    "outputId": "400e4e8d-f93a-419a-b20f-91576e634d18"
   },
   "outputs": [
    {
     "name": "stdout",
     "output_type": "stream",
     "text": [
      "[[-1  1]\n",
      " [ 2 -4]]\n",
      "[-1  1  2 -4]\n",
      "[-1  1  2 -4]\n",
      "[0 1 2 3]\n"
     ]
    }
   ],
   "source": [
    "print(a)\n",
    "print(a1) # 복사 X -> 원본에 영향\n",
    "print(a2) # 복사 X -> 원본에 영향\n",
    "print(a3) # 복사 O -> 원본에 영향 X"
   ]
  },
  {
   "cell_type": "code",
   "execution_count": null,
   "metadata": {
    "executionInfo": {
     "elapsed": 2,
     "status": "ok",
     "timestamp": 1644992981043,
     "user": {
      "displayName": "lover coffee",
      "photoUrl": "https://lh3.googleusercontent.com/a/default-user=s64",
      "userId": "02387638799294991184"
     },
     "user_tz": -540
    },
    "id": "8d1wiPmjk5gg"
   },
   "outputs": [],
   "source": []
  },
  {
   "cell_type": "code",
   "execution_count": 37,
   "metadata": {
    "executionInfo": {
     "elapsed": 3,
     "status": "ok",
     "timestamp": 1644992981646,
     "user": {
      "displayName": "lover coffee",
      "photoUrl": "https://lh3.googleusercontent.com/a/default-user=s64",
      "userId": "02387638799294991184"
     },
     "user_tz": -540
    },
    "id": "0Cs-ck09lQQC"
   },
   "outputs": [],
   "source": [
    "a = np.linspace(1,3,3)\n",
    "b = np.linspace(4,6,3)"
   ]
  },
  {
   "cell_type": "code",
   "execution_count": 38,
   "metadata": {
    "colab": {
     "base_uri": "https://localhost:8080/"
    },
    "executionInfo": {
     "elapsed": 9,
     "status": "ok",
     "timestamp": 1644992982163,
     "user": {
      "displayName": "lover coffee",
      "photoUrl": "https://lh3.googleusercontent.com/a/default-user=s64",
      "userId": "02387638799294991184"
     },
     "user_tz": -540
    },
    "id": "zU-WR8Kak5eX",
    "outputId": "2b45ad82-75f0-482a-b3be-b85ec3c65be8"
   },
   "outputs": [
    {
     "name": "stdout",
     "output_type": "stream",
     "text": [
      "[[1. 4.]\n",
      " [2. 5.]\n",
      " [3. 6.]]\n",
      "[[1. 4.]\n",
      " [2. 5.]\n",
      " [3. 6.]]\n"
     ]
    }
   ],
   "source": [
    "c1 = np.c_[a, b]\n",
    "print(c1)\n",
    "c2 = np.column_stack([a, b]) #vstack 이나 hstack과는 또 다른!\n",
    "print(c2)"
   ]
  },
  {
   "cell_type": "code",
   "execution_count": null,
   "metadata": {
    "executionInfo": {
     "elapsed": 2,
     "status": "ok",
     "timestamp": 1644992982709,
     "user": {
      "displayName": "lover coffee",
      "photoUrl": "https://lh3.googleusercontent.com/a/default-user=s64",
      "userId": "02387638799294991184"
     },
     "user_tz": -540
    },
    "id": "xAexiED1EMK9"
   },
   "outputs": [],
   "source": []
  },
  {
   "cell_type": "code",
   "execution_count": 39,
   "metadata": {
    "colab": {
     "base_uri": "https://localhost:8080/"
    },
    "executionInfo": {
     "elapsed": 51,
     "status": "ok",
     "timestamp": 1644992983248,
     "user": {
      "displayName": "lover coffee",
      "photoUrl": "https://lh3.googleusercontent.com/a/default-user=s64",
      "userId": "02387638799294991184"
     },
     "user_tz": -540
    },
    "id": "RVmI4q6YEMIJ",
    "outputId": "747c4b63-ecb5-427c-c227-626e50d6ce7b"
   },
   "outputs": [
    {
     "name": "stdout",
     "output_type": "stream",
     "text": [
      "0 a\n",
      "1 b\n",
      "2 c\n"
     ]
    }
   ],
   "source": [
    "names = ['a', 'b', 'c']\n",
    "\n",
    "for i, name in enumerate(names):\n",
    "  print(i, name)"
   ]
  },
  {
   "cell_type": "code",
   "execution_count": null,
   "metadata": {
    "executionInfo": {
     "elapsed": 4,
     "status": "ok",
     "timestamp": 1644992983249,
     "user": {
      "displayName": "lover coffee",
      "photoUrl": "https://lh3.googleusercontent.com/a/default-user=s64",
      "userId": "02387638799294991184"
     },
     "user_tz": -540
    },
    "id": "i360p5jJj2sa"
   },
   "outputs": [],
   "source": []
  },
  {
   "cell_type": "code",
   "execution_count": 40,
   "metadata": {
    "colab": {
     "base_uri": "https://localhost:8080/",
     "height": 369
    },
    "executionInfo": {
     "elapsed": 718,
     "status": "ok",
     "timestamp": 1644992984392,
     "user": {
      "displayName": "lover coffee",
      "photoUrl": "https://lh3.googleusercontent.com/a/default-user=s64",
      "userId": "02387638799294991184"
     },
     "user_tz": -540
    },
    "id": "_t9JX7n0ndci",
    "outputId": "4a41f79d-6373-40dd-e39f-ed88c562ef6f"
   },
   "outputs": [
    {
     "data": {
      "image/png": "[encoded data removed]",
      "text/plain": [
       "<Figure size 720x360 with 2 Axes>"
      ]
     },
     "metadata": {
      "needs_background": "light"
     },
     "output_type": "display_data"
    }
   ],
   "source": [
    "plt.figure(figsize=(10, 5))\n",
    "for i, C in enumerate([1, 100]):\n",
    "    clf = SVC(C=C,random_state=42).fit(X, y) # linear -> svm + rbf\n",
    "    decision_function = clf.decision_function(X)\n",
    "    support_vector_indices = np.where(\n",
    "        np.abs(decision_function) <= 1 + 1e-15)[0]\n",
    "    support_vectors = X[support_vector_indices]\n",
    "\n",
    "    plt.subplot(1, 2, i + 1)\n",
    "    plt.scatter(X[:, 0], X[:, 1], c=y, s=30, cmap=plt.cm.Paired) \n",
    "    ax = plt.gca()\n",
    "    xlim = ax.get_xlim() \n",
    "    ylim = ax.get_ylim() \n",
    "    xx, yy = np.meshgrid(np.linspace(xlim[0], xlim[1], 50),\n",
    "                         np.linspace(ylim[0], ylim[1], 50))\n",
    "    Z = clf.decision_function(np.c_[xx.ravel(), yy.ravel()])\n",
    "    Z = Z.reshape(xx.shape)\n",
    "    plt.contour(xx, yy, Z, colors='k', levels=[-1, 0, 1], alpha=0.5,\n",
    "                linestyles=['--', '-', '--'])\n",
    "    plt.scatter(support_vectors[:, 0], support_vectors[:, 1], s=100, # support vector\n",
    "                linewidth=1, facecolors='none', edgecolors='k')\n",
    "    plt.title(\"C=\" + str(C))\n",
    "plt.tight_layout()\n",
    "plt.show()"
   ]
  },
  {
   "cell_type": "code",
   "execution_count": null,
   "metadata": {
    "executionInfo": {
     "elapsed": 13,
     "status": "ok",
     "timestamp": 1644992984393,
     "user": {
      "displayName": "lover coffee",
      "photoUrl": "https://lh3.googleusercontent.com/a/default-user=s64",
      "userId": "02387638799294991184"
     },
     "user_tz": -540
    },
    "id": "P5WWInkXouEk"
   },
   "outputs": [],
   "source": []
  },
  {
   "cell_type": "code",
   "execution_count": 41,
   "metadata": {
    "colab": {
     "base_uri": "https://localhost:8080/",
     "height": 369
    },
    "executionInfo": {
     "elapsed": 950,
     "status": "ok",
     "timestamp": 1644992985331,
     "user": {
      "displayName": "lover coffee",
      "photoUrl": "https://lh3.googleusercontent.com/a/default-user=s64",
      "userId": "02387638799294991184"
     },
     "user_tz": -540
    },
    "id": "MKzp3HGOndaD",
    "outputId": "f2a88874-ed0f-43a8-ce81-548559ff3341"
   },
   "outputs": [
    {
     "data": {
      "image/png": "[encoded data removed]",
      "text/plain": [
       "<Figure size 720x360 with 2 Axes>"
      ]
     },
     "metadata": {
      "needs_background": "light"
     },
     "output_type": "display_data"
    }
   ],
   "source": [
    "plt.figure(figsize=(10, 5))\n",
    "for i, C in enumerate([1, 100]):\n",
    "    X = StandardScaler().fit_transform(X) # scaler 추가\n",
    "    clf = SVC(C=C,random_state=42).fit(X, y)\n",
    "    decision_function = clf.decision_function(X)\n",
    "    support_vector_indices = np.where(\n",
    "        np.abs(decision_function) <= 1 + 1e-15)[0]\n",
    "    support_vectors = X[support_vector_indices]\n",
    "\n",
    "    plt.subplot(1, 2, i + 1)\n",
    "    plt.scatter(X[:, 0], X[:, 1], c=y, s=30, cmap=plt.cm.Paired) \n",
    "    ax = plt.gca()\n",
    "    xlim = ax.get_xlim() \n",
    "    ylim = ax.get_ylim() \n",
    "    xx, yy = np.meshgrid(np.linspace(xlim[0], xlim[1], 50),\n",
    "                         np.linspace(ylim[0], ylim[1], 50))\n",
    "    Z = clf.decision_function(np.c_[xx.ravel(), yy.ravel()])\n",
    "    Z = Z.reshape(xx.shape)\n",
    "    plt.contour(xx, yy, Z, colors='k', levels=[-1, 0, 1], alpha=0.5,\n",
    "                linestyles=['--', '-', '--'])\n",
    "    plt.scatter(support_vectors[:, 0], support_vectors[:, 1], s=100, # support vector\n",
    "                linewidth=1, facecolors='none', edgecolors='k')\n",
    "    plt.title(\"C=\" + str(C))\n",
    "plt.tight_layout()\n",
    "plt.show()"
   ]
  },
  {
   "cell_type": "code",
   "execution_count": 42,
   "metadata": {
    "colab": {
     "base_uri": "https://localhost:8080/",
     "height": 369
    },
    "executionInfo": {
     "elapsed": 888,
     "status": "ok",
     "timestamp": 1644992986212,
     "user": {
      "displayName": "lover coffee",
      "photoUrl": "https://lh3.googleusercontent.com/a/default-user=s64",
      "userId": "02387638799294991184"
     },
     "user_tz": -540
    },
    "id": "-wIi8zKQndXn",
    "outputId": "c1050361-45c6-4a1d-8d22-f3332acf29a0"
   },
   "outputs": [
    {
     "data": {
      "image/png": "[encoded data removed]",
      "text/plain": [
       "<Figure size 720x360 with 2 Axes>"
      ]
     },
     "metadata": {
      "needs_background": "light"
     },
     "output_type": "display_data"
    }
   ],
   "source": [
    "plt.figure(figsize=(10, 5))\n",
    "for i, C in enumerate([1, 100]):\n",
    "    #X = StandardScaler().fit_transform(X)\n",
    "    #clf = SVC(C=C,random_state=42).fit(X, y)\n",
    "    clf = make_pipeline(StandardScaler(), SVC(gamma='auto')).fit(X, y) # pipeline으로 묶기\n",
    "    decision_function = clf.decision_function(X)\n",
    "    support_vector_indices = np.where(\n",
    "        np.abs(decision_function) <= 1 + 1e-15)[0]\n",
    "    support_vectors = X[support_vector_indices]\n",
    "\n",
    "    plt.subplot(1, 2, i + 1)\n",
    "    plt.scatter(X[:, 0], X[:, 1], c=y, s=30, cmap=plt.cm.Paired) \n",
    "    ax = plt.gca()\n",
    "    xlim = ax.get_xlim() \n",
    "    ylim = ax.get_ylim() \n",
    "    xx, yy = np.meshgrid(np.linspace(xlim[0], xlim[1], 50),\n",
    "                         np.linspace(ylim[0], ylim[1], 50))\n",
    "    Z = clf.decision_function(np.c_[xx.ravel(), yy.ravel()])\n",
    "    Z = Z.reshape(xx.shape)\n",
    "    plt.contour(xx, yy, Z, colors='k', levels=[-1, 0, 1], alpha=0.5,\n",
    "                linestyles=['--', '-', '--'])\n",
    "    plt.scatter(support_vectors[:, 0], support_vectors[:, 1], s=100, # support vector\n",
    "                linewidth=1, facecolors='none', edgecolors='k')\n",
    "    plt.title(\"C=\" + str(C))\n",
    "plt.tight_layout()\n",
    "plt.show()"
   ]
  }
 ],
 "metadata": {
  "colab": {
   "authorship_tag": "ABX9TyNLjjE9UPzsztg9dVtBTQ4O",
   "collapsed_sections": [],
   "name": "Unit_5.ipynb",
   "provenance": []
  },
  "kernelspec": {
   "display_name": "Python 3",
   "language": "python",
   "name": "python3"
  },
  "language_info": {
   "codemirror_mode": {
    "name": "ipython",
    "version": 3
   },
   "file_extension": ".py",
   "mimetype": "text/x-python",
   "name": "python",
   "nbconvert_exporter": "python",
   "pygments_lexer": "ipython3",
   "version": "3.8.8"
  },
  "toc": {
   "base_numbering": 1,
   "nav_menu": {},
   "number_sections": true,
   "sideBar": true,
   "skip_h1_title": false,
   "title_cell": "Table of Contents",
   "title_sidebar": "Contents",
   "toc_cell": false,
   "toc_position": {},
   "toc_section_display": true,
   "toc_window_display": true
  },
  "varInspector": {
   "cols": {
    "lenName": 16,
    "lenType": 16,
    "lenVar": 40
   },
   "kernels_config": {
    "python": {
     "delete_cmd_postfix": "",
     "delete_cmd_prefix": "del ",
     "library": "var_list.py",
     "varRefreshCmd": "print(var_dic_list())"
    },
    "r": {
     "delete_cmd_postfix": ") ",
     "delete_cmd_prefix": "rm(",
     "library": "var_list.r",
     "varRefreshCmd": "cat(var_dic_list()) "
    }
   },
   "types_to_exclude": [
    "module",
    "function",
    "builtin_function_or_method",
    "instance",
    "_Feature"
   ],
   "window_display": false
  }
 },
 "nbformat": 4,
 "nbformat_minor": 1
}
